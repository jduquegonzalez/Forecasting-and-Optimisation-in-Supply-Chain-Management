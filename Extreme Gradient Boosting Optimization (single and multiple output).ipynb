{
 "cells": [
  {
   "cell_type": "markdown",
   "id": "ccbd9480",
   "metadata": {},
   "source": [
    "## Extreme Gradient Boosting\n",
    "(Comments and codes come from the Nicolas Vandepu's book \"Data Science for Supply Chain Forecasting\")\n",
    "\n",
    "Chen and Guestrin (from the University of Washington) proposed a new gradient boosting algorithm—called Extreme Gradient Boosting or XGBoost—and formalized it in 2016.2 The data science community has since widely used this implementation, with excellent results. This is simply one of the most powerful machine learning algorithms currently available.\n",
    "\n",
    "As users, XGBoost will bring us three improvements compared to AdaBoost and regular Gradient Boosting: \n",
    "                \n",
    "- XGBoost is faster. \n",
    "- XGBoost is (generally) better \n",
    "- XGBoost allows for more parameters to be optimized."
   ]
  },
  {
   "cell_type": "code",
   "execution_count": 1,
   "id": "07a5e578",
   "metadata": {},
   "outputs": [
    {
     "name": "stdout",
     "output_type": "stream",
     "text": [
      "             Quantity                                                          \\\n",
      "Period        2007-01 2007-02 2007-03 2007-04 2007-05 2007-06 2007-07 2007-08   \n",
      "Make                                                                            \n",
      "Alfa Romeo         16       9      21      20      17      21      14      12   \n",
      "Aston Martin        0       0       1       0       4       3       3       0   \n",
      "Audi              599     498     682     556     630     498     562     590   \n",
      "BMW               352     335     365     360     431     477     403     348   \n",
      "Bentley             0       0       0       0       0       1       0       0   \n",
      "\n",
      "                              ...                                          \\\n",
      "Period       2007-09 2007-10  ... 2016-04 2016-05 2016-06 2016-07 2016-08   \n",
      "Make                          ...                                           \n",
      "Alfa Romeo        15      10  ...       3       1       2       1       6   \n",
      "Aston Martin       0       0  ...       0       0       1       0       0   \n",
      "Audi             393     554  ...     685     540     551     687     794   \n",
      "BMW              271     562  ...    1052     832     808     636    1031   \n",
      "Bentley            0       0  ...       0       0       1       1       1   \n",
      "\n",
      "                                                      \n",
      "Period       2016-09 2016-10 2016-11 2016-12 2017-01  \n",
      "Make                                                  \n",
      "Alfa Romeo        15       3       4       3       6  \n",
      "Aston Martin       0       0       0       0       0  \n",
      "Audi             688     603     645     827     565  \n",
      "BMW             1193    1096    1663     866    1540  \n",
      "Bentley            0       0       0       0       0  \n",
      "\n",
      "[5 rows x 121 columns]\n"
     ]
    }
   ],
   "source": [
    "import pandas as pd\n",
    "\n",
    "# Define the import_data function\n",
    "def import_data():\n",
    "    data = pd.read_csv(file_path)\n",
    "    data['Period'] = data['Year'].astype(str) + '-' + data['Month'].astype(str).str.zfill(2)\n",
    "    df = pd.pivot_table(data=data, values=['Quantity'], index='Make', columns='Period', aggfunc='sum', fill_value=0)\n",
    "    return df\n",
    "\n",
    "# URL of the CSV file\n",
    "file_path = \"https://supchains.com/wp-content/uploads/2021/07/norway_new_car_sales_by_make1.csv\"\n",
    "\n",
    "# Create the DataFrame using the import_data function\n",
    "df = import_data()\n",
    "\n",
    "# Now 'df' contains the data from the provided URL in the desired format.\n",
    "\n",
    "# Print the DataFrame\n",
    "print(df.head())"
   ]
  },
  {
   "cell_type": "markdown",
   "id": "725f4ac3",
   "metadata": {},
   "source": [
    "### Training and Test Sets Creation\n",
    "Now that we have our dataset with the proper formatting, we can create a function datasets() to populate a training and a test set."
   ]
  },
  {
   "cell_type": "code",
   "execution_count": 2,
   "id": "ae7d785e",
   "metadata": {},
   "outputs": [],
   "source": [
    "import numpy as np\n",
    "\n",
    "# Define the datasets function with x_len as an argument\n",
    "def datasets(df, x_len=12, y_len=1, test_loops=12):\n",
    "    D = df.values\n",
    "    rows, periods = D.shape\n",
    "    \n",
    "    # Training set creation\n",
    "    loops = periods + 1 - x_len - y_len\n",
    "    train = []\n",
    "    for col in range(loops):\n",
    "        train.append(D[:, col:col + x_len + y_len])\n",
    "    train = np.vstack(train)\n",
    "    X_train, Y_train = np.split(train, [-y_len], axis=1)\n",
    "    \n",
    "    # Test set creation\n",
    "    if test_loops > 0:\n",
    "        X_train, X_test = np.split(X_train, [-rows * test_loops], axis=0)\n",
    "        Y_train, Y_test = np.split(Y_train, [-rows * test_loops], axis=0)\n",
    "    else:\n",
    "        X_test = D[:, -x_len:]\n",
    "        Y_test = np.full((X_test.shape[0], y_len), np.nan)\n",
    "    \n",
    "    # Formatting required for scikit-learn\n",
    "    if y_len == 1:\n",
    "        Y_train = Y_train.ravel()\n",
    "        Y_test = Y_test.ravel()\n",
    "        \n",
    "    return X_train, Y_train, X_test, Y_test"
   ]
  },
  {
   "cell_type": "markdown",
   "id": "31fafc95",
   "metadata": {},
   "source": [
    "### Call our new function datasets(df) as well as import_data()\n",
    "We can now easily call our new function datasets(df) as well as import_data(). We obtain the datasets we need to feed our machine learning algorithm (X_train and Y_train) and the datasets we need to test it (X_test and Y_test)"
   ]
  },
  {
   "cell_type": "code",
   "execution_count": 3,
   "id": "2239cfdd",
   "metadata": {},
   "outputs": [],
   "source": [
    "# Import data\n",
    "df = import_data()\n",
    "\n",
    "# Create training and test sets using the datasets function\n",
    "X_train, Y_train, X_test, Y_test = datasets(df, x_len=12, y_len=1, test_loops=12)"
   ]
  },
  {
   "cell_type": "markdown",
   "id": "41b1e1c1",
   "metadata": {},
   "source": [
    "### Analyzing Feature Importance with XGBoost in Machine Learning\n",
    "Machine learning algorithms often operate on large datasets with numerous features, making it essential to understand the importance of each feature in the model's predictions. XGBoost, an efficient and scalable machine learning algorithm, provides a built-in method to assess feature importance. In this code snippet, we utilize XGBoost to create a regression model and analyze the importance of features using its plotting capabilities. Let's delve into the organized version of the code to gain insights into how feature importance is visualized and interpreted in the context of machine learning."
   ]
  },
  {
   "cell_type": "code",
   "execution_count": 4,
   "id": "97ad9071",
   "metadata": {},
   "outputs": [
    {
     "data": {
      "text/plain": [
       "<Axes: title={'center': 'Feature importance'}, xlabel='F score', ylabel='Features'>"
      ]
     },
     "execution_count": 4,
     "metadata": {},
     "output_type": "execute_result"
    },
    {
     "data": {
      "image/png": "[encoded data removed]",
      "text/plain": [
       "<Figure size 640x480 with 1 Axes>"
      ]
     },
     "metadata": {},
     "output_type": "display_data"
    }
   ],
   "source": [
    "import xgboost as xgb\n",
    "from xgboost.sklearn import XGBRegressor\n",
    "\n",
    "# Initializing XGBoost regression model with specified parameters\n",
    "XGB = XGBRegressor(n_jobs=-1, max_depth=10, n_estimators=100, learning_rate=0.2)\n",
    "\n",
    "# Fitting the XGBoost model with training data\n",
    "XGB.fit(X_train, Y_train)\n",
    "\n",
    "# Assigning feature names to the booster object for visualization\n",
    "XGB.get_booster().feature_names = [f'M{x-12}' for x in range(12)]\n",
    "\n",
    "# Plotting feature importance using XGBoost's plot_importance function\n",
    "xgb.plot_importance(XGB, importance_type='total_gain', show_values=False)"
   ]
  },
  {
   "cell_type": "markdown",
   "id": "3cb86ee9",
   "metadata": {},
   "source": [
    "### Evaluation and Early Stopping\n",
    "When an XGBoost model is trained on a dataset, you can measure—after each iteration—its accuracy against an evaluation set.\n",
    "\n",
    "**Evaluation Set**\n",
    "An evaluation set is a set of data that is left aside from the training set to be used as a monitoring dataset during the training. A validation set (random subset of the training set) or a holdout set (last period of the training set) can be used as an evaluation set.\n",
    "\n",
    "If you want to optimize your model’s parameters, the best practice is of course to run a cross-validation random search. But rather than trying different models with a different number of trees, you could grow your model indefinitely, and stop it when there is no more improvement on the evaluation set (for some consecutive iterations).\n",
    "\n",
    "In practice, once the model does not see an accuracy improvement on the evaluation test for a determined number of extra trees, XGBoost will revert to the last iteration that brought extra accuracy to the evaluation set. With this technique, you get rid of the burden of number-of-trees optimization, and you are sure to grow your model up to the right level. \n",
    "               This early stopping technique will help us avoid overfitting our model to the training set, and at the same time, reduce training time. One stone, two birds. The early stopping technique is a very useful capability of XGBoost."
   ]
  },
  {
   "cell_type": "code",
   "execution_count": 6,
   "metadata": {},
   "outputs": [
    {
     "name": "stdout",
     "output_type": "stream",
     "text": [
      "Best iteration: 996\n",
      "Best score: 32.34355200170273\n"
     ]
    }
   ],
   "source": [
    "from sklearn.model_selection import train_test_split\n",
    "from xgboost import XGBRegressor\n",
    "\n",
    "# Splitting the data into training and validation sets\n",
    "x_train, x_val, y_train, y_val = train_test_split(X_train, Y_train, test_size=0.15)\n",
    "\n",
    "# Setting up the XGBoost regressor with specified hyperparameters\n",
    "# Including the `eval_metric` and `early_stopping_rounds` during initialization\n",
    "XGB = XGBRegressor(\n",
    "    n_jobs=-1, \n",
    "    max_depth=10, \n",
    "    n_estimators=1000, \n",
    "    learning_rate=0.01, \n",
    "    early_stopping_rounds=100,\n",
    "    eval_metric='mae'\n",
    ")\n",
    "\n",
    "# Fitting the model on the training data\n",
    "# Note: No need to specify `early_stopping_rounds` and `eval_metric` here\n",
    "XGB.fit(\n",
    "    x_train, \n",
    "    y_train, \n",
    "    verbose=False, \n",
    "    eval_set=[(x_val, y_val)]\n",
    ")\n",
    "\n",
    "# Printing the best iteration number\n",
    "print(f'Best iteration: {XGB.best_iteration}')\n",
    "\n",
    "# Printing the best score\n",
    "print(f'Best score: {XGB.best_score}')"
   ]
  },
  {
   "cell_type": "markdown",
   "id": "206f5f0e",
   "metadata": {},
   "source": [
    "#### Using holdout dataset as the evaluation dataset\n",
    "Instead of a validation set, you can also use a holdout dataset as the evaluation dataset. This can perform better on some datasets."
   ]
  },
  {
   "cell_type": "code",
   "execution_count": 20,
   "metadata": {},
   "outputs": [],
   "source": [
    "def datasets_holdout(df, x_len=12, y_len=1, test_loops=12, holdout_loops=0):\n",
    "    D = df.values\n",
    "    rows, periods = D.shape\n",
    "    \n",
    "    # Training set creation\n",
    "    train_loops = periods + 1 - x_len - y_len - test_loops\n",
    "    train = []\n",
    "    for col in range(train_loops):\n",
    "        train.append(D[:, col:col + x_len + y_len])\n",
    "    train = np.vstack(train)\n",
    "    X_train, Y_train = np.split(train, [-y_len], axis=1)\n",
    "    \n",
    "    # Holdout set creation\n",
    "    if holdout_loops > 0:\n",
    "        X_train, X_holdout = np.split(X_train, [-rows * holdout_loops], axis=0)\n",
    "        Y_train, Y_holdout = np.split(Y_train, [-rows * holdout_loops], axis=0)\n",
    "    else:\n",
    "        X_holdout, Y_holdout = np.array([]), np.array([])\n",
    "    \n",
    "    # Test set creation\n",
    "    if test_loops > 0:\n",
    "        X_train, X_test = np.split(X_train, [-rows * test_loops], axis=0)\n",
    "        Y_train, Y_test = np.split(Y_train, [-rows * test_loops], axis=0)\n",
    "    else:\n",
    "        # No test set: X_test is used to generate the future forecast\n",
    "        X_test = D[:, -x_len:]\n",
    "        Y_test = np.full((X_test.shape[0], y_len), np.nan)  # Dummy value\n",
    "    \n",
    "    # Formatting required for scikit-learn\n",
    "    if y_len == 1:\n",
    "        Y_train = Y_train.ravel()\n",
    "        Y_test = Y_test.ravel()\n",
    "        Y_holdout = Y_holdout.ravel()\n",
    "    \n",
    "    return X_train, Y_train, X_holdout, Y_holdout, X_test, Y_test"
   ]
  },
  {
   "cell_type": "code",
   "execution_count": 22,
   "metadata": {},
   "outputs": [],
   "source": [
    "# Generating training, holdout, and test sets using a custom function\n",
    "X_train, Y_train, X_holdout, Y_holdout, X_test, Y_test = datasets_holdout(df, x_len=12, y_len=1, test_loops=12, holdout_loops=12)\n",
    "\n",
    "# Initializing and training XGBoost regression model\n",
    "XGB = XGBRegressor(n_jobs=-1, max_depth=10, n_estimators=2000, learning_rate=0.01)\n",
    "XGB = XGB.fit(X_train, Y_train, verbose=False, eval_metric='mae')"
   ]
  },
  {
   "cell_type": "code",
   "execution_count": 23,
   "metadata": {},
   "outputs": [
    {
     "name": "stdout",
     "output_type": "stream",
     "text": [
      "   Dataset  Mean Absolute Error (MAE)\n",
      "0  Holdout                  39.447520\n",
      "1     Test                  31.553178\n"
     ]
    }
   ],
   "source": [
    "import pandas as pd\n",
    "from sklearn.metrics import mean_absolute_error\n",
    "\n",
    "# Predicting values for holdout and test sets\n",
    "predictions_holdout = XGB.predict(X_holdout)\n",
    "predictions_test = XGB.predict(X_test)\n",
    "\n",
    "# Calculating MAE for holdout and test sets\n",
    "mae_holdout = mean_absolute_error(Y_holdout, predictions_holdout)\n",
    "mae_test = mean_absolute_error(Y_test, predictions_test)\n",
    "\n",
    "# Creating a DataFrame with the results\n",
    "results_data = {\n",
    "    'Dataset': ['Holdout', 'Test'],\n",
    "    'Mean Absolute Error (MAE)': [mae_holdout, mae_test]\n",
    "}\n",
    "\n",
    "results_df = pd.DataFrame(results_data)\n",
    "\n",
    "# Displaying the table\n",
    "print(results_df)"
   ]
  },
  {
   "cell_type": "markdown",
   "metadata": {},
   "source": [
    "**Important note:** It's important to compare the MAE to some baseline or to the range of the target variable to understand the magnitude of these errors fully. Additionally, if these datasets are different in size, distribution, or feature space, the MAE values may not be directly comparable."
   ]
  },
  {
   "cell_type": "markdown",
   "id": "e4730b5f",
   "metadata": {},
   "source": [
    "### Hyperparameter Tuning Grid for Gradient Boosting Algorithm"
   ]
  },
  {
   "cell_type": "markdown",
   "id": "f4f7d5e6",
   "metadata": {},
   "source": [
    "#### Optimization\n",
    "Now that we have defined the parameter space we want to test, we can continue and perform a cross-validation random search"
   ]
  },
  {
   "cell_type": "code",
   "execution_count": 9,
   "metadata": {},
   "outputs": [
    {
     "name": "stdout",
     "output_type": "stream",
     "text": [
      "Fitting 5 folds for each of 1000 candidates, totalling 5000 fits\n",
      "Tuned XGBoost Parameters:  {'subsample': 0.6, 'reg_lambda': 1.1, 'reg_alpha': 5, 'n_estimators': 1000, 'min_child_weight': 20, 'max_depth': 6, 'learning_rate': 0.01, 'colsample_bytree': 0.8, 'colsample_bynode': 0.5, 'colsample_bylevel': 1.0}\n"
     ]
    }
   ],
   "source": [
    "from sklearn.model_selection import RandomizedSearchCV\n",
    "\n",
    "# Initialize the XGBRegressor with default parameters\n",
    "XGB = XGBRegressor()\n",
    "\n",
    "# Define the hyperparameters to be tuned\n",
    "params = {\n",
    "    'max_depth': [5, 6, 7, 8, 10, 11],\n",
    "    'learning_rate': [0.005, 0.01, 0.025, 0.05, 0.1, 0.15],\n",
    "    'colsample_bynode': [0.5, 0.6, 0.7, 0.8, 0.9, 1.0],  # max_features\n",
    "    'colsample_bylevel': [0.8, 0.9, 1.0],  # max_features per level\n",
    "    'colsample_bytree': [0.6, 0.7, 0.8, 0.9, 1.0],  # max_features\n",
    "    'subsample': [0.1, 0.2, 0.3, 0.4, 0.5, 0.6, 0.7],  # max_samples\n",
    "    'min_child_weight': [5, 10, 15, 20, 25],  # min_samples_leaf\n",
    "    'reg_alpha': [1, 5, 10, 20, 50],\n",
    "    'reg_lambda': [0.01, 0.05, 0.1, 0.5, 1.1],    'n_estimators': [1000]\n",
    "}\n",
    "\n",
    "# Define RandomizedSearchCV\n",
    "XGB_cv = RandomizedSearchCV(\n",
    "    XGB, \n",
    "    params, \n",
    "    cv=5, \n",
    "    n_jobs=-1, \n",
    "    verbose=1, \n",
    "    n_iter=1000, \n",
    "    scoring='neg_mean_absolute_error'\n",
    ")\n",
    "\n",
    "# Fit the model\n",
    "XGB_cv.fit(X_train, Y_train)\n",
    "\n",
    "# Print the best parameters\n",
    "print('Tuned XGBoost Parameters: ', XGB_cv.best_params_)"
   ]
  },
  {
   "cell_type": "markdown",
   "metadata": {},
   "source": [
    "**Note:** In this setup, the eval_set parameter is not directly set in the fit_params since it's not straightforward to use with cross-validation (like RandomizedSearchCV), as each fold will have a different validation set.\n",
    "\n",
    "**Pro-Tip - Double Search**\n",
    "\n",
    "If you don't feel confident about setting the various parameter ranges to be tested, do not hesitate to run two optimizations one after the other- the first one with wide parameter ranges; then, a second one performed in more detail around the first optimal values found."
   ]
  },
  {
   "cell_type": "markdown",
   "metadata": {},
   "source": [
    "We can now train XGBoostRegressor with RandomizedSearchCV-Optimized Parameters"
   ]
  },
  {
   "cell_type": "code",
   "execution_count": 13,
   "metadata": {},
   "outputs": [],
   "source": [
    "# RandomizedSearchCV object with best parameters determined\n",
    "best_params = XGB_cv.best_params_\n",
    "\n",
    "# Initialize XGBRegressor with the best parameters\n",
    "XGB = XGBRegressor(n_jobs=-1, **best_params)\n",
    "\n",
    "# Assuming fit_params is defined as before, without early stopping rounds and eval_metric\n",
    "fit_params = {\n",
    "    'verbose': False\n",
    "}\n",
    "\n",
    "# Fit the model with the training data\n",
    "XGB.fit(x_train, y_train, **fit_params)\n",
    "\n",
    "# Print the best iteration and score if available\n",
    "# These attributes are only available if early stopping is used\n",
    "if hasattr(XGB.get_booster(), 'best_iteration'):\n",
    "    print(f'Best iteration: {XGB.get_booster().best_iteration}')\n",
    "if hasattr(XGB.get_booster(), 'best_score'):\n",
    "    print(f'Best score: {XGB.get_booster().best_score}')"
   ]
  },
  {
   "cell_type": "code",
   "execution_count": 17,
   "metadata": {},
   "outputs": [],
   "source": [
    "# Make predictions on the training and test sets\n",
    "y_train_pred = XGB.predict(X_train)\n",
    "y_test_pred = XGB.predict(X_test)"
   ]
  },
  {
   "cell_type": "code",
   "execution_count": 19,
   "metadata": {},
   "outputs": [
    {
     "name": "stdout",
     "output_type": "stream",
     "text": [
      "                    MAE  RMSE  Bias\n",
      "XGBoost_optimized                  \n",
      "Train              13.9  33.9  -0.2\n",
      "Test               17.7  44.6   2.9\n"
     ]
    }
   ],
   "source": [
    "# Define the kpi_ML function\n",
    "def kpi_ML(Y_train, Y_train_pred, Y_test, Y_test_pred, name=\"\"):\n",
    "    df = pd.DataFrame(columns=['MAE', 'RMSE', 'Bias'], index=['Train', 'Test'])\n",
    "    df.index.name = name\n",
    "\n",
    "    df.loc['Train', 'MAE'] = 100 * np.mean(np.abs(Y_train - Y_train_pred)) / np.mean(Y_train)\n",
    "    df.loc['Train', 'RMSE'] = 100 * np.sqrt(np.mean((Y_train - Y_train_pred)**2)) / np.mean(Y_train)\n",
    "    df.loc['Train', 'Bias'] = 100 * np.mean((Y_train - Y_train_pred)) / np.mean(Y_train)\n",
    "\n",
    "    df.loc['Test', 'MAE'] = 100 * np.mean(np.abs(Y_test - Y_test_pred)) / np.mean(Y_test)\n",
    "    df.loc['Test', 'RMSE'] = 100 * np.sqrt(np.mean((Y_test - Y_test_pred)**2)) / np.mean(Y_test)\n",
    "    df.loc['Test', 'Bias'] = 100 * np.mean((Y_test - Y_test_pred)) / np.mean(Y_test)\n",
    "\n",
    "    df = df.astype(float).round(1)  # Round numbers for display\n",
    "    print(df)\n",
    "\n",
    "# Evaluate the model predictions\n",
    "kpi_ML(Y_train, y_train_pred, Y_test, y_test_pred, name='XGBoost_optimized')"
   ]
  },
  {
   "cell_type": "markdown",
   "id": "ec9380d1",
   "metadata": {},
   "source": [
    "### Multiple Periods Evaluation\n",
    "Just like AdaBoost, XGBoost unfortunately cannot forecast multiple periods at once, so we will also use scikit-learn’s MultiOutputRegressor. To make the model faster, you should set n_jobs=1 in XGBRegressor and n_jobs=-1 for MultiOutputRegressor. (In other words, a thread will be working independently on each of the future forecast periods, rather than multiple threads working on single forecast periods one by one.)"
   ]
  },
  {
   "cell_type": "code",
   "execution_count": 24,
   "id": "a8642790",
   "metadata": {},
   "outputs": [
    {
     "data": {
      "text/html": [
       "<style>#sk-container-id-1 {color: black;}#sk-container-id-1 pre{padding: 0;}#sk-container-id-1 div.sk-toggleable {background-color: white;}#sk-container-id-1 label.sk-toggleable__label {cursor: pointer;display: block;width: 100%;margin-bottom: 0;padding: 0.3em;box-sizing: border-box;text-align: center;}#sk-container-id-1 label.sk-toggleable__label-arrow:before {content: \"▸\";float: left;margin-right: 0.25em;color: #696969;}#sk-container-id-1 label.sk-toggleable__label-arrow:hover:before {color: black;}#sk-container-id-1 div.sk-estimator:hover label.sk-toggleable__label-arrow:before {color: black;}#sk-container-id-1 div.sk-toggleable__content {max-height: 0;max-width: 0;overflow: hidden;text-align: left;background-color: #f0f8ff;}#sk-container-id-1 div.sk-toggleable__content pre {margin: 0.2em;color: black;border-radius: 0.25em;background-color: #f0f8ff;}#sk-container-id-1 input.sk-toggleable__control:checked~div.sk-toggleable__content {max-height: 200px;max-width: 100%;overflow: auto;}#sk-container-id-1 input.sk-toggleable__control:checked~label.sk-toggleable__label-arrow:before {content: \"▾\";}#sk-container-id-1 div.sk-estimator input.sk-toggleable__control:checked~label.sk-toggleable__label {background-color: #d4ebff;}#sk-container-id-1 div.sk-label input.sk-toggleable__control:checked~label.sk-toggleable__label {background-color: #d4ebff;}#sk-container-id-1 input.sk-hidden--visually {border: 0;clip: rect(1px 1px 1px 1px);clip: rect(1px, 1px, 1px, 1px);height: 1px;margin: -1px;overflow: hidden;padding: 0;position: absolute;width: 1px;}#sk-container-id-1 div.sk-estimator {font-family: monospace;background-color: #f0f8ff;border: 1px dotted black;border-radius: 0.25em;box-sizing: border-box;margin-bottom: 0.5em;}#sk-container-id-1 div.sk-estimator:hover {background-color: #d4ebff;}#sk-container-id-1 div.sk-parallel-item::after {content: \"\";width: 100%;border-bottom: 1px solid gray;flex-grow: 1;}#sk-container-id-1 div.sk-label:hover label.sk-toggleable__label {background-color: #d4ebff;}#sk-container-id-1 div.sk-serial::before {content: \"\";position: absolute;border-left: 1px solid gray;box-sizing: border-box;top: 0;bottom: 0;left: 50%;z-index: 0;}#sk-container-id-1 div.sk-serial {display: flex;flex-direction: column;align-items: center;background-color: white;padding-right: 0.2em;padding-left: 0.2em;position: relative;}#sk-container-id-1 div.sk-item {position: relative;z-index: 1;}#sk-container-id-1 div.sk-parallel {display: flex;align-items: stretch;justify-content: center;background-color: white;position: relative;}#sk-container-id-1 div.sk-item::before, #sk-container-id-1 div.sk-parallel-item::before {content: \"\";position: absolute;border-left: 1px solid gray;box-sizing: border-box;top: 0;bottom: 0;left: 50%;z-index: -1;}#sk-container-id-1 div.sk-parallel-item {display: flex;flex-direction: column;z-index: 1;position: relative;background-color: white;}#sk-container-id-1 div.sk-parallel-item:first-child::after {align-self: flex-end;width: 50%;}#sk-container-id-1 div.sk-parallel-item:last-child::after {align-self: flex-start;width: 50%;}#sk-container-id-1 div.sk-parallel-item:only-child::after {width: 0;}#sk-container-id-1 div.sk-dashed-wrapped {border: 1px dashed gray;margin: 0 0.4em 0.5em 0.4em;box-sizing: border-box;padding-bottom: 0.4em;background-color: white;}#sk-container-id-1 div.sk-label label {font-family: monospace;font-weight: bold;display: inline-block;line-height: 1.2em;}#sk-container-id-1 div.sk-label-container {text-align: center;}#sk-container-id-1 div.sk-container {/* jupyter's `normalize.less` sets `[hidden] { display: none; }` but bootstrap.min.css set `[hidden] { display: none !important; }` so we also need the `!important` here to be able to override the default hidden behavior on the sphinx rendered scikit-learn.org. See: https://github.com/scikit-learn/scikit-learn/issues/21755 */display: inline-block !important;position: relative;}#sk-container-id-1 div.sk-text-repr-fallback {display: none;}</style><div id=\"sk-container-id-1\" class=\"sk-top-container\"><div class=\"sk-text-repr-fallback\"><pre>MultiOutputRegressor(estimator=XGBRegressor(base_score=None, booster=None,\n",
       "                                            callbacks=None,\n",
       "                                            colsample_bylevel=None,\n",
       "                                            colsample_bynode=None,\n",
       "                                            colsample_bytree=None, device=None,\n",
       "                                            early_stopping_rounds=None,\n",
       "                                            enable_categorical=False,\n",
       "                                            eval_metric=None,\n",
       "                                            feature_types=None, gamma=None,\n",
       "                                            grow_policy=None,\n",
       "                                            importance_type=None,\n",
       "                                            interaction_constraints=None,\n",
       "                                            learning_rate=0.2, max_bin=None,\n",
       "                                            max_cat_threshold=None,\n",
       "                                            max_cat_to_onehot=None,\n",
       "                                            max_delta_step=None, max_depth=10,\n",
       "                                            max_leaves=None,\n",
       "                                            min_child_weight=None, missing=nan,\n",
       "                                            monotone_constraints=None,\n",
       "                                            multi_strategy=None,\n",
       "                                            n_estimators=100, n_jobs=1,\n",
       "                                            num_parallel_tree=None,\n",
       "                                            random_state=None, ...),\n",
       "                     n_jobs=-1)</pre><b>In a Jupyter environment, please rerun this cell to show the HTML representation or trust the notebook. <br />On GitHub, the HTML representation is unable to render, please try loading this page with nbviewer.org.</b></div><div class=\"sk-container\" hidden><div class=\"sk-item sk-dashed-wrapped\"><div class=\"sk-label-container\"><div class=\"sk-label sk-toggleable\"><input class=\"sk-toggleable__control sk-hidden--visually\" id=\"sk-estimator-id-1\" type=\"checkbox\" ><label for=\"sk-estimator-id-1\" class=\"sk-toggleable__label sk-toggleable__label-arrow\">MultiOutputRegressor</label><div class=\"sk-toggleable__content\"><pre>MultiOutputRegressor(estimator=XGBRegressor(base_score=None, booster=None,\n",
       "                                            callbacks=None,\n",
       "                                            colsample_bylevel=None,\n",
       "                                            colsample_bynode=None,\n",
       "                                            colsample_bytree=None, device=None,\n",
       "                                            early_stopping_rounds=None,\n",
       "                                            enable_categorical=False,\n",
       "                                            eval_metric=None,\n",
       "                                            feature_types=None, gamma=None,\n",
       "                                            grow_policy=None,\n",
       "                                            importance_type=None,\n",
       "                                            interaction_constraints=None,\n",
       "                                            learning_rate=0.2, max_bin=None,\n",
       "                                            max_cat_threshold=None,\n",
       "                                            max_cat_to_onehot=None,\n",
       "                                            max_delta_step=None, max_depth=10,\n",
       "                                            max_leaves=None,\n",
       "                                            min_child_weight=None, missing=nan,\n",
       "                                            monotone_constraints=None,\n",
       "                                            multi_strategy=None,\n",
       "                                            n_estimators=100, n_jobs=1,\n",
       "                                            num_parallel_tree=None,\n",
       "                                            random_state=None, ...),\n",
       "                     n_jobs=-1)</pre></div></div></div><div class=\"sk-parallel\"><div class=\"sk-parallel-item\"><div class=\"sk-item\"><div class=\"sk-label-container\"><div class=\"sk-label sk-toggleable\"><input class=\"sk-toggleable__control sk-hidden--visually\" id=\"sk-estimator-id-2\" type=\"checkbox\" ><label for=\"sk-estimator-id-2\" class=\"sk-toggleable__label sk-toggleable__label-arrow\">estimator: XGBRegressor</label><div class=\"sk-toggleable__content\"><pre>XGBRegressor(base_score=None, booster=None, callbacks=None,\n",
       "             colsample_bylevel=None, colsample_bynode=None,\n",
       "             colsample_bytree=None, device=None, early_stopping_rounds=None,\n",
       "             enable_categorical=False, eval_metric=None, feature_types=None,\n",
       "             gamma=None, grow_policy=None, importance_type=None,\n",
       "             interaction_constraints=None, learning_rate=0.2, max_bin=None,\n",
       "             max_cat_threshold=None, max_cat_to_onehot=None,\n",
       "             max_delta_step=None, max_depth=10, max_leaves=None,\n",
       "             min_child_weight=None, missing=nan, monotone_constraints=None,\n",
       "             multi_strategy=None, n_estimators=100, n_jobs=1,\n",
       "             num_parallel_tree=None, random_state=None, ...)</pre></div></div></div><div class=\"sk-serial\"><div class=\"sk-item\"><div class=\"sk-estimator sk-toggleable\"><input class=\"sk-toggleable__control sk-hidden--visually\" id=\"sk-estimator-id-3\" type=\"checkbox\" ><label for=\"sk-estimator-id-3\" class=\"sk-toggleable__label sk-toggleable__label-arrow\">XGBRegressor</label><div class=\"sk-toggleable__content\"><pre>XGBRegressor(base_score=None, booster=None, callbacks=None,\n",
       "             colsample_bylevel=None, colsample_bynode=None,\n",
       "             colsample_bytree=None, device=None, early_stopping_rounds=None,\n",
       "             enable_categorical=False, eval_metric=None, feature_types=None,\n",
       "             gamma=None, grow_policy=None, importance_type=None,\n",
       "             interaction_constraints=None, learning_rate=0.2, max_bin=None,\n",
       "             max_cat_threshold=None, max_cat_to_onehot=None,\n",
       "             max_delta_step=None, max_depth=10, max_leaves=None,\n",
       "             min_child_weight=None, missing=nan, monotone_constraints=None,\n",
       "             multi_strategy=None, n_estimators=100, n_jobs=1,\n",
       "             num_parallel_tree=None, random_state=None, ...)</pre></div></div></div></div></div></div></div></div></div></div>"
      ],
      "text/plain": [
       "MultiOutputRegressor(estimator=XGBRegressor(base_score=None, booster=None,\n",
       "                                            callbacks=None,\n",
       "                                            colsample_bylevel=None,\n",
       "                                            colsample_bynode=None,\n",
       "                                            colsample_bytree=None, device=None,\n",
       "                                            early_stopping_rounds=None,\n",
       "                                            enable_categorical=False,\n",
       "                                            eval_metric=None,\n",
       "                                            feature_types=None, gamma=None,\n",
       "                                            grow_policy=None,\n",
       "                                            importance_type=None,\n",
       "                                            interaction_constraints=None,\n",
       "                                            learning_rate=0.2, max_bin=None,\n",
       "                                            max_cat_threshold=None,\n",
       "                                            max_cat_to_onehot=None,\n",
       "                                            max_delta_step=None, max_depth=10,\n",
       "                                            max_leaves=None,\n",
       "                                            min_child_weight=None, missing=nan,\n",
       "                                            monotone_constraints=None,\n",
       "                                            multi_strategy=None,\n",
       "                                            n_estimators=100, n_jobs=1,\n",
       "                                            num_parallel_tree=None,\n",
       "                                            random_state=None, ...),\n",
       "                     n_jobs=-1)"
      ]
     },
     "execution_count": 24,
     "metadata": {},
     "output_type": "execute_result"
    }
   ],
   "source": [
    "from sklearn.multioutput import MultiOutputRegressor\n",
    "\n",
    "# Training and testing\n",
    "X_train, Y_train, X_test, Y_test = datasets(df, x_len=12, y_len=6, test_loops=12)\n",
    "XGB = XGBRegressor(n_jobs=1, max_depth=10, n_estimators=100, learning_rate=0.2)\n",
    "multi = MultiOutputRegressor(XGB, n_jobs=-1)\n",
    "multi.fit(X_train, Y_train)"
   ]
  },
  {
   "cell_type": "code",
   "execution_count": 26,
   "metadata": {},
   "outputs": [
    {
     "name": "stdout",
     "output_type": "stream",
     "text": [
      "                        0            1            2            3           4  \\\n",
      "Make                                                                           \n",
      "Alfa Romeo      10.184089     8.149643     7.404906     9.503287   11.133018   \n",
      "Aston Martin     0.190329     0.682681     0.191748     0.093967    0.176659   \n",
      "Audi           733.652588   742.841309   594.797241   659.938660  743.312378   \n",
      "BMW           1060.885254  1101.544800  1228.265137  1222.016724  929.175598   \n",
      "Bentley          0.166028     0.284376     0.311742     0.516105    0.599086   \n",
      "\n",
      "                       5  \n",
      "Make                      \n",
      "Alfa Romeo     16.790682  \n",
      "Aston Martin    0.640640  \n",
      "Audi          620.856140  \n",
      "BMW           743.211670  \n",
      "Bentley         0.230187  \n"
     ]
    }
   ],
   "source": [
    "# Future Forecast\n",
    "X_train, Y_train, X_test, Y_test = datasets(df, x_len=12, y_len=6, test_loops=0)\n",
    "XGB = XGBRegressor(n_jobs=1, max_depth=10, n_estimators=100, learning_rate=0.2)\n",
    "multi = MultiOutputRegressor(XGB, n_jobs=-1)\n",
    "multi.fit(X_train, Y_train)\n",
    "\n",
    "# Creating the forecast DataFrame with predictions and setting the index\n",
    "forecast = pd.DataFrame(data=multi.predict(X_test), index=df.index)\n",
    "\n",
    "print(forecast.head())"
   ]
  }
 ],
 "metadata": {
  "kernelspec": {
   "display_name": "Python 3 (ipykernel)",
   "language": "python",
   "name": "python3"
  },
  "language_info": {
   "codemirror_mode": {
    "name": "ipython",
    "version": 3
   },
   "file_extension": ".py",
   "mimetype": "text/x-python",
   "name": "python",
   "nbconvert_exporter": "python",
   "pygments_lexer": "ipython3",
   "version": "3.12.0"
  }
 },
 "nbformat": 4,
 "nbformat_minor": 5
}
