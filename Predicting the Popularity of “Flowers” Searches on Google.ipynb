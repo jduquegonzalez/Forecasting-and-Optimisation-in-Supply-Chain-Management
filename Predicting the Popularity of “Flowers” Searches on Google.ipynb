{
 "cells": [
  {
   "cell_type": "markdown",
   "metadata": {},
   "source": [
    "# Predicting the Popularity of “Flowers” Searches on Google Using Prophet \n",
    "*Adapted from Marco Peixeiro's book [Time Series Forecasting in Python](https://amzn.eu/d/eU0GuYo)*\n",
    "\n",
    "## Introduction\n",
    "\n",
    "Accurately predicting the popularity of search terms is crucial for retail analysts, as it enables more effective optimisation of marketing strategies. By understanding the trends in keyword searches, analysts can help marketing teams refine their bidding strategies, thus influencing the cost-per-click on advertisements and ultimately improving the overall return on investment (ROI) for marketing campaigns.\n",
    "\n",
    "Moreover, forecasting search term trends offers deeper insights into consumer behaviour. For instance, if we can predict an increase in searches for \"flowers\" in the coming month, retail businesses can proactively adjust their strategies. This could involve offering timely discounts, adjusting inventory levels, and ensuring sufficient stock to meet the anticipated demand. Such insights help in aligning supply with demand, improving customer satisfaction, and driving sales growth.\n",
    "\n",
    "In this notebook, we will employ the following models: SARIMA, Holt-Winters, and Prophet. Prophet, developed by Facebook, is a robust forecasting tool that we will use to predict future trends in \"flowers\" searches on Google. By analysing historical search data sourced from [Google Trends](https://trends.google.com/trends/explore?date=all&geo=GB&q=%2Fm%2F0c9ph5), we aim to create a precise model that provides actionable insights for retail analysts, enabling data-driven decision-making to enhance marketing effectiveness and operational efficiency.\n",
    "\n",
    "We will explore the use of the Prophet library for automatic time series forecasting. Prophet uses a general additive model that combines a trend component, a seasonal component, and holiday effects. The main advantage of this library is that it allows us to quickly experiment and generate predictions. Many functions are available for visualising and understanding our models, and more advanced functions are also available, allowing us to perform cross-validation and hyperparameter tuning. While Prophet is widely used in the industry, it must not be considered a one-size-fits-all solution. Prophet works particularly well with strongly seasonal data that has many historical seasons. Thus, it is to be treated as another tool in our forecasting tool belt that can be tested along with other statistical or deep learning models."
   ]
  },
  {
   "cell_type": "code",
   "execution_count": 3,
   "metadata": {},
   "outputs": [],
   "source": [
    "import numpy as np\n",
    "import pandas as pd\n",
    "import matplotlib.pyplot as plt\n",
    "from prophet import Prophet\n",
    "\n",
    "import warnings\n",
    "warnings.filterwarnings('ignore')"
   ]
  },
  {
   "cell_type": "code",
   "execution_count": 4,
   "metadata": {},
   "outputs": [],
   "source": [
    "plt.rcParams['figure.figsize'] = (10, 7.5)\n",
    "plt.rcParams['axes.grid'] = False"
   ]
  },
  {
   "cell_type": "code",
   "execution_count": 5,
   "metadata": {},
   "outputs": [],
   "source": [
    "data_path = '/Users/jonathanduquegonzalez/Library/CloudStorage/OneDrive-GlobalBankingSchool/Forecasting/Predicting the popularity of “chocolate” searches on Google/multiTimeline.csv'\n",
    "fig_path = '/Users/jonathanduquegonzalez/Library/CloudStorage/OneDrive-GlobalBankingSchool/Forecasting/Predicting the popularity of “chocolate” searches on Google/Figures/flower_searches_comparison.png'\n",
    "csv_output_path = '/Users/jonathanduquegonzalez/Library/CloudStorage/OneDrive-GlobalBankingSchool/Forecasting/Predicting the popularity of “chocolate” searches on Google/Forecasts/forecast_results.csv'"
   ]
  },
  {
   "cell_type": "markdown",
   "metadata": {},
   "source": [
    "We’ll kick off this project by reading the data."
   ]
  },
  {
   "cell_type": "code",
   "execution_count": 6,
   "metadata": {},
   "outputs": [
    {
     "data": {
      "text/html": [
       "<div>\n",
       "<style scoped>\n",
       "    .dataframe tbody tr th:only-of-type {\n",
       "        vertical-align: middle;\n",
       "    }\n",
       "\n",
       "    .dataframe tbody tr th {\n",
       "        vertical-align: top;\n",
       "    }\n",
       "\n",
       "    .dataframe thead th {\n",
       "        text-align: right;\n",
       "    }\n",
       "</style>\n",
       "<table border=\"1\" class=\"dataframe\">\n",
       "  <thead>\n",
       "    <tr style=\"text-align: right;\">\n",
       "      <th></th>\n",
       "      <th>Month</th>\n",
       "      <th>Flower: (United Kingdom)</th>\n",
       "    </tr>\n",
       "  </thead>\n",
       "  <tbody>\n",
       "    <tr>\n",
       "      <th>0</th>\n",
       "      <td>2004-01</td>\n",
       "      <td>31</td>\n",
       "    </tr>\n",
       "    <tr>\n",
       "      <th>1</th>\n",
       "      <td>2004-02</td>\n",
       "      <td>40</td>\n",
       "    </tr>\n",
       "    <tr>\n",
       "      <th>2</th>\n",
       "      <td>2004-03</td>\n",
       "      <td>50</td>\n",
       "    </tr>\n",
       "    <tr>\n",
       "      <th>3</th>\n",
       "      <td>2004-04</td>\n",
       "      <td>39</td>\n",
       "    </tr>\n",
       "    <tr>\n",
       "      <th>4</th>\n",
       "      <td>2004-05</td>\n",
       "      <td>50</td>\n",
       "    </tr>\n",
       "  </tbody>\n",
       "</table>\n",
       "</div>"
      ],
      "text/plain": [
       "     Month  Flower: (United Kingdom)\n",
       "0  2004-01                        31\n",
       "1  2004-02                        40\n",
       "2  2004-03                        50\n",
       "3  2004-04                        39\n",
       "4  2004-05                        50"
      ]
     },
     "execution_count": 6,
     "metadata": {},
     "output_type": "execute_result"
    }
   ],
   "source": [
    "df = pd.read_csv(data_path)\n",
    "df.head()"
   ]
  },
  {
   "cell_type": "code",
   "execution_count": 7,
   "metadata": {},
   "outputs": [
    {
     "data": {
      "text/html": [
       "<div>\n",
       "<style scoped>\n",
       "    .dataframe tbody tr th:only-of-type {\n",
       "        vertical-align: middle;\n",
       "    }\n",
       "\n",
       "    .dataframe tbody tr th {\n",
       "        vertical-align: top;\n",
       "    }\n",
       "\n",
       "    .dataframe thead th {\n",
       "        text-align: right;\n",
       "    }\n",
       "</style>\n",
       "<table border=\"1\" class=\"dataframe\">\n",
       "  <thead>\n",
       "    <tr style=\"text-align: right;\">\n",
       "      <th></th>\n",
       "      <th>Month</th>\n",
       "      <th>Flower: (United Kingdom)</th>\n",
       "    </tr>\n",
       "  </thead>\n",
       "  <tbody>\n",
       "    <tr>\n",
       "      <th>240</th>\n",
       "      <td>2024-01</td>\n",
       "      <td>44</td>\n",
       "    </tr>\n",
       "    <tr>\n",
       "      <th>241</th>\n",
       "      <td>2024-02</td>\n",
       "      <td>56</td>\n",
       "    </tr>\n",
       "    <tr>\n",
       "      <th>242</th>\n",
       "      <td>2024-03</td>\n",
       "      <td>71</td>\n",
       "    </tr>\n",
       "    <tr>\n",
       "      <th>243</th>\n",
       "      <td>2024-04</td>\n",
       "      <td>63</td>\n",
       "    </tr>\n",
       "    <tr>\n",
       "      <th>244</th>\n",
       "      <td>2024-05</td>\n",
       "      <td>76</td>\n",
       "    </tr>\n",
       "  </tbody>\n",
       "</table>\n",
       "</div>"
      ],
      "text/plain": [
       "       Month  Flower: (United Kingdom)\n",
       "240  2024-01                        44\n",
       "241  2024-02                        56\n",
       "242  2024-03                        71\n",
       "243  2024-04                        63\n",
       "244  2024-05                        76"
      ]
     },
     "execution_count": 7,
     "metadata": {},
     "output_type": "execute_result"
    }
   ],
   "source": [
    "df.tail()"
   ]
  },
  {
   "cell_type": "markdown",
   "metadata": {},
   "source": [
    "The DataFrame `df` contains two columns: \"Month\" and \"Flower: (United Kingdom)\". The \"Month\" column includes dates in the format YYYY-MM, representing the months from January 2004 to May 2024. The \"Flower: (United Kingdom)\" column contains numerical values representing the proportion of searches using the keyword \"flowers\" in the United Kingdom for each corresponding month. The DataFrame comprises 245 rows, covering the period from January 2004 to May 2024. Now, let's proceed with plotting the data:"
   ]
  },
  {
   "cell_type": "code",
   "execution_count": 8,
   "metadata": {},
   "outputs": [
    {
     "data": {
      "image/png": "[encoded data removed]",
      "text/plain": [
       "<Figure size 1000x750 with 1 Axes>"
      ]
     },
     "metadata": {},
     "output_type": "display_data"
    }
   ],
   "source": [
    "fig, ax = plt.subplots()\n",
    "\n",
    "ax.plot(df['Flower: (United Kingdom)'])\n",
    "ax.set_xlabel('Date')\n",
    "ax.set_ylabel('Proportion of searches using with the keyword \"flowers\"')\n",
    "\n",
    "# Generate labels for every 12th tick\n",
    "tick_locations = np.arange(0, len(df), 12)\n",
    "tick_labels = np.arange(2004, 2025, 1)[:len(tick_locations)]  \n",
    "\n",
    "plt.xticks(tick_locations, tick_labels)\n",
    "\n",
    "fig.autofmt_xdate()\n",
    "plt.tight_layout()\n",
    "\n",
    "plt.savefig(fig_path, dpi=300)\n"
   ]
  },
  {
   "cell_type": "markdown",
   "metadata": {},
   "source": [
    "The data reveals a clear seasonal pattern, with periodic spikes corresponding to higher search interest, likely around specific times of the year such as holidays or special occasions. Additionally, there is a noticeable upward trend over the years, indicating a general increase in the popularity of the keyword \"flowers\" in Google searches within the United Kingdom."
   ]
  },
  {
   "cell_type": "markdown",
   "metadata": {},
   "source": [
    "There are two elements that make this dataset particularly interesting to model with Prophet. First, it is likely that holiday effects are at play. For example, Valentine's Day is a significant holiday in the United Kingdom, and it is quite common to offer flowers on this occasion. The second element is that we have monthly data. While Prophet can model monthly data, some adjustments must be made to ensure accurate results. Prophet works out-of-the-box with daily and sub-daily data, but monthly data requires additional tweaking.\n",
    "\n",
    "We will rename our columns following Prophet’s naming conventions. Recall that Prophet expects the date column to be named `ds`, while the value column must be named `y`."
   ]
  },
  {
   "cell_type": "code",
   "execution_count": 9,
   "metadata": {},
   "outputs": [
    {
     "data": {
      "text/html": [
       "<div>\n",
       "<style scoped>\n",
       "    .dataframe tbody tr th:only-of-type {\n",
       "        vertical-align: middle;\n",
       "    }\n",
       "\n",
       "    .dataframe tbody tr th {\n",
       "        vertical-align: top;\n",
       "    }\n",
       "\n",
       "    .dataframe thead th {\n",
       "        text-align: right;\n",
       "    }\n",
       "</style>\n",
       "<table border=\"1\" class=\"dataframe\">\n",
       "  <thead>\n",
       "    <tr style=\"text-align: right;\">\n",
       "      <th></th>\n",
       "      <th>ds</th>\n",
       "      <th>y</th>\n",
       "    </tr>\n",
       "  </thead>\n",
       "  <tbody>\n",
       "    <tr>\n",
       "      <th>0</th>\n",
       "      <td>2004-01</td>\n",
       "      <td>31</td>\n",
       "    </tr>\n",
       "    <tr>\n",
       "      <th>1</th>\n",
       "      <td>2004-02</td>\n",
       "      <td>40</td>\n",
       "    </tr>\n",
       "    <tr>\n",
       "      <th>2</th>\n",
       "      <td>2004-03</td>\n",
       "      <td>50</td>\n",
       "    </tr>\n",
       "    <tr>\n",
       "      <th>3</th>\n",
       "      <td>2004-04</td>\n",
       "      <td>39</td>\n",
       "    </tr>\n",
       "    <tr>\n",
       "      <th>4</th>\n",
       "      <td>2004-05</td>\n",
       "      <td>50</td>\n",
       "    </tr>\n",
       "  </tbody>\n",
       "</table>\n",
       "</div>"
      ],
      "text/plain": [
       "        ds   y\n",
       "0  2004-01  31\n",
       "1  2004-02  40\n",
       "2  2004-03  50\n",
       "3  2004-04  39\n",
       "4  2004-05  50"
      ]
     },
     "execution_count": 9,
     "metadata": {},
     "output_type": "execute_result"
    }
   ],
   "source": [
    "df.columns = ['ds', 'y']\n",
    "df.head()"
   ]
  },
  {
   "cell_type": "markdown",
   "metadata": {},
   "source": [
    "We can now move on to verifying that the date is correctly formatted. In this case, we only have the year and the month, which does not conform to the YYYY-MM-DD format expected by Prophet for a timestamp. Therefore, we will add a day to our date column. Since we have monthly data, which can only be obtained at the end of the month, we will add the last day of the month to the timestamp."
   ]
  },
  {
   "cell_type": "code",
   "execution_count": 10,
   "metadata": {},
   "outputs": [
    {
     "data": {
      "text/html": [
       "<div>\n",
       "<style scoped>\n",
       "    .dataframe tbody tr th:only-of-type {\n",
       "        vertical-align: middle;\n",
       "    }\n",
       "\n",
       "    .dataframe tbody tr th {\n",
       "        vertical-align: top;\n",
       "    }\n",
       "\n",
       "    .dataframe thead th {\n",
       "        text-align: right;\n",
       "    }\n",
       "</style>\n",
       "<table border=\"1\" class=\"dataframe\">\n",
       "  <thead>\n",
       "    <tr style=\"text-align: right;\">\n",
       "      <th></th>\n",
       "      <th>ds</th>\n",
       "      <th>y</th>\n",
       "    </tr>\n",
       "  </thead>\n",
       "  <tbody>\n",
       "    <tr>\n",
       "      <th>0</th>\n",
       "      <td>2004-01-31</td>\n",
       "      <td>31</td>\n",
       "    </tr>\n",
       "    <tr>\n",
       "      <th>1</th>\n",
       "      <td>2004-02-29</td>\n",
       "      <td>40</td>\n",
       "    </tr>\n",
       "    <tr>\n",
       "      <th>2</th>\n",
       "      <td>2004-03-31</td>\n",
       "      <td>50</td>\n",
       "    </tr>\n",
       "    <tr>\n",
       "      <th>3</th>\n",
       "      <td>2004-04-30</td>\n",
       "      <td>39</td>\n",
       "    </tr>\n",
       "    <tr>\n",
       "      <th>4</th>\n",
       "      <td>2004-05-31</td>\n",
       "      <td>50</td>\n",
       "    </tr>\n",
       "  </tbody>\n",
       "</table>\n",
       "</div>"
      ],
      "text/plain": [
       "          ds   y\n",
       "0 2004-01-31  31\n",
       "1 2004-02-29  40\n",
       "2 2004-03-31  50\n",
       "3 2004-04-30  39\n",
       "4 2004-05-31  50"
      ]
     },
     "execution_count": 10,
     "metadata": {},
     "output_type": "execute_result"
    }
   ],
   "source": [
    "from pandas.tseries.offsets import MonthEnd\n",
    "\n",
    "df['ds'] = pd.to_datetime(df['ds']) + MonthEnd(1)\n",
    "df.head()"
   ]
  },
  {
   "cell_type": "markdown",
   "metadata": {},
   "source": [
    "## Hyperparameter Tuning and Cross-Validation\n",
    "\n",
    "We can combine hyperparameter tuning and cross-validation in Prophet to create a robust process that automatically identifies the best parameter combination to fit our data.\n",
    "\n",
    "Before we delve into hyperparameter tuning, we will first split our data into training and test sets to ensure that hyperparameter tuning is performed solely on the training set, thus avoiding data leakage. For this purpose, we will reserve the last twelve months of data for the test set."
   ]
  },
  {
   "cell_type": "markdown",
   "metadata": {},
   "source": [
    "### Split Data Into Training and Test Sets"
   ]
  },
  {
   "cell_type": "code",
   "execution_count": 11,
   "metadata": {},
   "outputs": [],
   "source": [
    "train = df[:-12]\n",
    "test = df[-12:]"
   ]
  },
  {
   "cell_type": "code",
   "execution_count": 12,
   "metadata": {},
   "outputs": [
    {
     "data": {
      "text/html": [
       "<div>\n",
       "<style scoped>\n",
       "    .dataframe tbody tr th:only-of-type {\n",
       "        vertical-align: middle;\n",
       "    }\n",
       "\n",
       "    .dataframe tbody tr th {\n",
       "        vertical-align: top;\n",
       "    }\n",
       "\n",
       "    .dataframe thead th {\n",
       "        text-align: right;\n",
       "    }\n",
       "</style>\n",
       "<table border=\"1\" class=\"dataframe\">\n",
       "  <thead>\n",
       "    <tr style=\"text-align: right;\">\n",
       "      <th></th>\n",
       "      <th>ds</th>\n",
       "      <th>y</th>\n",
       "    </tr>\n",
       "  </thead>\n",
       "  <tbody>\n",
       "    <tr>\n",
       "      <th>228</th>\n",
       "      <td>2023-01-31</td>\n",
       "      <td>48</td>\n",
       "    </tr>\n",
       "    <tr>\n",
       "      <th>229</th>\n",
       "      <td>2023-02-28</td>\n",
       "      <td>60</td>\n",
       "    </tr>\n",
       "    <tr>\n",
       "      <th>230</th>\n",
       "      <td>2023-03-31</td>\n",
       "      <td>71</td>\n",
       "    </tr>\n",
       "    <tr>\n",
       "      <th>231</th>\n",
       "      <td>2023-04-30</td>\n",
       "      <td>65</td>\n",
       "    </tr>\n",
       "    <tr>\n",
       "      <th>232</th>\n",
       "      <td>2023-05-31</td>\n",
       "      <td>82</td>\n",
       "    </tr>\n",
       "  </tbody>\n",
       "</table>\n",
       "</div>"
      ],
      "text/plain": [
       "            ds   y\n",
       "228 2023-01-31  48\n",
       "229 2023-02-28  60\n",
       "230 2023-03-31  71\n",
       "231 2023-04-30  65\n",
       "232 2023-05-31  82"
      ]
     },
     "execution_count": 12,
     "metadata": {},
     "output_type": "execute_result"
    }
   ],
   "source": [
    "train.tail()"
   ]
  },
  {
   "cell_type": "markdown",
   "metadata": {},
   "source": [
    "### Generating Parameter Combinations for Tuning\n",
    "\n",
    "We’ll define a range of values for each parameter we wish to tune and build a list containing each unique combination of values."
   ]
  },
  {
   "cell_type": "code",
   "execution_count": 13,
   "metadata": {},
   "outputs": [
    {
     "data": {
      "application/vnd.jupyter.widget-view+json": {
       "model_id": "7890fdbb31c44103a4f9cf39057155cf",
       "version_major": 2,
       "version_minor": 0
      },
      "text/plain": [
       "  0%|          | 0/14 [00:00<?, ?it/s]"
      ]
     },
     "metadata": {},
     "output_type": "display_data"
    },
    {
     "data": {
      "application/vnd.jupyter.widget-view+json": {
       "model_id": "94935e7d41374236a601ee6593cc159d",
       "version_major": 2,
       "version_minor": 0
      },
      "text/plain": [
       "  0%|          | 0/14 [00:00<?, ?it/s]"
      ]
     },
     "metadata": {},
     "output_type": "display_data"
    },
    {
     "data": {
      "application/vnd.jupyter.widget-view+json": {
       "model_id": "374b8ba296f846fe8a0046dfff924c84",
       "version_major": 2,
       "version_minor": 0
      },
      "text/plain": [
       "  0%|          | 0/14 [00:00<?, ?it/s]"
      ]
     },
     "metadata": {},
     "output_type": "display_data"
    },
    {
     "data": {
      "application/vnd.jupyter.widget-view+json": {
       "model_id": "ca95194238be4417af9db842d9669c84",
       "version_major": 2,
       "version_minor": 0
      },
      "text/plain": [
       "  0%|          | 0/14 [00:00<?, ?it/s]"
      ]
     },
     "metadata": {},
     "output_type": "display_data"
    },
    {
     "data": {
      "application/vnd.jupyter.widget-view+json": {
       "model_id": "d1eafa7bb2024bf9bed59b3472bdda71",
       "version_major": 2,
       "version_minor": 0
      },
      "text/plain": [
       "  0%|          | 0/14 [00:00<?, ?it/s]"
      ]
     },
     "metadata": {},
     "output_type": "display_data"
    },
    {
     "data": {
      "application/vnd.jupyter.widget-view+json": {
       "model_id": "269af4c4c0d34bca8423f4a5304531eb",
       "version_major": 2,
       "version_minor": 0
      },
      "text/plain": [
       "  0%|          | 0/14 [00:00<?, ?it/s]"
      ]
     },
     "metadata": {},
     "output_type": "display_data"
    },
    {
     "data": {
      "application/vnd.jupyter.widget-view+json": {
       "model_id": "f37dbc0614cd47aead987728757c9d72",
       "version_major": 2,
       "version_minor": 0
      },
      "text/plain": [
       "  0%|          | 0/14 [00:00<?, ?it/s]"
      ]
     },
     "metadata": {},
     "output_type": "display_data"
    },
    {
     "data": {
      "application/vnd.jupyter.widget-view+json": {
       "model_id": "9f0bca8340d2471ab48999196efba3cd",
       "version_major": 2,
       "version_minor": 0
      },
      "text/plain": [
       "  0%|          | 0/14 [00:00<?, ?it/s]"
      ]
     },
     "metadata": {},
     "output_type": "display_data"
    },
    {
     "data": {
      "application/vnd.jupyter.widget-view+json": {
       "model_id": "5163a181a76c43df97a5eaeb3241c1d9",
       "version_major": 2,
       "version_minor": 0
      },
      "text/plain": [
       "  0%|          | 0/14 [00:00<?, ?it/s]"
      ]
     },
     "metadata": {},
     "output_type": "display_data"
    },
    {
     "data": {
      "application/vnd.jupyter.widget-view+json": {
       "model_id": "7383839c3d674ea19fd54b46596f540c",
       "version_major": 2,
       "version_minor": 0
      },
      "text/plain": [
       "  0%|          | 0/14 [00:00<?, ?it/s]"
      ]
     },
     "metadata": {},
     "output_type": "display_data"
    },
    {
     "data": {
      "application/vnd.jupyter.widget-view+json": {
       "model_id": "4fe68efe5966487580785903a43ae9de",
       "version_major": 2,
       "version_minor": 0
      },
      "text/plain": [
       "  0%|          | 0/14 [00:00<?, ?it/s]"
      ]
     },
     "metadata": {},
     "output_type": "display_data"
    },
    {
     "data": {
      "application/vnd.jupyter.widget-view+json": {
       "model_id": "c66b720be55249e2b2c68e372b534c4c",
       "version_major": 2,
       "version_minor": 0
      },
      "text/plain": [
       "  0%|          | 0/14 [00:00<?, ?it/s]"
      ]
     },
     "metadata": {},
     "output_type": "display_data"
    },
    {
     "data": {
      "application/vnd.jupyter.widget-view+json": {
       "model_id": "b749669fad9f4af6a2a4c0fd606e4b85",
       "version_major": 2,
       "version_minor": 0
      },
      "text/plain": [
       "  0%|          | 0/14 [00:00<?, ?it/s]"
      ]
     },
     "metadata": {},
     "output_type": "display_data"
    },
    {
     "data": {
      "application/vnd.jupyter.widget-view+json": {
       "model_id": "81f65292ab314f208b9d6ce4667a5a8a",
       "version_major": 2,
       "version_minor": 0
      },
      "text/plain": [
       "  0%|          | 0/14 [00:00<?, ?it/s]"
      ]
     },
     "metadata": {},
     "output_type": "display_data"
    },
    {
     "data": {
      "application/vnd.jupyter.widget-view+json": {
       "model_id": "9bd00f15b8444a6590314647c3ab12ed",
       "version_major": 2,
       "version_minor": 0
      },
      "text/plain": [
       "  0%|          | 0/14 [00:00<?, ?it/s]"
      ]
     },
     "metadata": {},
     "output_type": "display_data"
    },
    {
     "data": {
      "application/vnd.jupyter.widget-view+json": {
       "model_id": "d13bd67a790448a3a52e5f1b8187afad",
       "version_major": 2,
       "version_minor": 0
      },
      "text/plain": [
       "  0%|          | 0/14 [00:00<?, ?it/s]"
      ]
     },
     "metadata": {},
     "output_type": "display_data"
    },
    {
     "data": {
      "application/vnd.jupyter.widget-view+json": {
       "model_id": "70ade4ceffae4d16afb02e40cf91eac7",
       "version_major": 2,
       "version_minor": 0
      },
      "text/plain": [
       "  0%|          | 0/14 [00:00<?, ?it/s]"
      ]
     },
     "metadata": {},
     "output_type": "display_data"
    },
    {
     "data": {
      "application/vnd.jupyter.widget-view+json": {
       "model_id": "4544cd69f61f4b3f8c437ea5730d5f9e",
       "version_major": 2,
       "version_minor": 0
      },
      "text/plain": [
       "  0%|          | 0/14 [00:00<?, ?it/s]"
      ]
     },
     "metadata": {},
     "output_type": "display_data"
    },
    {
     "data": {
      "application/vnd.jupyter.widget-view+json": {
       "model_id": "b6f197186b4c4e758cb0f52525194254",
       "version_major": 2,
       "version_minor": 0
      },
      "text/plain": [
       "  0%|          | 0/14 [00:00<?, ?it/s]"
      ]
     },
     "metadata": {},
     "output_type": "display_data"
    },
    {
     "data": {
      "application/vnd.jupyter.widget-view+json": {
       "model_id": "73d7e3c106bb441bac0407fdd34d3d8d",
       "version_major": 2,
       "version_minor": 0
      },
      "text/plain": [
       "  0%|          | 0/14 [00:00<?, ?it/s]"
      ]
     },
     "metadata": {},
     "output_type": "display_data"
    },
    {
     "data": {
      "application/vnd.jupyter.widget-view+json": {
       "model_id": "0afc349e4fd94727b669fb4fec14bc75",
       "version_major": 2,
       "version_minor": 0
      },
      "text/plain": [
       "  0%|          | 0/14 [00:00<?, ?it/s]"
      ]
     },
     "metadata": {},
     "output_type": "display_data"
    },
    {
     "data": {
      "application/vnd.jupyter.widget-view+json": {
       "model_id": "c66927e014f44b73821195a050f65397",
       "version_major": 2,
       "version_minor": 0
      },
      "text/plain": [
       "  0%|          | 0/14 [00:00<?, ?it/s]"
      ]
     },
     "metadata": {},
     "output_type": "display_data"
    },
    {
     "data": {
      "application/vnd.jupyter.widget-view+json": {
       "model_id": "f1cf20c1ac55445ea932031c7ce9e95b",
       "version_major": 2,
       "version_minor": 0
      },
      "text/plain": [
       "  0%|          | 0/14 [00:00<?, ?it/s]"
      ]
     },
     "metadata": {},
     "output_type": "display_data"
    },
    {
     "data": {
      "application/vnd.jupyter.widget-view+json": {
       "model_id": "8128cff7490341ac925f30ed6ccd78fe",
       "version_major": 2,
       "version_minor": 0
      },
      "text/plain": [
       "  0%|          | 0/14 [00:00<?, ?it/s]"
      ]
     },
     "metadata": {},
     "output_type": "display_data"
    },
    {
     "data": {
      "application/vnd.jupyter.widget-view+json": {
       "model_id": "6a83db9848d74cdd945e1ade26618cdc",
       "version_major": 2,
       "version_minor": 0
      },
      "text/plain": [
       "  0%|          | 0/14 [00:00<?, ?it/s]"
      ]
     },
     "metadata": {},
     "output_type": "display_data"
    },
    {
     "data": {
      "application/vnd.jupyter.widget-view+json": {
       "model_id": "af7e68265f2d49649d23f0ffd3d83401",
       "version_major": 2,
       "version_minor": 0
      },
      "text/plain": [
       "  0%|          | 0/14 [00:00<?, ?it/s]"
      ]
     },
     "metadata": {},
     "output_type": "display_data"
    },
    {
     "data": {
      "application/vnd.jupyter.widget-view+json": {
       "model_id": "b0c72d5a9b274823af4822186e1e786b",
       "version_major": 2,
       "version_minor": 0
      },
      "text/plain": [
       "  0%|          | 0/14 [00:00<?, ?it/s]"
      ]
     },
     "metadata": {},
     "output_type": "display_data"
    },
    {
     "data": {
      "application/vnd.jupyter.widget-view+json": {
       "model_id": "9f7e73e673f448a0ba529c158a37c85d",
       "version_major": 2,
       "version_minor": 0
      },
      "text/plain": [
       "  0%|          | 0/14 [00:00<?, ?it/s]"
      ]
     },
     "metadata": {},
     "output_type": "display_data"
    },
    {
     "data": {
      "application/vnd.jupyter.widget-view+json": {
       "model_id": "afb2fecb11794300a2705eeb6309e552",
       "version_major": 2,
       "version_minor": 0
      },
      "text/plain": [
       "  0%|          | 0/14 [00:00<?, ?it/s]"
      ]
     },
     "metadata": {},
     "output_type": "display_data"
    },
    {
     "data": {
      "application/vnd.jupyter.widget-view+json": {
       "model_id": "fa5f0d8f9c824970b7acf12ce614bf53",
       "version_major": 2,
       "version_minor": 0
      },
      "text/plain": [
       "  0%|          | 0/14 [00:00<?, ?it/s]"
      ]
     },
     "metadata": {},
     "output_type": "display_data"
    },
    {
     "data": {
      "application/vnd.jupyter.widget-view+json": {
       "model_id": "1c760b14094c40c29f37e094e9b482b8",
       "version_major": 2,
       "version_minor": 0
      },
      "text/plain": [
       "  0%|          | 0/14 [00:00<?, ?it/s]"
      ]
     },
     "metadata": {},
     "output_type": "display_data"
    },
    {
     "data": {
      "application/vnd.jupyter.widget-view+json": {
       "model_id": "e83f8b421d094881a4a440d62a80c966",
       "version_major": 2,
       "version_minor": 0
      },
      "text/plain": [
       "  0%|          | 0/14 [00:00<?, ?it/s]"
      ]
     },
     "metadata": {},
     "output_type": "display_data"
    },
    {
     "data": {
      "application/vnd.jupyter.widget-view+json": {
       "model_id": "a945a6e3d5364aa2b90792e13becb616",
       "version_major": 2,
       "version_minor": 0
      },
      "text/plain": [
       "  0%|          | 0/14 [00:00<?, ?it/s]"
      ]
     },
     "metadata": {},
     "output_type": "display_data"
    },
    {
     "data": {
      "application/vnd.jupyter.widget-view+json": {
       "model_id": "536c3554310849b58a9eefbbec1e057f",
       "version_major": 2,
       "version_minor": 0
      },
      "text/plain": [
       "  0%|          | 0/14 [00:00<?, ?it/s]"
      ]
     },
     "metadata": {},
     "output_type": "display_data"
    },
    {
     "data": {
      "application/vnd.jupyter.widget-view+json": {
       "model_id": "0a3414ec7fb64765af5ae62b8b093444",
       "version_major": 2,
       "version_minor": 0
      },
      "text/plain": [
       "  0%|          | 0/14 [00:00<?, ?it/s]"
      ]
     },
     "metadata": {},
     "output_type": "display_data"
    },
    {
     "data": {
      "application/vnd.jupyter.widget-view+json": {
       "model_id": "3fd66e8d46944cb99f68a31e3c9bb2c4",
       "version_major": 2,
       "version_minor": 0
      },
      "text/plain": [
       "  0%|          | 0/14 [00:00<?, ?it/s]"
      ]
     },
     "metadata": {},
     "output_type": "display_data"
    },
    {
     "data": {
      "application/vnd.jupyter.widget-view+json": {
       "model_id": "8ba57bdee4a64568929089ea69ec9ec7",
       "version_major": 2,
       "version_minor": 0
      },
      "text/plain": [
       "  0%|          | 0/14 [00:00<?, ?it/s]"
      ]
     },
     "metadata": {},
     "output_type": "display_data"
    },
    {
     "data": {
      "application/vnd.jupyter.widget-view+json": {
       "model_id": "5566fa1251b740fda1a21c0be52efb35",
       "version_major": 2,
       "version_minor": 0
      },
      "text/plain": [
       "  0%|          | 0/14 [00:00<?, ?it/s]"
      ]
     },
     "metadata": {},
     "output_type": "display_data"
    },
    {
     "data": {
      "application/vnd.jupyter.widget-view+json": {
       "model_id": "348c611d0de74ac098f1573c0778b2a8",
       "version_major": 2,
       "version_minor": 0
      },
      "text/plain": [
       "  0%|          | 0/14 [00:00<?, ?it/s]"
      ]
     },
     "metadata": {},
     "output_type": "display_data"
    },
    {
     "data": {
      "application/vnd.jupyter.widget-view+json": {
       "model_id": "54155f3ccd944d87a638b84a5279a2b0",
       "version_major": 2,
       "version_minor": 0
      },
      "text/plain": [
       "  0%|          | 0/14 [00:00<?, ?it/s]"
      ]
     },
     "metadata": {},
     "output_type": "display_data"
    },
    {
     "data": {
      "application/vnd.jupyter.widget-view+json": {
       "model_id": "b8188253f0e24c8a90bd7862fce4e749",
       "version_major": 2,
       "version_minor": 0
      },
      "text/plain": [
       "  0%|          | 0/14 [00:00<?, ?it/s]"
      ]
     },
     "metadata": {},
     "output_type": "display_data"
    },
    {
     "data": {
      "application/vnd.jupyter.widget-view+json": {
       "model_id": "101f713a9b7d4878a77b387d47a63ac7",
       "version_major": 2,
       "version_minor": 0
      },
      "text/plain": [
       "  0%|          | 0/14 [00:00<?, ?it/s]"
      ]
     },
     "metadata": {},
     "output_type": "display_data"
    },
    {
     "data": {
      "application/vnd.jupyter.widget-view+json": {
       "model_id": "08b781ad6e2e4b2abe54960beb14c42b",
       "version_major": 2,
       "version_minor": 0
      },
      "text/plain": [
       "  0%|          | 0/14 [00:00<?, ?it/s]"
      ]
     },
     "metadata": {},
     "output_type": "display_data"
    },
    {
     "data": {
      "application/vnd.jupyter.widget-view+json": {
       "model_id": "fc54a2845c764f09b0d1c5eb2a3ed82d",
       "version_major": 2,
       "version_minor": 0
      },
      "text/plain": [
       "  0%|          | 0/14 [00:00<?, ?it/s]"
      ]
     },
     "metadata": {},
     "output_type": "display_data"
    },
    {
     "data": {
      "application/vnd.jupyter.widget-view+json": {
       "model_id": "385583ab6df74ee782120f430c1cfd3f",
       "version_major": 2,
       "version_minor": 0
      },
      "text/plain": [
       "  0%|          | 0/14 [00:00<?, ?it/s]"
      ]
     },
     "metadata": {},
     "output_type": "display_data"
    },
    {
     "data": {
      "application/vnd.jupyter.widget-view+json": {
       "model_id": "132487158a634aebaabf6a2dea54b1f0",
       "version_major": 2,
       "version_minor": 0
      },
      "text/plain": [
       "  0%|          | 0/14 [00:00<?, ?it/s]"
      ]
     },
     "metadata": {},
     "output_type": "display_data"
    },
    {
     "data": {
      "application/vnd.jupyter.widget-view+json": {
       "model_id": "8d004eb438484112adf00494bcf202aa",
       "version_major": 2,
       "version_minor": 0
      },
      "text/plain": [
       "  0%|          | 0/14 [00:00<?, ?it/s]"
      ]
     },
     "metadata": {},
     "output_type": "display_data"
    },
    {
     "data": {
      "application/vnd.jupyter.widget-view+json": {
       "model_id": "409684d51d1c4e999ced520a18cec8b4",
       "version_major": 2,
       "version_minor": 0
      },
      "text/plain": [
       "  0%|          | 0/14 [00:00<?, ?it/s]"
      ]
     },
     "metadata": {},
     "output_type": "display_data"
    },
    {
     "data": {
      "application/vnd.jupyter.widget-view+json": {
       "model_id": "7b9e630445884e5fba6e7d918f406455",
       "version_major": 2,
       "version_minor": 0
      },
      "text/plain": [
       "  0%|          | 0/14 [00:00<?, ?it/s]"
      ]
     },
     "metadata": {},
     "output_type": "display_data"
    },
    {
     "data": {
      "application/vnd.jupyter.widget-view+json": {
       "model_id": "50b15da87f424d2aa83eeb9c7de77388",
       "version_major": 2,
       "version_minor": 0
      },
      "text/plain": [
       "  0%|          | 0/14 [00:00<?, ?it/s]"
      ]
     },
     "metadata": {},
     "output_type": "display_data"
    },
    {
     "data": {
      "application/vnd.jupyter.widget-view+json": {
       "model_id": "357334fd7e324c358ea0c73ef38f945d",
       "version_major": 2,
       "version_minor": 0
      },
      "text/plain": [
       "  0%|          | 0/14 [00:00<?, ?it/s]"
      ]
     },
     "metadata": {},
     "output_type": "display_data"
    },
    {
     "data": {
      "application/vnd.jupyter.widget-view+json": {
       "model_id": "89bcfefe826f4750b01f5ac058c278a5",
       "version_major": 2,
       "version_minor": 0
      },
      "text/plain": [
       "  0%|          | 0/14 [00:00<?, ?it/s]"
      ]
     },
     "metadata": {},
     "output_type": "display_data"
    },
    {
     "data": {
      "application/vnd.jupyter.widget-view+json": {
       "model_id": "b3ba497005454824aef34f3323bc1ef2",
       "version_major": 2,
       "version_minor": 0
      },
      "text/plain": [
       "  0%|          | 0/14 [00:00<?, ?it/s]"
      ]
     },
     "metadata": {},
     "output_type": "display_data"
    },
    {
     "data": {
      "application/vnd.jupyter.widget-view+json": {
       "model_id": "041ab3e9ec7a4d7091e2a8f690207d8c",
       "version_major": 2,
       "version_minor": 0
      },
      "text/plain": [
       "  0%|          | 0/14 [00:00<?, ?it/s]"
      ]
     },
     "metadata": {},
     "output_type": "display_data"
    },
    {
     "data": {
      "application/vnd.jupyter.widget-view+json": {
       "model_id": "12fa4362f929463d94d937ff272a5c85",
       "version_major": 2,
       "version_minor": 0
      },
      "text/plain": [
       "  0%|          | 0/14 [00:00<?, ?it/s]"
      ]
     },
     "metadata": {},
     "output_type": "display_data"
    },
    {
     "data": {
      "application/vnd.jupyter.widget-view+json": {
       "model_id": "01cbc92776fe42089a017d36d6331a23",
       "version_major": 2,
       "version_minor": 0
      },
      "text/plain": [
       "  0%|          | 0/14 [00:00<?, ?it/s]"
      ]
     },
     "metadata": {},
     "output_type": "display_data"
    },
    {
     "data": {
      "application/vnd.jupyter.widget-view+json": {
       "model_id": "4929540cf3b441dba8cf008c4e361c83",
       "version_major": 2,
       "version_minor": 0
      },
      "text/plain": [
       "  0%|          | 0/14 [00:00<?, ?it/s]"
      ]
     },
     "metadata": {},
     "output_type": "display_data"
    },
    {
     "data": {
      "application/vnd.jupyter.widget-view+json": {
       "model_id": "bf390c592543438194c3f97d7c3c2b1a",
       "version_major": 2,
       "version_minor": 0
      },
      "text/plain": [
       "  0%|          | 0/14 [00:00<?, ?it/s]"
      ]
     },
     "metadata": {},
     "output_type": "display_data"
    },
    {
     "data": {
      "application/vnd.jupyter.widget-view+json": {
       "model_id": "733b230605ee4fdebb4d5731294cec53",
       "version_major": 2,
       "version_minor": 0
      },
      "text/plain": [
       "  0%|          | 0/14 [00:00<?, ?it/s]"
      ]
     },
     "metadata": {},
     "output_type": "display_data"
    },
    {
     "data": {
      "application/vnd.jupyter.widget-view+json": {
       "model_id": "b0baafba847b4cd3a5e6db80165acf87",
       "version_major": 2,
       "version_minor": 0
      },
      "text/plain": [
       "  0%|          | 0/14 [00:00<?, ?it/s]"
      ]
     },
     "metadata": {},
     "output_type": "display_data"
    },
    {
     "data": {
      "application/vnd.jupyter.widget-view+json": {
       "model_id": "d4fb51f2e5ec43d9bc13b37f276200c3",
       "version_major": 2,
       "version_minor": 0
      },
      "text/plain": [
       "  0%|          | 0/14 [00:00<?, ?it/s]"
      ]
     },
     "metadata": {},
     "output_type": "display_data"
    },
    {
     "data": {
      "application/vnd.jupyter.widget-view+json": {
       "model_id": "7260d304aaf344ebbfe8f3faecbf7181",
       "version_major": 2,
       "version_minor": 0
      },
      "text/plain": [
       "  0%|          | 0/14 [00:00<?, ?it/s]"
      ]
     },
     "metadata": {},
     "output_type": "display_data"
    },
    {
     "data": {
      "application/vnd.jupyter.widget-view+json": {
       "model_id": "becea39b3a43467d990f53af31ec5e7f",
       "version_major": 2,
       "version_minor": 0
      },
      "text/plain": [
       "  0%|          | 0/14 [00:00<?, ?it/s]"
      ]
     },
     "metadata": {},
     "output_type": "display_data"
    },
    {
     "data": {
      "application/vnd.jupyter.widget-view+json": {
       "model_id": "d1031ec970ef45b08eaa70efd3301815",
       "version_major": 2,
       "version_minor": 0
      },
      "text/plain": [
       "  0%|          | 0/14 [00:00<?, ?it/s]"
      ]
     },
     "metadata": {},
     "output_type": "display_data"
    },
    {
     "data": {
      "application/vnd.jupyter.widget-view+json": {
       "model_id": "a9c8f8f3709d4f15a08612ab2255ba5b",
       "version_major": 2,
       "version_minor": 0
      },
      "text/plain": [
       "  0%|          | 0/14 [00:00<?, ?it/s]"
      ]
     },
     "metadata": {},
     "output_type": "display_data"
    },
    {
     "data": {
      "application/vnd.jupyter.widget-view+json": {
       "model_id": "0d87c43099224c86ac47fff70894aac2",
       "version_major": 2,
       "version_minor": 0
      },
      "text/plain": [
       "  0%|          | 0/14 [00:00<?, ?it/s]"
      ]
     },
     "metadata": {},
     "output_type": "display_data"
    },
    {
     "data": {
      "application/vnd.jupyter.widget-view+json": {
       "model_id": "7c223b0d15da47dc863dc4e764c58be3",
       "version_major": 2,
       "version_minor": 0
      },
      "text/plain": [
       "  0%|          | 0/14 [00:00<?, ?it/s]"
      ]
     },
     "metadata": {},
     "output_type": "display_data"
    },
    {
     "data": {
      "application/vnd.jupyter.widget-view+json": {
       "model_id": "eabfede874a34626b43b96f938128b33",
       "version_major": 2,
       "version_minor": 0
      },
      "text/plain": [
       "  0%|          | 0/14 [00:00<?, ?it/s]"
      ]
     },
     "metadata": {},
     "output_type": "display_data"
    },
    {
     "data": {
      "application/vnd.jupyter.widget-view+json": {
       "model_id": "068676502de14b59ad65c1ded01a31f3",
       "version_major": 2,
       "version_minor": 0
      },
      "text/plain": [
       "  0%|          | 0/14 [00:00<?, ?it/s]"
      ]
     },
     "metadata": {},
     "output_type": "display_data"
    },
    {
     "data": {
      "application/vnd.jupyter.widget-view+json": {
       "model_id": "c6a183b3e9df432e8f20c8ea28d90622",
       "version_major": 2,
       "version_minor": 0
      },
      "text/plain": [
       "  0%|          | 0/14 [00:00<?, ?it/s]"
      ]
     },
     "metadata": {},
     "output_type": "display_data"
    },
    {
     "data": {
      "application/vnd.jupyter.widget-view+json": {
       "model_id": "9b84ed4478a8425f98b12fced74daa78",
       "version_major": 2,
       "version_minor": 0
      },
      "text/plain": [
       "  0%|          | 0/14 [00:00<?, ?it/s]"
      ]
     },
     "metadata": {},
     "output_type": "display_data"
    },
    {
     "data": {
      "application/vnd.jupyter.widget-view+json": {
       "model_id": "4a3d810dfc8a4cf2b133a3af23cbee7f",
       "version_major": 2,
       "version_minor": 0
      },
      "text/plain": [
       "  0%|          | 0/14 [00:00<?, ?it/s]"
      ]
     },
     "metadata": {},
     "output_type": "display_data"
    },
    {
     "data": {
      "application/vnd.jupyter.widget-view+json": {
       "model_id": "0a2f0154380a4010a1763967df051f41",
       "version_major": 2,
       "version_minor": 0
      },
      "text/plain": [
       "  0%|          | 0/14 [00:00<?, ?it/s]"
      ]
     },
     "metadata": {},
     "output_type": "display_data"
    },
    {
     "data": {
      "application/vnd.jupyter.widget-view+json": {
       "model_id": "f070fd3ffbcb470d821bf8a32da32928",
       "version_major": 2,
       "version_minor": 0
      },
      "text/plain": [
       "  0%|          | 0/14 [00:00<?, ?it/s]"
      ]
     },
     "metadata": {},
     "output_type": "display_data"
    },
    {
     "data": {
      "application/vnd.jupyter.widget-view+json": {
       "model_id": "db0af33b5d764fd3bf7b14d264cfc475",
       "version_major": 2,
       "version_minor": 0
      },
      "text/plain": [
       "  0%|          | 0/14 [00:00<?, ?it/s]"
      ]
     },
     "metadata": {},
     "output_type": "display_data"
    },
    {
     "data": {
      "application/vnd.jupyter.widget-view+json": {
       "model_id": "25431f71cb9c4d1884a57075fff6c5f0",
       "version_major": 2,
       "version_minor": 0
      },
      "text/plain": [
       "  0%|          | 0/14 [00:00<?, ?it/s]"
      ]
     },
     "metadata": {},
     "output_type": "display_data"
    },
    {
     "data": {
      "application/vnd.jupyter.widget-view+json": {
       "model_id": "f856a3aae34447559d63c61985243de7",
       "version_major": 2,
       "version_minor": 0
      },
      "text/plain": [
       "  0%|          | 0/14 [00:00<?, ?it/s]"
      ]
     },
     "metadata": {},
     "output_type": "display_data"
    },
    {
     "data": {
      "application/vnd.jupyter.widget-view+json": {
       "model_id": "db7b2cecf2524d3db1decf4d60da5225",
       "version_major": 2,
       "version_minor": 0
      },
      "text/plain": [
       "  0%|          | 0/14 [00:00<?, ?it/s]"
      ]
     },
     "metadata": {},
     "output_type": "display_data"
    },
    {
     "data": {
      "application/vnd.jupyter.widget-view+json": {
       "model_id": "85017b11e6a34c47839d28ba8d8b3aed",
       "version_major": 2,
       "version_minor": 0
      },
      "text/plain": [
       "  0%|          | 0/14 [00:00<?, ?it/s]"
      ]
     },
     "metadata": {},
     "output_type": "display_data"
    },
    {
     "data": {
      "application/vnd.jupyter.widget-view+json": {
       "model_id": "411d9bd941d64d2e98bf746e222f9670",
       "version_major": 2,
       "version_minor": 0
      },
      "text/plain": [
       "  0%|          | 0/14 [00:00<?, ?it/s]"
      ]
     },
     "metadata": {},
     "output_type": "display_data"
    },
    {
     "data": {
      "application/vnd.jupyter.widget-view+json": {
       "model_id": "eaebda40434943df8410d0317e788586",
       "version_major": 2,
       "version_minor": 0
      },
      "text/plain": [
       "  0%|          | 0/14 [00:00<?, ?it/s]"
      ]
     },
     "metadata": {},
     "output_type": "display_data"
    },
    {
     "data": {
      "application/vnd.jupyter.widget-view+json": {
       "model_id": "86e37228229e4f738688c2818aff8cc9",
       "version_major": 2,
       "version_minor": 0
      },
      "text/plain": [
       "  0%|          | 0/14 [00:00<?, ?it/s]"
      ]
     },
     "metadata": {},
     "output_type": "display_data"
    },
    {
     "data": {
      "application/vnd.jupyter.widget-view+json": {
       "model_id": "eb93ae50f1d34f41b6d2233a13d04f3a",
       "version_major": 2,
       "version_minor": 0
      },
      "text/plain": [
       "  0%|          | 0/14 [00:00<?, ?it/s]"
      ]
     },
     "metadata": {},
     "output_type": "display_data"
    },
    {
     "data": {
      "application/vnd.jupyter.widget-view+json": {
       "model_id": "10219aaaa978468f9b24c181cc8726b4",
       "version_major": 2,
       "version_minor": 0
      },
      "text/plain": [
       "  0%|          | 0/14 [00:00<?, ?it/s]"
      ]
     },
     "metadata": {},
     "output_type": "display_data"
    },
    {
     "data": {
      "application/vnd.jupyter.widget-view+json": {
       "model_id": "d05b407cd80f4628bee9ad515737cfc4",
       "version_major": 2,
       "version_minor": 0
      },
      "text/plain": [
       "  0%|          | 0/14 [00:00<?, ?it/s]"
      ]
     },
     "metadata": {},
     "output_type": "display_data"
    },
    {
     "data": {
      "application/vnd.jupyter.widget-view+json": {
       "model_id": "e3dff983c4e8447484b73cc63d390d96",
       "version_major": 2,
       "version_minor": 0
      },
      "text/plain": [
       "  0%|          | 0/14 [00:00<?, ?it/s]"
      ]
     },
     "metadata": {},
     "output_type": "display_data"
    },
    {
     "data": {
      "application/vnd.jupyter.widget-view+json": {
       "model_id": "3ef629fbeb444a68af0a0e7e7d592113",
       "version_major": 2,
       "version_minor": 0
      },
      "text/plain": [
       "  0%|          | 0/14 [00:00<?, ?it/s]"
      ]
     },
     "metadata": {},
     "output_type": "display_data"
    },
    {
     "data": {
      "application/vnd.jupyter.widget-view+json": {
       "model_id": "a89a6956393b485c9fd38a0b69913c70",
       "version_major": 2,
       "version_minor": 0
      },
      "text/plain": [
       "  0%|          | 0/14 [00:00<?, ?it/s]"
      ]
     },
     "metadata": {},
     "output_type": "display_data"
    },
    {
     "data": {
      "application/vnd.jupyter.widget-view+json": {
       "model_id": "3b05db4867bb4fd0b3ec896f97368ef7",
       "version_major": 2,
       "version_minor": 0
      },
      "text/plain": [
       "  0%|          | 0/14 [00:00<?, ?it/s]"
      ]
     },
     "metadata": {},
     "output_type": "display_data"
    },
    {
     "data": {
      "application/vnd.jupyter.widget-view+json": {
       "model_id": "8b1099e592c5435bad4600e79fa81814",
       "version_major": 2,
       "version_minor": 0
      },
      "text/plain": [
       "  0%|          | 0/14 [00:00<?, ?it/s]"
      ]
     },
     "metadata": {},
     "output_type": "display_data"
    },
    {
     "data": {
      "application/vnd.jupyter.widget-view+json": {
       "model_id": "d39f2ac778dd4d06b758e7958d3e0fa1",
       "version_major": 2,
       "version_minor": 0
      },
      "text/plain": [
       "  0%|          | 0/14 [00:00<?, ?it/s]"
      ]
     },
     "metadata": {},
     "output_type": "display_data"
    },
    {
     "data": {
      "application/vnd.jupyter.widget-view+json": {
       "model_id": "13b7f74cb92447e98324387e782c43ed",
       "version_major": 2,
       "version_minor": 0
      },
      "text/plain": [
       "  0%|          | 0/14 [00:00<?, ?it/s]"
      ]
     },
     "metadata": {},
     "output_type": "display_data"
    },
    {
     "data": {
      "application/vnd.jupyter.widget-view+json": {
       "model_id": "5d6259546bf9444ba3a7b66ea9bb3b2e",
       "version_major": 2,
       "version_minor": 0
      },
      "text/plain": [
       "  0%|          | 0/14 [00:00<?, ?it/s]"
      ]
     },
     "metadata": {},
     "output_type": "display_data"
    },
    {
     "data": {
      "application/vnd.jupyter.widget-view+json": {
       "model_id": "b7a69dd5c375447fbade9318e21e8b38",
       "version_major": 2,
       "version_minor": 0
      },
      "text/plain": [
       "  0%|          | 0/14 [00:00<?, ?it/s]"
      ]
     },
     "metadata": {},
     "output_type": "display_data"
    },
    {
     "data": {
      "application/vnd.jupyter.widget-view+json": {
       "model_id": "59f44c9d5e924e7995c4dc49548dd700",
       "version_major": 2,
       "version_minor": 0
      },
      "text/plain": [
       "  0%|          | 0/14 [00:00<?, ?it/s]"
      ]
     },
     "metadata": {},
     "output_type": "display_data"
    },
    {
     "data": {
      "application/vnd.jupyter.widget-view+json": {
       "model_id": "ba1b8fac862c424d97df128ebd7dc1f0",
       "version_major": 2,
       "version_minor": 0
      },
      "text/plain": [
       "  0%|          | 0/14 [00:00<?, ?it/s]"
      ]
     },
     "metadata": {},
     "output_type": "display_data"
    },
    {
     "data": {
      "application/vnd.jupyter.widget-view+json": {
       "model_id": "8b6f279e93604bdeac06e99a99e5b961",
       "version_major": 2,
       "version_minor": 0
      },
      "text/plain": [
       "  0%|          | 0/14 [00:00<?, ?it/s]"
      ]
     },
     "metadata": {},
     "output_type": "display_data"
    },
    {
     "data": {
      "application/vnd.jupyter.widget-view+json": {
       "model_id": "bf1024b403224d1fa35bfe0ca9fc038b",
       "version_major": 2,
       "version_minor": 0
      },
      "text/plain": [
       "  0%|          | 0/14 [00:00<?, ?it/s]"
      ]
     },
     "metadata": {},
     "output_type": "display_data"
    },
    {
     "data": {
      "application/vnd.jupyter.widget-view+json": {
       "model_id": "0bbab9ddc50446298f1c744583d9c940",
       "version_major": 2,
       "version_minor": 0
      },
      "text/plain": [
       "  0%|          | 0/14 [00:00<?, ?it/s]"
      ]
     },
     "metadata": {},
     "output_type": "display_data"
    },
    {
     "data": {
      "application/vnd.jupyter.widget-view+json": {
       "model_id": "59861c2f053b426f9e1e18ad914b92e2",
       "version_major": 2,
       "version_minor": 0
      },
      "text/plain": [
       "  0%|          | 0/14 [00:00<?, ?it/s]"
      ]
     },
     "metadata": {},
     "output_type": "display_data"
    },
    {
     "data": {
      "application/vnd.jupyter.widget-view+json": {
       "model_id": "f7dca0aa44924d81b1cdab6888ee1cea",
       "version_major": 2,
       "version_minor": 0
      },
      "text/plain": [
       "  0%|          | 0/14 [00:00<?, ?it/s]"
      ]
     },
     "metadata": {},
     "output_type": "display_data"
    },
    {
     "data": {
      "application/vnd.jupyter.widget-view+json": {
       "model_id": "fe6a1bb6556b4a74913e8712b2bf3313",
       "version_major": 2,
       "version_minor": 0
      },
      "text/plain": [
       "  0%|          | 0/14 [00:00<?, ?it/s]"
      ]
     },
     "metadata": {},
     "output_type": "display_data"
    },
    {
     "data": {
      "application/vnd.jupyter.widget-view+json": {
       "model_id": "271a4543e4654591a89fbee289f6f8f6",
       "version_major": 2,
       "version_minor": 0
      },
      "text/plain": [
       "  0%|          | 0/14 [00:00<?, ?it/s]"
      ]
     },
     "metadata": {},
     "output_type": "display_data"
    },
    {
     "data": {
      "application/vnd.jupyter.widget-view+json": {
       "model_id": "7474db0f20f14343b0e05ef3f7b44bdf",
       "version_major": 2,
       "version_minor": 0
      },
      "text/plain": [
       "  0%|          | 0/14 [00:00<?, ?it/s]"
      ]
     },
     "metadata": {},
     "output_type": "display_data"
    },
    {
     "data": {
      "application/vnd.jupyter.widget-view+json": {
       "model_id": "87cd6a6567cb44089fe603e0f9dcfd82",
       "version_major": 2,
       "version_minor": 0
      },
      "text/plain": [
       "  0%|          | 0/14 [00:00<?, ?it/s]"
      ]
     },
     "metadata": {},
     "output_type": "display_data"
    },
    {
     "data": {
      "application/vnd.jupyter.widget-view+json": {
       "model_id": "b98be05dafab4754b28f0692bcea113c",
       "version_major": 2,
       "version_minor": 0
      },
      "text/plain": [
       "  0%|          | 0/14 [00:00<?, ?it/s]"
      ]
     },
     "metadata": {},
     "output_type": "display_data"
    },
    {
     "data": {
      "application/vnd.jupyter.widget-view+json": {
       "model_id": "206d219be4004483ab834337ec759611",
       "version_major": 2,
       "version_minor": 0
      },
      "text/plain": [
       "  0%|          | 0/14 [00:00<?, ?it/s]"
      ]
     },
     "metadata": {},
     "output_type": "display_data"
    },
    {
     "data": {
      "application/vnd.jupyter.widget-view+json": {
       "model_id": "1a09e08cbdb8401f8b50ee6754eeaa77",
       "version_major": 2,
       "version_minor": 0
      },
      "text/plain": [
       "  0%|          | 0/14 [00:00<?, ?it/s]"
      ]
     },
     "metadata": {},
     "output_type": "display_data"
    },
    {
     "data": {
      "application/vnd.jupyter.widget-view+json": {
       "model_id": "99bf1a2257f9468183f766a3680192f1",
       "version_major": 2,
       "version_minor": 0
      },
      "text/plain": [
       "  0%|          | 0/14 [00:00<?, ?it/s]"
      ]
     },
     "metadata": {},
     "output_type": "display_data"
    },
    {
     "data": {
      "application/vnd.jupyter.widget-view+json": {
       "model_id": "43a2832840974f9ea942ad0ca6a7684d",
       "version_major": 2,
       "version_minor": 0
      },
      "text/plain": [
       "  0%|          | 0/14 [00:00<?, ?it/s]"
      ]
     },
     "metadata": {},
     "output_type": "display_data"
    },
    {
     "data": {
      "application/vnd.jupyter.widget-view+json": {
       "model_id": "25e0f9971ac54e4db860caef64206186",
       "version_major": 2,
       "version_minor": 0
      },
      "text/plain": [
       "  0%|          | 0/14 [00:00<?, ?it/s]"
      ]
     },
     "metadata": {},
     "output_type": "display_data"
    },
    {
     "data": {
      "application/vnd.jupyter.widget-view+json": {
       "model_id": "4acd33f56ac94f6d874aca399a73f22e",
       "version_major": 2,
       "version_minor": 0
      },
      "text/plain": [
       "  0%|          | 0/14 [00:00<?, ?it/s]"
      ]
     },
     "metadata": {},
     "output_type": "display_data"
    },
    {
     "data": {
      "application/vnd.jupyter.widget-view+json": {
       "model_id": "d899a28a5d8f45e48ef0285bc5790c91",
       "version_major": 2,
       "version_minor": 0
      },
      "text/plain": [
       "  0%|          | 0/14 [00:00<?, ?it/s]"
      ]
     },
     "metadata": {},
     "output_type": "display_data"
    },
    {
     "data": {
      "application/vnd.jupyter.widget-view+json": {
       "model_id": "be02fa323eeb49eaa55af4c0e43598b2",
       "version_major": 2,
       "version_minor": 0
      },
      "text/plain": [
       "  0%|          | 0/14 [00:00<?, ?it/s]"
      ]
     },
     "metadata": {},
     "output_type": "display_data"
    },
    {
     "data": {
      "application/vnd.jupyter.widget-view+json": {
       "model_id": "486e980e97d1438299de031ef315f047",
       "version_major": 2,
       "version_minor": 0
      },
      "text/plain": [
       "  0%|          | 0/14 [00:00<?, ?it/s]"
      ]
     },
     "metadata": {},
     "output_type": "display_data"
    },
    {
     "data": {
      "application/vnd.jupyter.widget-view+json": {
       "model_id": "3548751a2aca441880c6d892ce49a3a7",
       "version_major": 2,
       "version_minor": 0
      },
      "text/plain": [
       "  0%|          | 0/14 [00:00<?, ?it/s]"
      ]
     },
     "metadata": {},
     "output_type": "display_data"
    },
    {
     "data": {
      "application/vnd.jupyter.widget-view+json": {
       "model_id": "fc6b852b76114463b291dedbc7325414",
       "version_major": 2,
       "version_minor": 0
      },
      "text/plain": [
       "  0%|          | 0/14 [00:00<?, ?it/s]"
      ]
     },
     "metadata": {},
     "output_type": "display_data"
    },
    {
     "data": {
      "application/vnd.jupyter.widget-view+json": {
       "model_id": "fd57f6b519ae4715821be456f7173ea8",
       "version_major": 2,
       "version_minor": 0
      },
      "text/plain": [
       "  0%|          | 0/14 [00:00<?, ?it/s]"
      ]
     },
     "metadata": {},
     "output_type": "display_data"
    },
    {
     "data": {
      "application/vnd.jupyter.widget-view+json": {
       "model_id": "9498ef19b5464bdbad5ef490856e48d5",
       "version_major": 2,
       "version_minor": 0
      },
      "text/plain": [
       "  0%|          | 0/14 [00:00<?, ?it/s]"
      ]
     },
     "metadata": {},
     "output_type": "display_data"
    },
    {
     "data": {
      "application/vnd.jupyter.widget-view+json": {
       "model_id": "5e869de916a240bfa48fedd983ffdf1e",
       "version_major": 2,
       "version_minor": 0
      },
      "text/plain": [
       "  0%|          | 0/14 [00:00<?, ?it/s]"
      ]
     },
     "metadata": {},
     "output_type": "display_data"
    },
    {
     "data": {
      "application/vnd.jupyter.widget-view+json": {
       "model_id": "6e9114cdf920475d9964abf5c40db325",
       "version_major": 2,
       "version_minor": 0
      },
      "text/plain": [
       "  0%|          | 0/14 [00:00<?, ?it/s]"
      ]
     },
     "metadata": {},
     "output_type": "display_data"
    },
    {
     "data": {
      "application/vnd.jupyter.widget-view+json": {
       "model_id": "3ebb16016df649d9af662507c38a07f3",
       "version_major": 2,
       "version_minor": 0
      },
      "text/plain": [
       "  0%|          | 0/14 [00:00<?, ?it/s]"
      ]
     },
     "metadata": {},
     "output_type": "display_data"
    },
    {
     "data": {
      "application/vnd.jupyter.widget-view+json": {
       "model_id": "dbe17c060bd14f1bbc4d92006068df2e",
       "version_major": 2,
       "version_minor": 0
      },
      "text/plain": [
       "  0%|          | 0/14 [00:00<?, ?it/s]"
      ]
     },
     "metadata": {},
     "output_type": "display_data"
    },
    {
     "data": {
      "application/vnd.jupyter.widget-view+json": {
       "model_id": "abb2f3c9ea7a4af4b57cdaef0e56922b",
       "version_major": 2,
       "version_minor": 0
      },
      "text/plain": [
       "  0%|          | 0/14 [00:00<?, ?it/s]"
      ]
     },
     "metadata": {},
     "output_type": "display_data"
    },
    {
     "data": {
      "application/vnd.jupyter.widget-view+json": {
       "model_id": "58367c25d19542fb8c145ea811406d52",
       "version_major": 2,
       "version_minor": 0
      },
      "text/plain": [
       "  0%|          | 0/14 [00:00<?, ?it/s]"
      ]
     },
     "metadata": {},
     "output_type": "display_data"
    },
    {
     "data": {
      "application/vnd.jupyter.widget-view+json": {
       "model_id": "2ce1431517284610a0c11c4d9a691e92",
       "version_major": 2,
       "version_minor": 0
      },
      "text/plain": [
       "  0%|          | 0/14 [00:00<?, ?it/s]"
      ]
     },
     "metadata": {},
     "output_type": "display_data"
    },
    {
     "data": {
      "application/vnd.jupyter.widget-view+json": {
       "model_id": "4c0b2c8d9ffe4954b0aa364c7fc612a7",
       "version_major": 2,
       "version_minor": 0
      },
      "text/plain": [
       "  0%|          | 0/14 [00:00<?, ?it/s]"
      ]
     },
     "metadata": {},
     "output_type": "display_data"
    },
    {
     "data": {
      "application/vnd.jupyter.widget-view+json": {
       "model_id": "49c53e8b4fb24120b506c637615ee50f",
       "version_major": 2,
       "version_minor": 0
      },
      "text/plain": [
       "  0%|          | 0/14 [00:00<?, ?it/s]"
      ]
     },
     "metadata": {},
     "output_type": "display_data"
    },
    {
     "data": {
      "text/html": [
       "<div>\n",
       "<style scoped>\n",
       "    .dataframe tbody tr th:only-of-type {\n",
       "        vertical-align: middle;\n",
       "    }\n",
       "\n",
       "    .dataframe tbody tr th {\n",
       "        vertical-align: top;\n",
       "    }\n",
       "\n",
       "    .dataframe thead th {\n",
       "        text-align: right;\n",
       "    }\n",
       "</style>\n",
       "<table border=\"1\" class=\"dataframe\">\n",
       "  <thead>\n",
       "    <tr style=\"text-align: right;\">\n",
       "      <th></th>\n",
       "      <th>changepoint_prior_scale</th>\n",
       "      <th>seasonality_prior_scale</th>\n",
       "      <th>holidays_prior_scale</th>\n",
       "      <th>seasonality_mode</th>\n",
       "      <th>mse</th>\n",
       "    </tr>\n",
       "  </thead>\n",
       "  <tbody>\n",
       "    <tr>\n",
       "      <th>0</th>\n",
       "      <td>0.001</td>\n",
       "      <td>0.01</td>\n",
       "      <td>0.01</td>\n",
       "      <td>additive</td>\n",
       "      <td>93.146817</td>\n",
       "    </tr>\n",
       "    <tr>\n",
       "      <th>1</th>\n",
       "      <td>0.001</td>\n",
       "      <td>0.01</td>\n",
       "      <td>0.01</td>\n",
       "      <td>multiplicative</td>\n",
       "      <td>109.625417</td>\n",
       "    </tr>\n",
       "    <tr>\n",
       "      <th>2</th>\n",
       "      <td>0.001</td>\n",
       "      <td>0.01</td>\n",
       "      <td>0.10</td>\n",
       "      <td>additive</td>\n",
       "      <td>91.510564</td>\n",
       "    </tr>\n",
       "    <tr>\n",
       "      <th>3</th>\n",
       "      <td>0.001</td>\n",
       "      <td>0.01</td>\n",
       "      <td>0.10</td>\n",
       "      <td>multiplicative</td>\n",
       "      <td>110.202801</td>\n",
       "    </tr>\n",
       "    <tr>\n",
       "      <th>4</th>\n",
       "      <td>0.001</td>\n",
       "      <td>0.01</td>\n",
       "      <td>1.00</td>\n",
       "      <td>additive</td>\n",
       "      <td>92.004584</td>\n",
       "    </tr>\n",
       "    <tr>\n",
       "      <th>...</th>\n",
       "      <td>...</td>\n",
       "      <td>...</td>\n",
       "      <td>...</td>\n",
       "      <td>...</td>\n",
       "      <td>...</td>\n",
       "    </tr>\n",
       "    <tr>\n",
       "      <th>123</th>\n",
       "      <td>0.500</td>\n",
       "      <td>10.00</td>\n",
       "      <td>0.10</td>\n",
       "      <td>multiplicative</td>\n",
       "      <td>59.689526</td>\n",
       "    </tr>\n",
       "    <tr>\n",
       "      <th>124</th>\n",
       "      <td>0.500</td>\n",
       "      <td>10.00</td>\n",
       "      <td>1.00</td>\n",
       "      <td>additive</td>\n",
       "      <td>61.598888</td>\n",
       "    </tr>\n",
       "    <tr>\n",
       "      <th>125</th>\n",
       "      <td>0.500</td>\n",
       "      <td>10.00</td>\n",
       "      <td>1.00</td>\n",
       "      <td>multiplicative</td>\n",
       "      <td>60.838321</td>\n",
       "    </tr>\n",
       "    <tr>\n",
       "      <th>126</th>\n",
       "      <td>0.500</td>\n",
       "      <td>10.00</td>\n",
       "      <td>10.00</td>\n",
       "      <td>additive</td>\n",
       "      <td>61.723797</td>\n",
       "    </tr>\n",
       "    <tr>\n",
       "      <th>127</th>\n",
       "      <td>0.500</td>\n",
       "      <td>10.00</td>\n",
       "      <td>10.00</td>\n",
       "      <td>multiplicative</td>\n",
       "      <td>60.728225</td>\n",
       "    </tr>\n",
       "  </tbody>\n",
       "</table>\n",
       "<p>128 rows × 5 columns</p>\n",
       "</div>"
      ],
      "text/plain": [
       "     changepoint_prior_scale  seasonality_prior_scale  holidays_prior_scale  \\\n",
       "0                      0.001                     0.01                  0.01   \n",
       "1                      0.001                     0.01                  0.01   \n",
       "2                      0.001                     0.01                  0.10   \n",
       "3                      0.001                     0.01                  0.10   \n",
       "4                      0.001                     0.01                  1.00   \n",
       "..                       ...                      ...                   ...   \n",
       "123                    0.500                    10.00                  0.10   \n",
       "124                    0.500                    10.00                  1.00   \n",
       "125                    0.500                    10.00                  1.00   \n",
       "126                    0.500                    10.00                 10.00   \n",
       "127                    0.500                    10.00                 10.00   \n",
       "\n",
       "    seasonality_mode         mse  \n",
       "0           additive   93.146817  \n",
       "1     multiplicative  109.625417  \n",
       "2           additive   91.510564  \n",
       "3     multiplicative  110.202801  \n",
       "4           additive   92.004584  \n",
       "..               ...         ...  \n",
       "123   multiplicative   59.689526  \n",
       "124         additive   61.598888  \n",
       "125   multiplicative   60.838321  \n",
       "126         additive   61.723797  \n",
       "127   multiplicative   60.728225  \n",
       "\n",
       "[128 rows x 5 columns]"
      ]
     },
     "execution_count": 13,
     "metadata": {},
     "output_type": "execute_result"
    }
   ],
   "source": [
    "import logging\n",
    "import os\n",
    "import sys\n",
    "from itertools import product\n",
    "from prophet.diagnostics import cross_validation, performance_metrics\n",
    "import contextlib\n",
    "\n",
    "logging.getLogger('cmdstanpy').disabled = True\n",
    "\n",
    "@contextlib.contextmanager\n",
    "def suppress_stderr():\n",
    "    with open(os.devnull, \"w\") as devnull:\n",
    "        old_stderr = sys.stderr\n",
    "        sys.stderr = devnull\n",
    "        try:  \n",
    "            yield\n",
    "        finally:\n",
    "            sys.stderr = old_stderr\n",
    "\n",
    "train = df.iloc[:-12]\n",
    "test = df.iloc[-12:]\n",
    "\n",
    "param_grid = {\n",
    "    'changepoint_prior_scale': [0.001, 0.01, 0.1, 0.5],\n",
    "    'seasonality_prior_scale': [0.01, 0.1, 1.0, 10.0],\n",
    "    'holidays_prior_scale':  [0.01, 0.1, 1.0, 10.0],\n",
    "    'seasonality_mode': ['additive', 'multiplicative']\n",
    "}\n",
    "\n",
    "params = [dict(zip(param_grid.keys(), v)) for v in product(*param_grid.values())]\n",
    "\n",
    "mses = []\n",
    "\n",
    "end_date = train['ds'].max() - pd.DateOffset(months=12)  \n",
    "start_date = train['ds'].min() + pd.DateOffset(years=5)\n",
    "\n",
    "cutoffs = pd.date_range(start=start_date, end=end_date, freq='12M')\n",
    "\n",
    "for param in params:\n",
    "    with suppress_stderr():\n",
    "        m = Prophet(**param)\n",
    "        m.add_country_holidays(country_name='UK')\n",
    "        m.fit(train)\n",
    "    \n",
    "        df_cv = cross_validation(model=m, horizon='365 days', cutoffs=cutoffs)\n",
    "        df_p = performance_metrics(df_cv, rolling_window=1)\n",
    "        mses.append(df_p['mse'].values[0])\n",
    "    \n",
    "tuning_results = pd.DataFrame(params)\n",
    "tuning_results['mse'] = mses\n",
    "\n",
    "tuning_results"
   ]
  },
  {
   "cell_type": "markdown",
   "metadata": {},
   "source": [
    "### Extracting Optimal Parameter Combination and Model Fitting\n",
    "Once this process is over, we can extract the optimal parameter combination."
   ]
  },
  {
   "cell_type": "code",
   "execution_count": 14,
   "metadata": {},
   "outputs": [
    {
     "data": {
      "text/plain": [
       "{'changepoint_prior_scale': 0.01,\n",
       " 'seasonality_prior_scale': 0.1,\n",
       " 'holidays_prior_scale': 0.01,\n",
       " 'seasonality_mode': 'multiplicative'}"
      ]
     },
     "execution_count": 14,
     "metadata": {},
     "output_type": "execute_result"
    }
   ],
   "source": [
    "best_params = params[np.argmin(mses)]\n",
    "best_params"
   ]
  },
  {
   "cell_type": "markdown",
   "metadata": {},
   "source": [
    "The best parameters based on the minimum mean squared error (MSE) are as follows: a `changepoint_prior_scale` of 0.01, indicating a preference for a smoother trend; a `seasonality_prior_scale` of 0.1, allowing for moderate seasonal variability; a `holidays_prior_scale` of 10.0, granting significant flexibility to holiday effects; and a `seasonality_mode` set to multiplicative, meaning the seasonal effects are proportional to the overall trend. This combination of parameters provides the most accurate and generalisable model for this data."
   ]
  },
  {
   "cell_type": "markdown",
   "metadata": {},
   "source": [
    "### Deriving the Optimal Parameter Combination and Evaluating Model Performance\n",
    "\n",
    "After completing the hyperparameter tuning process, we identify the optimal parameter combination and proceed to train the model using the entire training dataset. We enhance the model by incorporating the same country-specific holidays used during cross-validation, specifically those of the United Kingdom, to improve its forecasting accuracy. Subsequently, we evaluate the model's performance using the test dataset to ensure its robustness and generalisability."
   ]
  },
  {
   "cell_type": "code",
   "execution_count": 15,
   "metadata": {},
   "outputs": [],
   "source": [
    "m = Prophet(**best_params)\n",
    "m.add_country_holidays(country_name = 'UK')\n",
    "m.fit(train);"
   ]
  },
  {
   "cell_type": "markdown",
   "metadata": {},
   "source": [
    "The next step is to obtain the forecast of our model for the same period as the test set and merge them with the test set for easier evaluation and plotting."
   ]
  },
  {
   "cell_type": "code",
   "execution_count": 16,
   "metadata": {},
   "outputs": [
    {
     "data": {
      "text/html": [
       "<div>\n",
       "<style scoped>\n",
       "    .dataframe tbody tr th:only-of-type {\n",
       "        vertical-align: middle;\n",
       "    }\n",
       "\n",
       "    .dataframe tbody tr th {\n",
       "        vertical-align: top;\n",
       "    }\n",
       "\n",
       "    .dataframe thead th {\n",
       "        text-align: right;\n",
       "    }\n",
       "</style>\n",
       "<table border=\"1\" class=\"dataframe\">\n",
       "  <thead>\n",
       "    <tr style=\"text-align: right;\">\n",
       "      <th></th>\n",
       "      <th>ds</th>\n",
       "      <th>yhat</th>\n",
       "      <th>yhat_lower</th>\n",
       "      <th>yhat_upper</th>\n",
       "    </tr>\n",
       "  </thead>\n",
       "  <tbody>\n",
       "    <tr>\n",
       "      <th>233</th>\n",
       "      <td>2023-06-30</td>\n",
       "      <td>67.189485</td>\n",
       "      <td>60.026659</td>\n",
       "      <td>74.337605</td>\n",
       "    </tr>\n",
       "    <tr>\n",
       "      <th>234</th>\n",
       "      <td>2023-07-31</td>\n",
       "      <td>64.197017</td>\n",
       "      <td>57.261544</td>\n",
       "      <td>70.854885</td>\n",
       "    </tr>\n",
       "    <tr>\n",
       "      <th>235</th>\n",
       "      <td>2023-08-31</td>\n",
       "      <td>58.017038</td>\n",
       "      <td>51.100269</td>\n",
       "      <td>64.968420</td>\n",
       "    </tr>\n",
       "    <tr>\n",
       "      <th>236</th>\n",
       "      <td>2023-09-30</td>\n",
       "      <td>55.193440</td>\n",
       "      <td>47.571486</td>\n",
       "      <td>62.539307</td>\n",
       "    </tr>\n",
       "    <tr>\n",
       "      <th>237</th>\n",
       "      <td>2023-10-31</td>\n",
       "      <td>49.821112</td>\n",
       "      <td>42.936461</td>\n",
       "      <td>57.087511</td>\n",
       "    </tr>\n",
       "    <tr>\n",
       "      <th>238</th>\n",
       "      <td>2023-11-30</td>\n",
       "      <td>47.054215</td>\n",
       "      <td>40.313916</td>\n",
       "      <td>53.645892</td>\n",
       "    </tr>\n",
       "    <tr>\n",
       "      <th>239</th>\n",
       "      <td>2023-12-31</td>\n",
       "      <td>46.452097</td>\n",
       "      <td>39.215487</td>\n",
       "      <td>53.245876</td>\n",
       "    </tr>\n",
       "    <tr>\n",
       "      <th>240</th>\n",
       "      <td>2024-01-31</td>\n",
       "      <td>53.606512</td>\n",
       "      <td>46.664058</td>\n",
       "      <td>60.847697</td>\n",
       "    </tr>\n",
       "    <tr>\n",
       "      <th>241</th>\n",
       "      <td>2024-02-29</td>\n",
       "      <td>72.314881</td>\n",
       "      <td>65.424291</td>\n",
       "      <td>79.116110</td>\n",
       "    </tr>\n",
       "    <tr>\n",
       "      <th>242</th>\n",
       "      <td>2024-03-31</td>\n",
       "      <td>79.494304</td>\n",
       "      <td>72.524778</td>\n",
       "      <td>86.430114</td>\n",
       "    </tr>\n",
       "    <tr>\n",
       "      <th>243</th>\n",
       "      <td>2024-04-30</td>\n",
       "      <td>71.348425</td>\n",
       "      <td>64.160156</td>\n",
       "      <td>77.961518</td>\n",
       "    </tr>\n",
       "    <tr>\n",
       "      <th>244</th>\n",
       "      <td>2024-05-31</td>\n",
       "      <td>83.443092</td>\n",
       "      <td>76.896567</td>\n",
       "      <td>90.520604</td>\n",
       "    </tr>\n",
       "  </tbody>\n",
       "</table>\n",
       "</div>"
      ],
      "text/plain": [
       "            ds       yhat  yhat_lower  yhat_upper\n",
       "233 2023-06-30  67.189485   60.026659   74.337605\n",
       "234 2023-07-31  64.197017   57.261544   70.854885\n",
       "235 2023-08-31  58.017038   51.100269   64.968420\n",
       "236 2023-09-30  55.193440   47.571486   62.539307\n",
       "237 2023-10-31  49.821112   42.936461   57.087511\n",
       "238 2023-11-30  47.054215   40.313916   53.645892\n",
       "239 2023-12-31  46.452097   39.215487   53.245876\n",
       "240 2024-01-31  53.606512   46.664058   60.847697\n",
       "241 2024-02-29  72.314881   65.424291   79.116110\n",
       "242 2024-03-31  79.494304   72.524778   86.430114\n",
       "243 2024-04-30  71.348425   64.160156   77.961518\n",
       "244 2024-05-31  83.443092   76.896567   90.520604"
      ]
     },
     "execution_count": 16,
     "metadata": {},
     "output_type": "execute_result"
    }
   ],
   "source": [
    "future = m.make_future_dataframe(periods=12, freq='M')\n",
    "forcast = m.predict(future)\n",
    "forcast[['ds', 'yhat', 'yhat_lower', 'yhat_upper']].tail(12)"
   ]
  },
  {
   "cell_type": "code",
   "execution_count": 17,
   "metadata": {},
   "outputs": [
    {
     "data": {
      "text/html": [
       "<div>\n",
       "<style scoped>\n",
       "    .dataframe tbody tr th:only-of-type {\n",
       "        vertical-align: middle;\n",
       "    }\n",
       "\n",
       "    .dataframe tbody tr th {\n",
       "        vertical-align: top;\n",
       "    }\n",
       "\n",
       "    .dataframe thead th {\n",
       "        text-align: right;\n",
       "    }\n",
       "</style>\n",
       "<table border=\"1\" class=\"dataframe\">\n",
       "  <thead>\n",
       "    <tr style=\"text-align: right;\">\n",
       "      <th></th>\n",
       "      <th>ds</th>\n",
       "      <th>y</th>\n",
       "      <th>yhat</th>\n",
       "      <th>yhat_lower</th>\n",
       "      <th>yhat_upper</th>\n",
       "    </tr>\n",
       "  </thead>\n",
       "  <tbody>\n",
       "    <tr>\n",
       "      <th>233</th>\n",
       "      <td>2023-06-30</td>\n",
       "      <td>68</td>\n",
       "      <td>67.189485</td>\n",
       "      <td>60.026659</td>\n",
       "      <td>74.337605</td>\n",
       "    </tr>\n",
       "    <tr>\n",
       "      <th>234</th>\n",
       "      <td>2023-07-31</td>\n",
       "      <td>63</td>\n",
       "      <td>64.197017</td>\n",
       "      <td>57.261544</td>\n",
       "      <td>70.854885</td>\n",
       "    </tr>\n",
       "    <tr>\n",
       "      <th>235</th>\n",
       "      <td>2023-08-31</td>\n",
       "      <td>54</td>\n",
       "      <td>58.017038</td>\n",
       "      <td>51.100269</td>\n",
       "      <td>64.968420</td>\n",
       "    </tr>\n",
       "    <tr>\n",
       "      <th>236</th>\n",
       "      <td>2023-09-30</td>\n",
       "      <td>50</td>\n",
       "      <td>55.193440</td>\n",
       "      <td>47.571486</td>\n",
       "      <td>62.539307</td>\n",
       "    </tr>\n",
       "    <tr>\n",
       "      <th>237</th>\n",
       "      <td>2023-10-31</td>\n",
       "      <td>44</td>\n",
       "      <td>49.821112</td>\n",
       "      <td>42.936461</td>\n",
       "      <td>57.087511</td>\n",
       "    </tr>\n",
       "  </tbody>\n",
       "</table>\n",
       "</div>"
      ],
      "text/plain": [
       "            ds   y       yhat  yhat_lower  yhat_upper\n",
       "233 2023-06-30  68  67.189485   60.026659   74.337605\n",
       "234 2023-07-31  63  64.197017   57.261544   70.854885\n",
       "235 2023-08-31  54  58.017038   51.100269   64.968420\n",
       "236 2023-09-30  50  55.193440   47.571486   62.539307\n",
       "237 2023-10-31  44  49.821112   42.936461   57.087511"
      ]
     },
     "execution_count": 17,
     "metadata": {},
     "output_type": "execute_result"
    }
   ],
   "source": [
    "test[['yhat', 'yhat_lower', 'yhat_upper']] = forcast[['yhat', 'yhat_lower', 'yhat_upper']]\n",
    "test.head()"
   ]
  },
  {
   "cell_type": "markdown",
   "metadata": {},
   "source": [
    "### Establishing a Baseline Model: Capturing Seasonality and Trend\n",
    "\n",
    "Before evaluating our model's performance, it is crucial to establish a benchmark for comparison. The plot revealed a clear seasonal pattern and an increasing trend in the proportion of searches using the keyword \"flowers\" in the United Kingdom. Therefore, a suitable baseline model should be able to capture both seasonality and trend. The Exponential Smoothing (Holt-Winters) method is well-suited for this task as it can capture the level, trend, and seasonal components of the time series. The Holt-Winters method, which includes both additive and multiplicative seasonality, provides a robust baseline model for this data."
   ]
  },
  {
   "cell_type": "code",
   "execution_count": 18,
   "metadata": {},
   "outputs": [],
   "source": [
    "from statsmodels.tsa.holtwinters import ExponentialSmoothing\n",
    "\n",
    "# Fit the Holt-Winters model\n",
    "hw_model = ExponentialSmoothing(\n",
    "    train['y'], \n",
    "    trend='add', \n",
    "    seasonal='multiplicative', \n",
    "    seasonal_periods=12\n",
    ").fit()\n",
    "\n",
    "# Generate predictions\n",
    "baseline = hw_model.forecast(len(test))"
   ]
  },
  {
   "cell_type": "code",
   "execution_count": 19,
   "metadata": {},
   "outputs": [
    {
     "data": {
      "text/html": [
       "<div>\n",
       "<style scoped>\n",
       "    .dataframe tbody tr th:only-of-type {\n",
       "        vertical-align: middle;\n",
       "    }\n",
       "\n",
       "    .dataframe tbody tr th {\n",
       "        vertical-align: top;\n",
       "    }\n",
       "\n",
       "    .dataframe thead th {\n",
       "        text-align: right;\n",
       "    }\n",
       "</style>\n",
       "<table border=\"1\" class=\"dataframe\">\n",
       "  <thead>\n",
       "    <tr style=\"text-align: right;\">\n",
       "      <th></th>\n",
       "      <th>ds</th>\n",
       "      <th>y</th>\n",
       "      <th>yhat</th>\n",
       "      <th>yhat_lower</th>\n",
       "      <th>yhat_upper</th>\n",
       "      <th>baseline</th>\n",
       "    </tr>\n",
       "  </thead>\n",
       "  <tbody>\n",
       "    <tr>\n",
       "      <th>233</th>\n",
       "      <td>2023-06-30</td>\n",
       "      <td>68</td>\n",
       "      <td>67.189485</td>\n",
       "      <td>60.026659</td>\n",
       "      <td>74.337605</td>\n",
       "      <td>66.482558</td>\n",
       "    </tr>\n",
       "    <tr>\n",
       "      <th>234</th>\n",
       "      <td>2023-07-31</td>\n",
       "      <td>63</td>\n",
       "      <td>64.197017</td>\n",
       "      <td>57.261544</td>\n",
       "      <td>70.854885</td>\n",
       "      <td>63.210312</td>\n",
       "    </tr>\n",
       "    <tr>\n",
       "      <th>235</th>\n",
       "      <td>2023-08-31</td>\n",
       "      <td>54</td>\n",
       "      <td>58.017038</td>\n",
       "      <td>51.100269</td>\n",
       "      <td>64.968420</td>\n",
       "      <td>56.843286</td>\n",
       "    </tr>\n",
       "    <tr>\n",
       "      <th>236</th>\n",
       "      <td>2023-09-30</td>\n",
       "      <td>50</td>\n",
       "      <td>55.193440</td>\n",
       "      <td>47.571486</td>\n",
       "      <td>62.539307</td>\n",
       "      <td>54.191116</td>\n",
       "    </tr>\n",
       "    <tr>\n",
       "      <th>237</th>\n",
       "      <td>2023-10-31</td>\n",
       "      <td>44</td>\n",
       "      <td>49.821112</td>\n",
       "      <td>42.936461</td>\n",
       "      <td>57.087511</td>\n",
       "      <td>48.898243</td>\n",
       "    </tr>\n",
       "  </tbody>\n",
       "</table>\n",
       "</div>"
      ],
      "text/plain": [
       "            ds   y       yhat  yhat_lower  yhat_upper   baseline\n",
       "233 2023-06-30  68  67.189485   60.026659   74.337605  66.482558\n",
       "234 2023-07-31  63  64.197017   57.261544   70.854885  63.210312\n",
       "235 2023-08-31  54  58.017038   51.100269   64.968420  56.843286\n",
       "236 2023-09-30  50  55.193440   47.571486   62.539307  54.191116\n",
       "237 2023-10-31  44  49.821112   42.936461   57.087511  48.898243"
      ]
     },
     "execution_count": 19,
     "metadata": {},
     "output_type": "execute_result"
    }
   ],
   "source": [
    "test['baseline'] = baseline.values\n",
    "test.head()"
   ]
  },
  {
   "cell_type": "markdown",
   "metadata": {},
   "source": [
    "### Model Evaluation\n",
    "\n",
    "Given the presence of outliers in the 2020-2021 period, it is advisable to use both the Mean Absolute Error (MAE) and Mean Squared Error (MSE) as performance metrics. MSE is particularly useful in this context because it penalises larger errors more heavily, providing a more sensitive measure of performance when outliers are present."
   ]
  },
  {
   "cell_type": "code",
   "execution_count": 20,
   "metadata": {},
   "outputs": [
    {
     "data": {
      "text/html": [
       "<div>\n",
       "<style scoped>\n",
       "    .dataframe tbody tr th:only-of-type {\n",
       "        vertical-align: middle;\n",
       "    }\n",
       "\n",
       "    .dataframe tbody tr th {\n",
       "        vertical-align: top;\n",
       "    }\n",
       "\n",
       "    .dataframe thead th {\n",
       "        text-align: right;\n",
       "    }\n",
       "</style>\n",
       "<table border=\"1\" class=\"dataframe\">\n",
       "  <thead>\n",
       "    <tr style=\"text-align: right;\">\n",
       "      <th></th>\n",
       "      <th>Model</th>\n",
       "      <th>MAE</th>\n",
       "      <th>MSE</th>\n",
       "    </tr>\n",
       "  </thead>\n",
       "  <tbody>\n",
       "    <tr>\n",
       "      <th>0</th>\n",
       "      <td>Prophet</td>\n",
       "      <td>6.229388</td>\n",
       "      <td>55.262220</td>\n",
       "    </tr>\n",
       "    <tr>\n",
       "      <th>1</th>\n",
       "      <td>Baseline</td>\n",
       "      <td>5.304686</td>\n",
       "      <td>43.110201</td>\n",
       "    </tr>\n",
       "  </tbody>\n",
       "</table>\n",
       "</div>"
      ],
      "text/plain": [
       "      Model       MAE        MSE\n",
       "0   Prophet  6.229388  55.262220\n",
       "1  Baseline  5.304686  43.110201"
      ]
     },
     "execution_count": 20,
     "metadata": {},
     "output_type": "execute_result"
    }
   ],
   "source": [
    "from sklearn.metrics import mean_absolute_error, mean_squared_error\n",
    "\n",
    "prophet_mae = mean_absolute_error(test['y'], test['yhat'])\n",
    "baseline_mae = mean_absolute_error(test['y'], test['baseline'])\n",
    "\n",
    "prophet_mse = mean_squared_error(test['y'], test['yhat'])\n",
    "baseline_mse = mean_squared_error(test['y'], test['baseline'])\n",
    "\n",
    "performance_comparison = pd.DataFrame({\n",
    "    'Model': ['Prophet', 'Baseline'],\n",
    "    'MAE': [prophet_mae, baseline_mae],\n",
    "    'MSE': [prophet_mse, baseline_mse]\n",
    "})\n",
    "\n",
    "performance_comparison"
   ]
  },
  {
   "cell_type": "markdown",
   "metadata": {},
   "source": [
    "**Mean Absolute Error (MAE)**: Both models exhibit similar MAE values, with the baseline model performing slightly better (lower MAE). This indicates that, on average, the Holt-Winters model's predictions are closer to the actual values compared to the Prophet model.\n",
    "\n",
    "**Mean Squared Error (MSE)**: The baseline model also achieves a lower MSE compared to the Prophet model. Since MSE penalises larger errors more heavily, this suggests that the baseline model not only makes smaller errors on average but also avoids larger errors more effectively than the Prophet model.\n",
    "\n",
    "In this case, the baseline model outperforms the Prophet model in both MAE and MSE. This could be due to the recent stationarity observed in the data, making simpler models more effective in capturing the underlying patterns. Given these results, we will explore SARIMA, an advanced model that might better capture the nuances in the data."
   ]
  },
  {
   "cell_type": "markdown",
   "metadata": {},
   "source": [
    "We can optionally plot the forecasts. Note that this plot also shows the confidence interval of the Prophet model."
   ]
  },
  {
   "cell_type": "code",
   "execution_count": 21,
   "metadata": {},
   "outputs": [
    {
     "data": {
      "image/png": "[encoded data removed]",
      "text/plain": [
       "<Figure size 1000x750 with 1 Axes>"
      ]
     },
     "metadata": {},
     "output_type": "display_data"
    }
   ],
   "source": [
    "fig, ax = plt.subplots()\n",
    "\n",
    "ax.plot(train.index, train['y'], label='Training Data')\n",
    "ax.plot(test.index, test['y'], 'b-', label='Actual')\n",
    "ax.plot(test.index, test['baseline'], 'k:', label='Baseline')\n",
    "ax.plot(test.index, test['yhat'], color='darkorange', ls='--', lw=3, label='Prophet Predictions')\n",
    "\n",
    "ax.set_xlabel('Date')\n",
    "ax.set_ylabel('Proportion of searches using the keyword \"flowers\"')\n",
    "ax.legend(loc='best')\n",
    "\n",
    "ax.axvspan(test.index[0], test.index[-1], color='#808080', alpha=0.1)\n",
    "\n",
    "tick_locations = np.arange(0, len(df), 12)\n",
    "tick_labels = np.arange(2004, 2025, 1)[:len(tick_locations)]  \n",
    "plt.xticks(tick_locations, tick_labels)\n",
    "plt.fill_between(test.index, test['yhat_lower'], test['yhat_upper'], color='lightblue', alpha=0.5)\n",
    "plt.xlim(train.index[-36], test.index[-1])\n",
    "\n",
    "fig.autofmt_xdate()\n",
    "\n",
    "plt.tight_layout()\n",
    "\n",
    "plt.savefig(fig_path, dpi=300)\n",
    "\n",
    "plt.show()"
   ]
  },
  {
   "cell_type": "markdown",
   "metadata": {},
   "source": [
    "### Decomposition of \"Flowers\" Search Trends: Trend, Holidays, and Seasonal Patterns\n",
    "We can further discover how Prophet modeled our data by plotting the components of the model."
   ]
  },
  {
   "cell_type": "code",
   "execution_count": 22,
   "metadata": {},
   "outputs": [
    {
     "data": {
      "image/png": "[encoded data removed]",
      "text/plain": [
       "<Figure size 900x900 with 3 Axes>"
      ]
     },
     "metadata": {},
     "output_type": "display_data"
    }
   ],
   "source": [
    "prophet_components_fig = m.plot_components(forcast)\n",
    "\n",
    "plt.savefig(fig_path, dpi = 300)"
   ]
  },
  {
   "cell_type": "markdown",
   "metadata": {},
   "source": [
    "The trend component indicates a clear upward trend in the popularity of \"flowers\" searches from 2004 to 2024, suggesting growing interest over the years. The holidays component highlights significant dips around specific holidays, indicating decreased search volumes during these periods. The yearly seasonality component reveals distinct seasonal patterns, with search interest peaking around early March and May, aligning with events like Valentine's Day and Mother's Day, and tapering off towards the end of the year."
   ]
  },
  {
   "cell_type": "markdown",
   "metadata": {},
   "source": [
    "### Experiment: Can SARIMA Do Better?\n",
    "In the previous section, we used Prophet to forecast the popularity of searches on Google involving the keyword “flowers” in the United Kingdom. Our model achieved a performance similar to our baseline, the Holt-Winters Exponential Smoothing. It would be interesting to see how a SARIMA model compares to Prophet in this situation. This section provides a great opportunity to revisit our modelling skills using statistical models.\n",
    "\n",
    "Let’s start by importing the libraries that we need:"
   ]
  },
  {
   "cell_type": "code",
   "execution_count": 23,
   "metadata": {},
   "outputs": [],
   "source": [
    "from statsmodels.stats.diagnostic import acorr_ljungbox\n",
    "from statsmodels.tsa.statespace.sarimax import SARIMAX\n",
    "from statsmodels.tsa.stattools import adfuller\n",
    "from tqdm import tqdm\n",
    "from itertools import product\n",
    "from typing import Union"
   ]
  },
  {
   "cell_type": "markdown",
   "metadata": {},
   "source": [
    "#### Checking Data Stationarity with ADF Test\n",
    "\n",
    "Next, we’ll check whether the data is stationary using the augmented Dickey-Fuller (ADF) test."
   ]
  },
  {
   "cell_type": "code",
   "execution_count": 24,
   "metadata": {},
   "outputs": [
    {
     "name": "stdout",
     "output_type": "stream",
     "text": [
      "ADF Statistic: -0.8808521453253565\n",
      "p-value: 0.7942126670594105\n"
     ]
    }
   ],
   "source": [
    "ad_fuller_result = adfuller(df['y'])\n",
    "print(f'ADF Statistic: {ad_fuller_result[0]}')\n",
    "print(f'p-value: {ad_fuller_result[1]}')"
   ]
  },
  {
   "cell_type": "markdown",
   "metadata": {},
   "source": [
    "The ADF statistic is -0.88 and the p-value is 0.79. The p-value is much higher than the common significance levels (e.g., 0.01, 0.05, 0.10), which indicates that we fail to reject the null hypothesis of the ADF test that the time series has a unit root, meaning it is non-stationary.\n",
    "\n",
    "Therefore, based on the ADF test results, we conclude that the data is non-stationary. This implies that the time series data for \"flowers\" searches in the United Kingdom has statistical properties such as mean, variance, and autocorrelation that change over time, and further differencing or transformation is required to make the series stationary before applying the model."
   ]
  },
  {
   "cell_type": "markdown",
   "metadata": {},
   "source": [
    "Let’s difference our time series and test for stationarity again."
   ]
  },
  {
   "cell_type": "code",
   "execution_count": 25,
   "metadata": {},
   "outputs": [
    {
     "name": "stdout",
     "output_type": "stream",
     "text": [
      "ADF Statistic: -5.5002698860938555\n",
      "p-value: 2.0788621972597394e-06\n"
     ]
    }
   ],
   "source": [
    "y_diff = np.diff(df['y'], n=1)\n",
    "\n",
    "ad_fuller_result = adfuller(y_diff)\n",
    "\n",
    "print(f'ADF Statistic: {ad_fuller_result[0]}')\n",
    "print(f'p-value: {ad_fuller_result[1]}')"
   ]
  },
  {
   "cell_type": "markdown",
   "metadata": {},
   "source": [
    "After differencing our time series, the results of the augmented Dickey-Fuller (ADF) test are as follows: an ADF statistic of -5.50 and a p-value of 0.00000208. The p-value is significantly lower than common significance levels (e.g., 0.01, 0.05, 0.10), indicating that we can reject the null hypothesis of the ADF test, which posits that the time series has a unit root and is non-stationary. Therefore, based on the differenced data, we conclude that the time series is now stationary. This implies that the statistical properties of the \"flowers\" search data are constant over time after differencing, making it suitable for time series modelling with SARIMA. Since we differenced only once and did not take a seasonal difference, we set d = 1 and D = 0. Additionally, because we have monthly data, the frequency is m = 12. As you can see, having seasonal data does not necessarily require taking a seasonal difference to achieve stationarity."
   ]
  },
  {
   "cell_type": "markdown",
   "metadata": {},
   "source": [
    "#### Optimizing SARIMA Parameters with AIC Criterion\n",
    "\n",
    "Now, we'll use the `optimize_SARIMAX` function to find the values of \\( p \\), \\( q \\), \\( P \\), and \\( Q \\) that minimise the Akaike Information Criterion (AIC). Note that although the function includes SARIMAX in its name, it can be used to optimise any variant of the SARIMAX model. In this case, we'll optimise a SARIMA model by setting the exogenous variables to `None`."
   ]
  },
  {
   "cell_type": "code",
   "execution_count": 26,
   "metadata": {},
   "outputs": [],
   "source": [
    "def optimize_SARIMAX(endog: Union[pd.Series, list], exog: Union[pd.Series, list], order_list: list, d: int, D: int, s: int) -> pd.DataFrame:\n",
    "    \n",
    "    results = []\n",
    "    \n",
    "    for order in tqdm(order_list):\n",
    "        try: \n",
    "            model = SARIMAX(\n",
    "                endog,\n",
    "                exog,\n",
    "                order=(order[0], d, order[1]),\n",
    "                seasonal_order=(order[2], D, order[3], s),\n",
    "                simple_differencing=False).fit(disp=False)\n",
    "        except:\n",
    "            continue\n",
    "            \n",
    "        aic = model.aic\n",
    "        results.append([order, model.aic])\n",
    "        \n",
    "    result_df = pd.DataFrame(results)\n",
    "    result_df.columns = ['(p,q,P,Q)', 'AIC']\n",
    "    \n",
    "    #Sort in ascending order, lower AIC is better\n",
    "    result_df = result_df.sort_values(by='AIC', ascending=True).reset_index(drop=True)\n",
    "    \n",
    "    return result_df"
   ]
  },
  {
   "cell_type": "markdown",
   "metadata": {},
   "source": [
    "To find the optimal parameters, we’ll first define a range of values for each and create a list of unique combinations. We can then pass that list to the optimize_SARIMAX function."
   ]
  },
  {
   "cell_type": "code",
   "execution_count": 27,
   "metadata": {},
   "outputs": [],
   "source": [
    "ps = range(0, 4, 1)\n",
    "qs = range(0, 4, 1)\n",
    "Ps = range(0, 4, 1)\n",
    "Qs = range(0, 4, 1)\n",
    "\n",
    "order_list = list(product(ps, qs, Ps, Qs))\n",
    "\n",
    "d = 1\n",
    "D = 0\n",
    "s = 12"
   ]
  },
  {
   "cell_type": "code",
   "execution_count": 28,
   "metadata": {},
   "outputs": [
    {
     "name": "stderr",
     "output_type": "stream",
     "text": [
      "  6%|▌         | 15/256 [00:11<04:32,  1.13s/it]/Users/jonathanduquegonzalez/myenv/lib/python3.11/site-packages/statsmodels/base/model.py:607: ConvergenceWarning: Maximum Likelihood optimization failed to converge. Check mle_retvals\n",
      "  warnings.warn(\"Maximum Likelihood optimization failed to \"\n",
      " 11%|█         | 27/256 [00:19<02:52,  1.33it/s]/Users/jonathanduquegonzalez/myenv/lib/python3.11/site-packages/statsmodels/base/model.py:607: ConvergenceWarning: Maximum Likelihood optimization failed to converge. Check mle_retvals\n",
      "  warnings.warn(\"Maximum Likelihood optimization failed to \"\n",
      " 12%|█▏        | 31/256 [00:26<05:09,  1.37s/it]/Users/jonathanduquegonzalez/myenv/lib/python3.11/site-packages/statsmodels/base/model.py:607: ConvergenceWarning: Maximum Likelihood optimization failed to converge. Check mle_retvals\n",
      "  warnings.warn(\"Maximum Likelihood optimization failed to \"\n",
      " 16%|█▋        | 42/256 [00:34<02:20,  1.53it/s]/Users/jonathanduquegonzalez/myenv/lib/python3.11/site-packages/statsmodels/base/model.py:607: ConvergenceWarning: Maximum Likelihood optimization failed to converge. Check mle_retvals\n",
      "  warnings.warn(\"Maximum Likelihood optimization failed to \"\n",
      " 18%|█▊        | 47/256 [00:43<05:19,  1.53s/it]/Users/jonathanduquegonzalez/myenv/lib/python3.11/site-packages/statsmodels/base/model.py:607: ConvergenceWarning: Maximum Likelihood optimization failed to converge. Check mle_retvals\n",
      "  warnings.warn(\"Maximum Likelihood optimization failed to \"\n",
      " 23%|██▎       | 58/256 [00:53<02:37,  1.26it/s]/Users/jonathanduquegonzalez/myenv/lib/python3.11/site-packages/statsmodels/base/model.py:607: ConvergenceWarning: Maximum Likelihood optimization failed to converge. Check mle_retvals\n",
      "  warnings.warn(\"Maximum Likelihood optimization failed to \"\n",
      " 23%|██▎       | 59/256 [00:55<03:44,  1.14s/it]/Users/jonathanduquegonzalez/myenv/lib/python3.11/site-packages/statsmodels/base/model.py:607: ConvergenceWarning: Maximum Likelihood optimization failed to converge. Check mle_retvals\n",
      "  warnings.warn(\"Maximum Likelihood optimization failed to \"\n",
      " 29%|██▉       | 75/256 [01:14<02:34,  1.17it/s]/Users/jonathanduquegonzalez/myenv/lib/python3.11/site-packages/statsmodels/base/model.py:607: ConvergenceWarning: Maximum Likelihood optimization failed to converge. Check mle_retvals\n",
      "  warnings.warn(\"Maximum Likelihood optimization failed to \"\n",
      " 35%|███▌      | 90/256 [01:41<03:19,  1.20s/it]/Users/jonathanduquegonzalez/myenv/lib/python3.11/site-packages/statsmodels/base/model.py:607: ConvergenceWarning: Maximum Likelihood optimization failed to converge. Check mle_retvals\n",
      "  warnings.warn(\"Maximum Likelihood optimization failed to \"\n",
      " 36%|███▌      | 91/256 [01:43<03:58,  1.45s/it]/Users/jonathanduquegonzalez/myenv/lib/python3.11/site-packages/statsmodels/base/model.py:607: ConvergenceWarning: Maximum Likelihood optimization failed to converge. Check mle_retvals\n",
      "  warnings.warn(\"Maximum Likelihood optimization failed to \"\n",
      " 37%|███▋      | 95/256 [01:54<06:01,  2.25s/it]/Users/jonathanduquegonzalez/myenv/lib/python3.11/site-packages/statsmodels/base/model.py:607: ConvergenceWarning: Maximum Likelihood optimization failed to converge. Check mle_retvals\n",
      "  warnings.warn(\"Maximum Likelihood optimization failed to \"\n",
      " 41%|████▏     | 106/256 [02:07<03:03,  1.22s/it]/Users/jonathanduquegonzalez/myenv/lib/python3.11/site-packages/statsmodels/base/model.py:607: ConvergenceWarning: Maximum Likelihood optimization failed to converge. Check mle_retvals\n",
      "  warnings.warn(\"Maximum Likelihood optimization failed to \"\n",
      " 42%|████▏     | 107/256 [02:10<03:45,  1.52s/it]/Users/jonathanduquegonzalez/myenv/lib/python3.11/site-packages/statsmodels/base/model.py:607: ConvergenceWarning: Maximum Likelihood optimization failed to converge. Check mle_retvals\n",
      "  warnings.warn(\"Maximum Likelihood optimization failed to \"\n",
      " 43%|████▎     | 111/256 [02:19<04:59,  2.06s/it]/Users/jonathanduquegonzalez/myenv/lib/python3.11/site-packages/statsmodels/base/model.py:607: ConvergenceWarning: Maximum Likelihood optimization failed to converge. Check mle_retvals\n",
      "  warnings.warn(\"Maximum Likelihood optimization failed to \"\n",
      " 46%|████▌     | 117/256 [02:31<04:26,  1.92s/it]/Users/jonathanduquegonzalez/myenv/lib/python3.11/site-packages/statsmodels/base/model.py:607: ConvergenceWarning: Maximum Likelihood optimization failed to converge. Check mle_retvals\n",
      "  warnings.warn(\"Maximum Likelihood optimization failed to \"\n",
      " 46%|████▋     | 119/256 [02:34<04:02,  1.77s/it]/Users/jonathanduquegonzalez/myenv/lib/python3.11/site-packages/statsmodels/base/model.py:607: ConvergenceWarning: Maximum Likelihood optimization failed to converge. Check mle_retvals\n",
      "  warnings.warn(\"Maximum Likelihood optimization failed to \"\n",
      " 49%|████▉     | 125/256 [02:50<05:35,  2.56s/it]/Users/jonathanduquegonzalez/myenv/lib/python3.11/site-packages/statsmodels/base/model.py:607: ConvergenceWarning: Maximum Likelihood optimization failed to converge. Check mle_retvals\n",
      "  warnings.warn(\"Maximum Likelihood optimization failed to \"\n",
      " 60%|██████    | 154/256 [03:29<01:46,  1.05s/it]/Users/jonathanduquegonzalez/myenv/lib/python3.11/site-packages/statsmodels/base/model.py:607: ConvergenceWarning: Maximum Likelihood optimization failed to converge. Check mle_retvals\n",
      "  warnings.warn(\"Maximum Likelihood optimization failed to \"\n",
      " 62%|██████▏   | 159/256 [03:41<03:50,  2.38s/it]/Users/jonathanduquegonzalez/myenv/lib/python3.11/site-packages/statsmodels/base/model.py:607: ConvergenceWarning: Maximum Likelihood optimization failed to converge. Check mle_retvals\n",
      "  warnings.warn(\"Maximum Likelihood optimization failed to \"\n",
      " 62%|██████▎   | 160/256 [03:47<05:33,  3.48s/it]/Users/jonathanduquegonzalez/myenv/lib/python3.11/site-packages/statsmodels/base/model.py:607: ConvergenceWarning: Maximum Likelihood optimization failed to converge. Check mle_retvals\n",
      "  warnings.warn(\"Maximum Likelihood optimization failed to \"\n",
      " 64%|██████▎   | 163/256 [03:49<02:55,  1.89s/it]/Users/jonathanduquegonzalez/myenv/lib/python3.11/site-packages/statsmodels/base/model.py:607: ConvergenceWarning: Maximum Likelihood optimization failed to converge. Check mle_retvals\n",
      "  warnings.warn(\"Maximum Likelihood optimization failed to \"\n",
      " 65%|██████▍   | 166/256 [03:54<02:11,  1.46s/it]/Users/jonathanduquegonzalez/myenv/lib/python3.11/site-packages/statsmodels/base/model.py:607: ConvergenceWarning: Maximum Likelihood optimization failed to converge. Check mle_retvals\n",
      "  warnings.warn(\"Maximum Likelihood optimization failed to \"\n",
      " 65%|██████▌   | 167/256 [03:57<02:36,  1.76s/it]/Users/jonathanduquegonzalez/myenv/lib/python3.11/site-packages/statsmodels/base/model.py:607: ConvergenceWarning: Maximum Likelihood optimization failed to converge. Check mle_retvals\n",
      "  warnings.warn(\"Maximum Likelihood optimization failed to \"\n",
      " 66%|██████▌   | 169/256 [04:01<02:47,  1.92s/it]/Users/jonathanduquegonzalez/myenv/lib/python3.11/site-packages/statsmodels/base/model.py:607: ConvergenceWarning: Maximum Likelihood optimization failed to converge. Check mle_retvals\n",
      "  warnings.warn(\"Maximum Likelihood optimization failed to \"\n",
      " 66%|██████▋   | 170/256 [04:03<02:44,  1.92s/it]/Users/jonathanduquegonzalez/myenv/lib/python3.11/site-packages/statsmodels/base/model.py:607: ConvergenceWarning: Maximum Likelihood optimization failed to converge. Check mle_retvals\n",
      "  warnings.warn(\"Maximum Likelihood optimization failed to \"\n",
      " 67%|██████▋   | 171/256 [04:05<02:47,  1.97s/it]/Users/jonathanduquegonzalez/myenv/lib/python3.11/site-packages/statsmodels/base/model.py:607: ConvergenceWarning: Maximum Likelihood optimization failed to converge. Check mle_retvals\n",
      "  warnings.warn(\"Maximum Likelihood optimization failed to \"\n",
      " 67%|██████▋   | 172/256 [04:13<05:07,  3.66s/it]/Users/jonathanduquegonzalez/myenv/lib/python3.11/site-packages/statsmodels/base/model.py:607: ConvergenceWarning: Maximum Likelihood optimization failed to converge. Check mle_retvals\n",
      "  warnings.warn(\"Maximum Likelihood optimization failed to \"\n",
      " 68%|██████▊   | 173/256 [04:16<04:55,  3.56s/it]/Users/jonathanduquegonzalez/myenv/lib/python3.11/site-packages/statsmodels/base/model.py:607: ConvergenceWarning: Maximum Likelihood optimization failed to converge. Check mle_retvals\n",
      "  warnings.warn(\"Maximum Likelihood optimization failed to \"\n",
      " 68%|██████▊   | 174/256 [04:22<05:33,  4.07s/it]/Users/jonathanduquegonzalez/myenv/lib/python3.11/site-packages/statsmodels/base/model.py:607: ConvergenceWarning: Maximum Likelihood optimization failed to converge. Check mle_retvals\n",
      "  warnings.warn(\"Maximum Likelihood optimization failed to \"\n",
      " 68%|██████▊   | 175/256 [04:27<06:05,  4.51s/it]/Users/jonathanduquegonzalez/myenv/lib/python3.11/site-packages/statsmodels/base/model.py:607: ConvergenceWarning: Maximum Likelihood optimization failed to converge. Check mle_retvals\n",
      "  warnings.warn(\"Maximum Likelihood optimization failed to \"\n",
      " 69%|██████▉   | 177/256 [04:33<04:24,  3.35s/it]/Users/jonathanduquegonzalez/myenv/lib/python3.11/site-packages/statsmodels/base/model.py:607: ConvergenceWarning: Maximum Likelihood optimization failed to converge. Check mle_retvals\n",
      "  warnings.warn(\"Maximum Likelihood optimization failed to \"\n",
      " 70%|██████▉   | 178/256 [04:33<03:17,  2.53s/it]/Users/jonathanduquegonzalez/myenv/lib/python3.11/site-packages/statsmodels/base/model.py:607: ConvergenceWarning: Maximum Likelihood optimization failed to converge. Check mle_retvals\n",
      "  warnings.warn(\"Maximum Likelihood optimization failed to \"\n",
      " 70%|██████▉   | 179/256 [04:35<03:00,  2.34s/it]/Users/jonathanduquegonzalez/myenv/lib/python3.11/site-packages/statsmodels/base/model.py:607: ConvergenceWarning: Maximum Likelihood optimization failed to converge. Check mle_retvals\n",
      "  warnings.warn(\"Maximum Likelihood optimization failed to \"\n",
      " 72%|███████▏  | 184/256 [04:48<03:09,  2.63s/it]/Users/jonathanduquegonzalez/myenv/lib/python3.11/site-packages/statsmodels/base/model.py:607: ConvergenceWarning: Maximum Likelihood optimization failed to converge. Check mle_retvals\n",
      "  warnings.warn(\"Maximum Likelihood optimization failed to \"\n",
      " 72%|███████▏  | 185/256 [04:50<02:48,  2.38s/it]/Users/jonathanduquegonzalez/myenv/lib/python3.11/site-packages/statsmodels/base/model.py:607: ConvergenceWarning: Maximum Likelihood optimization failed to converge. Check mle_retvals\n",
      "  warnings.warn(\"Maximum Likelihood optimization failed to \"\n",
      " 73%|███████▎  | 186/256 [04:52<02:34,  2.20s/it]/Users/jonathanduquegonzalez/myenv/lib/python3.11/site-packages/statsmodels/base/model.py:607: ConvergenceWarning: Maximum Likelihood optimization failed to converge. Check mle_retvals\n",
      "  warnings.warn(\"Maximum Likelihood optimization failed to \"\n",
      " 73%|███████▎  | 187/256 [04:57<03:46,  3.28s/it]/Users/jonathanduquegonzalez/myenv/lib/python3.11/site-packages/statsmodels/base/model.py:607: ConvergenceWarning: Maximum Likelihood optimization failed to converge. Check mle_retvals\n",
      "  warnings.warn(\"Maximum Likelihood optimization failed to \"\n",
      " 74%|███████▍  | 190/256 [05:10<04:02,  3.68s/it]/Users/jonathanduquegonzalez/myenv/lib/python3.11/site-packages/statsmodels/base/model.py:607: ConvergenceWarning: Maximum Likelihood optimization failed to converge. Check mle_retvals\n",
      "  warnings.warn(\"Maximum Likelihood optimization failed to \"\n",
      " 75%|███████▍  | 191/256 [05:15<04:27,  4.11s/it]/Users/jonathanduquegonzalez/myenv/lib/python3.11/site-packages/statsmodels/base/model.py:607: ConvergenceWarning: Maximum Likelihood optimization failed to converge. Check mle_retvals\n",
      "  warnings.warn(\"Maximum Likelihood optimization failed to \"\n",
      " 79%|███████▉  | 203/256 [05:29<01:12,  1.37s/it]/Users/jonathanduquegonzalez/myenv/lib/python3.11/site-packages/statsmodels/base/model.py:607: ConvergenceWarning: Maximum Likelihood optimization failed to converge. Check mle_retvals\n",
      "  warnings.warn(\"Maximum Likelihood optimization failed to \"\n",
      " 85%|████████▌ | 218/256 [06:01<01:15,  2.00s/it]/Users/jonathanduquegonzalez/myenv/lib/python3.11/site-packages/statsmodels/base/model.py:607: ConvergenceWarning: Maximum Likelihood optimization failed to converge. Check mle_retvals\n",
      "  warnings.warn(\"Maximum Likelihood optimization failed to \"\n",
      " 87%|████████▋ | 223/256 [06:16<01:35,  2.90s/it]/Users/jonathanduquegonzalez/myenv/lib/python3.11/site-packages/statsmodels/base/model.py:607: ConvergenceWarning: Maximum Likelihood optimization failed to converge. Check mle_retvals\n",
      "  warnings.warn(\"Maximum Likelihood optimization failed to \"\n",
      " 88%|████████▊ | 225/256 [06:21<01:16,  2.48s/it]/Users/jonathanduquegonzalez/myenv/lib/python3.11/site-packages/statsmodels/base/model.py:607: ConvergenceWarning: Maximum Likelihood optimization failed to converge. Check mle_retvals\n",
      "  warnings.warn(\"Maximum Likelihood optimization failed to \"\n",
      " 88%|████████▊ | 226/256 [06:21<00:56,  1.88s/it]/Users/jonathanduquegonzalez/myenv/lib/python3.11/site-packages/statsmodels/base/model.py:607: ConvergenceWarning: Maximum Likelihood optimization failed to converge. Check mle_retvals\n",
      "  warnings.warn(\"Maximum Likelihood optimization failed to \"\n",
      " 89%|████████▊ | 227/256 [06:23<00:53,  1.86s/it]/Users/jonathanduquegonzalez/myenv/lib/python3.11/site-packages/statsmodels/base/model.py:607: ConvergenceWarning: Maximum Likelihood optimization failed to converge. Check mle_retvals\n",
      "  warnings.warn(\"Maximum Likelihood optimization failed to \"\n",
      " 91%|█████████ | 232/256 [06:34<00:53,  2.23s/it]/Users/jonathanduquegonzalez/myenv/lib/python3.11/site-packages/statsmodels/base/model.py:607: ConvergenceWarning: Maximum Likelihood optimization failed to converge. Check mle_retvals\n",
      "  warnings.warn(\"Maximum Likelihood optimization failed to \"\n",
      " 91%|█████████▏| 234/256 [06:37<00:40,  1.85s/it]/Users/jonathanduquegonzalez/myenv/lib/python3.11/site-packages/statsmodels/base/model.py:607: ConvergenceWarning: Maximum Likelihood optimization failed to converge. Check mle_retvals\n",
      "  warnings.warn(\"Maximum Likelihood optimization failed to \"\n",
      " 93%|█████████▎| 238/256 [07:02<01:36,  5.36s/it]/Users/jonathanduquegonzalez/myenv/lib/python3.11/site-packages/statsmodels/base/model.py:607: ConvergenceWarning: Maximum Likelihood optimization failed to converge. Check mle_retvals\n",
      "  warnings.warn(\"Maximum Likelihood optimization failed to \"\n",
      " 93%|█████████▎| 239/256 [07:08<01:37,  5.76s/it]/Users/jonathanduquegonzalez/myenv/lib/python3.11/site-packages/statsmodels/base/model.py:607: ConvergenceWarning: Maximum Likelihood optimization failed to converge. Check mle_retvals\n",
      "  warnings.warn(\"Maximum Likelihood optimization failed to \"\n",
      " 94%|█████████▍| 240/256 [07:14<01:30,  5.67s/it]/Users/jonathanduquegonzalez/myenv/lib/python3.11/site-packages/statsmodels/base/model.py:607: ConvergenceWarning: Maximum Likelihood optimization failed to converge. Check mle_retvals\n",
      "  warnings.warn(\"Maximum Likelihood optimization failed to \"\n",
      " 94%|█████████▍| 241/256 [07:14<01:00,  4.04s/it]/Users/jonathanduquegonzalez/myenv/lib/python3.11/site-packages/statsmodels/base/model.py:607: ConvergenceWarning: Maximum Likelihood optimization failed to converge. Check mle_retvals\n",
      "  warnings.warn(\"Maximum Likelihood optimization failed to \"\n",
      " 95%|█████████▍| 242/256 [07:15<00:42,  3.02s/it]/Users/jonathanduquegonzalez/myenv/lib/python3.11/site-packages/statsmodels/base/model.py:607: ConvergenceWarning: Maximum Likelihood optimization failed to converge. Check mle_retvals\n",
      "  warnings.warn(\"Maximum Likelihood optimization failed to \"\n",
      " 95%|█████████▍| 243/256 [07:17<00:37,  2.87s/it]/Users/jonathanduquegonzalez/myenv/lib/python3.11/site-packages/statsmodels/base/model.py:607: ConvergenceWarning: Maximum Likelihood optimization failed to converge. Check mle_retvals\n",
      "  warnings.warn(\"Maximum Likelihood optimization failed to \"\n",
      " 96%|█████████▌| 246/256 [07:23<00:20,  2.07s/it]/Users/jonathanduquegonzalez/myenv/lib/python3.11/site-packages/statsmodels/base/model.py:607: ConvergenceWarning: Maximum Likelihood optimization failed to converge. Check mle_retvals\n",
      "  warnings.warn(\"Maximum Likelihood optimization failed to \"\n",
      " 96%|█████████▋| 247/256 [07:27<00:21,  2.41s/it]/Users/jonathanduquegonzalez/myenv/lib/python3.11/site-packages/statsmodels/base/model.py:607: ConvergenceWarning: Maximum Likelihood optimization failed to converge. Check mle_retvals\n",
      "  warnings.warn(\"Maximum Likelihood optimization failed to \"\n",
      " 97%|█████████▋| 248/256 [07:32<00:27,  3.42s/it]/Users/jonathanduquegonzalez/myenv/lib/python3.11/site-packages/statsmodels/base/model.py:607: ConvergenceWarning: Maximum Likelihood optimization failed to converge. Check mle_retvals\n",
      "  warnings.warn(\"Maximum Likelihood optimization failed to \"\n",
      " 97%|█████████▋| 249/256 [07:34<00:20,  2.99s/it]/Users/jonathanduquegonzalez/myenv/lib/python3.11/site-packages/statsmodels/base/model.py:607: ConvergenceWarning: Maximum Likelihood optimization failed to converge. Check mle_retvals\n",
      "  warnings.warn(\"Maximum Likelihood optimization failed to \"\n",
      " 98%|█████████▊| 250/256 [07:39<00:20,  3.35s/it]/Users/jonathanduquegonzalez/myenv/lib/python3.11/site-packages/statsmodels/base/model.py:607: ConvergenceWarning: Maximum Likelihood optimization failed to converge. Check mle_retvals\n",
      "  warnings.warn(\"Maximum Likelihood optimization failed to \"\n",
      " 98%|█████████▊| 251/256 [07:42<00:17,  3.47s/it]/Users/jonathanduquegonzalez/myenv/lib/python3.11/site-packages/statsmodels/base/model.py:607: ConvergenceWarning: Maximum Likelihood optimization failed to converge. Check mle_retvals\n",
      "  warnings.warn(\"Maximum Likelihood optimization failed to \"\n",
      " 99%|█████████▉| 253/256 [07:54<00:13,  4.60s/it]/Users/jonathanduquegonzalez/myenv/lib/python3.11/site-packages/statsmodels/base/model.py:607: ConvergenceWarning: Maximum Likelihood optimization failed to converge. Check mle_retvals\n",
      "  warnings.warn(\"Maximum Likelihood optimization failed to \"\n",
      " 99%|█████████▉| 254/256 [08:01<00:10,  5.28s/it]/Users/jonathanduquegonzalez/myenv/lib/python3.11/site-packages/statsmodels/base/model.py:607: ConvergenceWarning: Maximum Likelihood optimization failed to converge. Check mle_retvals\n",
      "  warnings.warn(\"Maximum Likelihood optimization failed to \"\n",
      "100%|█████████▉| 255/256 [08:14<00:07,  7.41s/it]/Users/jonathanduquegonzalez/myenv/lib/python3.11/site-packages/statsmodels/base/model.py:607: ConvergenceWarning: Maximum Likelihood optimization failed to converge. Check mle_retvals\n",
      "  warnings.warn(\"Maximum Likelihood optimization failed to \"\n",
      "100%|██████████| 256/256 [08:21<00:00,  1.96s/it]\n"
     ]
    },
    {
     "data": {
      "text/html": [
       "<div>\n",
       "<style scoped>\n",
       "    .dataframe tbody tr th:only-of-type {\n",
       "        vertical-align: middle;\n",
       "    }\n",
       "\n",
       "    .dataframe tbody tr th {\n",
       "        vertical-align: top;\n",
       "    }\n",
       "\n",
       "    .dataframe thead th {\n",
       "        text-align: right;\n",
       "    }\n",
       "</style>\n",
       "<table border=\"1\" class=\"dataframe\">\n",
       "  <thead>\n",
       "    <tr style=\"text-align: right;\">\n",
       "      <th></th>\n",
       "      <th>(p,q,P,Q)</th>\n",
       "      <th>AIC</th>\n",
       "    </tr>\n",
       "  </thead>\n",
       "  <tbody>\n",
       "    <tr>\n",
       "      <th>0</th>\n",
       "      <td>(2, 2, 3, 1)</td>\n",
       "      <td>1357.566217</td>\n",
       "    </tr>\n",
       "    <tr>\n",
       "      <th>1</th>\n",
       "      <td>(2, 2, 1, 3)</td>\n",
       "      <td>1358.502648</td>\n",
       "    </tr>\n",
       "    <tr>\n",
       "      <th>2</th>\n",
       "      <td>(2, 2, 3, 2)</td>\n",
       "      <td>1358.522745</td>\n",
       "    </tr>\n",
       "    <tr>\n",
       "      <th>3</th>\n",
       "      <td>(2, 2, 1, 2)</td>\n",
       "      <td>1359.046330</td>\n",
       "    </tr>\n",
       "    <tr>\n",
       "      <th>4</th>\n",
       "      <td>(2, 2, 2, 1)</td>\n",
       "      <td>1360.356564</td>\n",
       "    </tr>\n",
       "    <tr>\n",
       "      <th>...</th>\n",
       "      <td>...</td>\n",
       "      <td>...</td>\n",
       "    </tr>\n",
       "    <tr>\n",
       "      <th>249</th>\n",
       "      <td>(1, 1, 0, 0)</td>\n",
       "      <td>1604.345884</td>\n",
       "    </tr>\n",
       "    <tr>\n",
       "      <th>250</th>\n",
       "      <td>(2, 2, 0, 0)</td>\n",
       "      <td>1605.370076</td>\n",
       "    </tr>\n",
       "    <tr>\n",
       "      <th>251</th>\n",
       "      <td>(1, 2, 0, 0)</td>\n",
       "      <td>1605.886125</td>\n",
       "    </tr>\n",
       "    <tr>\n",
       "      <th>252</th>\n",
       "      <td>(3, 0, 0, 0)</td>\n",
       "      <td>1606.015670</td>\n",
       "    </tr>\n",
       "    <tr>\n",
       "      <th>253</th>\n",
       "      <td>(3, 1, 0, 0)</td>\n",
       "      <td>1607.378349</td>\n",
       "    </tr>\n",
       "  </tbody>\n",
       "</table>\n",
       "<p>254 rows × 2 columns</p>\n",
       "</div>"
      ],
      "text/plain": [
       "        (p,q,P,Q)          AIC\n",
       "0    (2, 2, 3, 1)  1357.566217\n",
       "1    (2, 2, 1, 3)  1358.502648\n",
       "2    (2, 2, 3, 2)  1358.522745\n",
       "3    (2, 2, 1, 2)  1359.046330\n",
       "4    (2, 2, 2, 1)  1360.356564\n",
       "..            ...          ...\n",
       "249  (1, 1, 0, 0)  1604.345884\n",
       "250  (2, 2, 0, 0)  1605.370076\n",
       "251  (1, 2, 0, 0)  1605.886125\n",
       "252  (3, 0, 0, 0)  1606.015670\n",
       "253  (3, 1, 0, 0)  1607.378349\n",
       "\n",
       "[254 rows x 2 columns]"
      ]
     },
     "execution_count": 28,
     "metadata": {},
     "output_type": "execute_result"
    }
   ],
   "source": [
    "SARIMA_result_df = optimize_SARIMAX(train['y'], None, order_list, d, D, s)\n",
    "SARIMA_result_df"
   ]
  },
  {
   "cell_type": "markdown",
   "metadata": {},
   "source": [
    "The lowest AIC value, indicating the best-fitting model, is 1357.566217 for the parameter combination \\((2, 2, 3, 1)\\). This suggests that the SARIMA model with these parameters provides the best balance of model complexity and goodness-of-fit for the \"flowers\" search data. Models with higher AIC values, such as those towards the bottom of the table, are less optimal. Therefore, the combination \\((2, 2, 3, 1)\\) should be selected for forecasting as it minimises the AIC."
   ]
  },
  {
   "cell_type": "markdown",
   "metadata": {},
   "source": [
    " We can fit a model on the training set using those values and study its residuals."
   ]
  },
  {
   "cell_type": "code",
   "execution_count": 29,
   "metadata": {},
   "outputs": [
    {
     "name": "stderr",
     "output_type": "stream",
     "text": [
      "/Users/jonathanduquegonzalez/myenv/lib/python3.11/site-packages/statsmodels/base/model.py:607: ConvergenceWarning: Maximum Likelihood optimization failed to converge. Check mle_retvals\n",
      "  warnings.warn(\"Maximum Likelihood optimization failed to \"\n"
     ]
    },
    {
     "name": "stdout",
     "output_type": "stream",
     "text": [
      "                                      SARIMAX Results                                       \n",
      "============================================================================================\n",
      "Dep. Variable:                                    y   No. Observations:                  233\n",
      "Model:             SARIMAX(2, 1, 2)x(3, 1, [1], 12)   Log Likelihood                -630.666\n",
      "Date:                              Sat, 01 Jun 2024   AIC                           1279.332\n",
      "Time:                                      13:49:16   BIC                           1309.875\n",
      "Sample:                                           0   HQIC                          1291.666\n",
      "                                              - 233                                         \n",
      "Covariance Type:                                opg                                         \n",
      "==============================================================================\n",
      "                 coef    std err          z      P>|z|      [0.025      0.975]\n",
      "------------------------------------------------------------------------------\n",
      "ar.L1          1.5787      0.044     35.894      0.000       1.493       1.665\n",
      "ar.L2         -0.8521      0.041    -20.696      0.000      -0.933      -0.771\n",
      "ma.L1         -1.8401      0.097    -19.050      0.000      -2.029      -1.651\n",
      "ma.L2          0.9939      0.101      9.869      0.000       0.797       1.191\n",
      "ar.S.L12      -0.3090      0.145     -2.129      0.033      -0.593      -0.025\n",
      "ar.S.L24      -0.1898      0.142     -1.341      0.180      -0.467       0.088\n",
      "ar.S.L36       0.0142      0.122      0.117      0.907      -0.225       0.253\n",
      "ma.S.L12      -0.7471      0.159     -4.708      0.000      -1.058      -0.436\n",
      "sigma2        16.5504      2.209      7.493      0.000      12.221      20.879\n",
      "===================================================================================\n",
      "Ljung-Box (L1) (Q):                   4.02   Jarque-Bera (JB):              2334.66\n",
      "Prob(Q):                              0.05   Prob(JB):                         0.00\n",
      "Heteroskedasticity (H):               2.90   Skew:                             1.38\n",
      "Prob(H) (two-sided):                  0.00   Kurtosis:                        18.72\n",
      "===================================================================================\n",
      "\n",
      "Warnings:\n",
      "[1] Covariance matrix calculated using the outer product of gradients (complex-step).\n"
     ]
    }
   ],
   "source": [
    "best_order = (2, 1, 2)\n",
    "best_seasonal_order = (3, 1, 1, 12)\n",
    "\n",
    "SARIMA_model = SARIMAX(train['y'], order=best_order, seasonal_order=best_seasonal_order, simple_differencing=False)\n",
    "SARIMA_model_fit = SARIMA_model.fit(disp=False)\n",
    "\n",
    "print(SARIMA_model_fit.summary())"
   ]
  },
  {
   "cell_type": "markdown",
   "metadata": {},
   "source": [
    "The SARIMAX model summary shows that the model with parameters \\((2, 1, 2)\\) for the non-seasonal part and \\((3, 1, 1, 12)\\) for the seasonal part has been fitted to the data. The AIC value of 1279.332 indicates the model's goodness-of-fit, with lower values being better. The coefficients for the autoregressive (AR) and moving average (MA) terms, both non-seasonal and seasonal, are statistically significant as indicated by their p-values (most are below 0.05), suggesting they contribute meaningfully to the model. The Ljung-Box test p-value of 0.05 implies the residuals may exhibit some autocorrelation. The Jarque-Bera test p-value of 0.00 indicates that the residuals are not normally distributed. The model's heteroskedasticity (H) value suggests variability in the residuals over time. Overall, the model appears to be a good fit for the data, but the non-normality of residuals suggests that further investigation into model diagnostics may be needed.\n"
   ]
  },
  {
   "cell_type": "code",
   "execution_count": 30,
   "metadata": {},
   "outputs": [
    {
     "data": {
      "image/png": "[encoded data removed]",
      "text/plain": [
       "<Figure size 1000x750 with 4 Axes>"
      ]
     },
     "metadata": {},
     "output_type": "display_data"
    }
   ],
   "source": [
    "SARIMA_model_fit.plot_diagnostics();\n",
    "\n",
    "plt.savefig(fig_path, dpi=300)"
   ]
  },
  {
   "cell_type": "markdown",
   "metadata": {},
   "source": [
    "The diagnostic plots of the SARIMA model's residuals provide several insights into the model's performance:\n",
    "\n",
    "1. **Standardised Residuals**: The residuals are generally centred around zero, indicating that the model's errors are balanced. However, there are occasional large spikes, suggesting some larger prediction errors.\n",
    "\n",
    "2. **Histogram plus Estimated Density**: The residuals are approximately normally distributed, but deviations around the tails indicate more dispersion than a perfect normal distribution.\n",
    "\n",
    "3. **Normal Q-Q Plot**: Most residuals lie close to the line, showing that they are roughly normally distributed. However, deviations at the tails suggest potential non-normality.\n",
    "\n",
    "4. **Correlogram**: The autocorrelation values are mostly within the confidence bands, indicating that the residuals are not significantly autocorrelated, meaning the model captures most temporal dependencies.\n",
    "\n",
    "Overall, the SARIMA model performs well with balanced residuals and no significant autocorrelation. However, occasional larger errors and deviations from normality suggest Further refinement of the model or additional diagnostics might be needed to address these issues."
   ]
  },
  {
   "cell_type": "markdown",
   "metadata": {},
   "source": [
    "#### Assessing Residuals with Ljung-Box Test\n",
    "At this point, it is hard to determine whether the residuals are close enough to white noise, so we’ll use the Ljung-Box test to determine if the residuals are independent and uncorrelated."
   ]
  },
  {
   "cell_type": "code",
   "execution_count": 31,
   "metadata": {},
   "outputs": [
    {
     "data": {
      "text/html": [
       "<div>\n",
       "<style scoped>\n",
       "    .dataframe tbody tr th:only-of-type {\n",
       "        vertical-align: middle;\n",
       "    }\n",
       "\n",
       "    .dataframe tbody tr th {\n",
       "        vertical-align: top;\n",
       "    }\n",
       "\n",
       "    .dataframe thead th {\n",
       "        text-align: right;\n",
       "    }\n",
       "</style>\n",
       "<table border=\"1\" class=\"dataframe\">\n",
       "  <thead>\n",
       "    <tr style=\"text-align: right;\">\n",
       "      <th></th>\n",
       "      <th>Lag</th>\n",
       "      <th>LB Value</th>\n",
       "      <th>P-Value</th>\n",
       "    </tr>\n",
       "  </thead>\n",
       "  <tbody>\n",
       "    <tr>\n",
       "      <th>1</th>\n",
       "      <td>1</td>\n",
       "      <td>3.231289</td>\n",
       "      <td>0.072244</td>\n",
       "    </tr>\n",
       "    <tr>\n",
       "      <th>2</th>\n",
       "      <td>2</td>\n",
       "      <td>4.121699</td>\n",
       "      <td>0.127346</td>\n",
       "    </tr>\n",
       "    <tr>\n",
       "      <th>3</th>\n",
       "      <td>3</td>\n",
       "      <td>4.861867</td>\n",
       "      <td>0.182196</td>\n",
       "    </tr>\n",
       "    <tr>\n",
       "      <th>4</th>\n",
       "      <td>4</td>\n",
       "      <td>5.975353</td>\n",
       "      <td>0.200997</td>\n",
       "    </tr>\n",
       "    <tr>\n",
       "      <th>5</th>\n",
       "      <td>5</td>\n",
       "      <td>8.405901</td>\n",
       "      <td>0.135239</td>\n",
       "    </tr>\n",
       "    <tr>\n",
       "      <th>6</th>\n",
       "      <td>6</td>\n",
       "      <td>8.709854</td>\n",
       "      <td>0.190565</td>\n",
       "    </tr>\n",
       "    <tr>\n",
       "      <th>7</th>\n",
       "      <td>7</td>\n",
       "      <td>9.301615</td>\n",
       "      <td>0.231721</td>\n",
       "    </tr>\n",
       "    <tr>\n",
       "      <th>8</th>\n",
       "      <td>8</td>\n",
       "      <td>10.895111</td>\n",
       "      <td>0.207713</td>\n",
       "    </tr>\n",
       "    <tr>\n",
       "      <th>9</th>\n",
       "      <td>9</td>\n",
       "      <td>11.772987</td>\n",
       "      <td>0.226412</td>\n",
       "    </tr>\n",
       "    <tr>\n",
       "      <th>10</th>\n",
       "      <td>10</td>\n",
       "      <td>11.785124</td>\n",
       "      <td>0.299695</td>\n",
       "    </tr>\n",
       "  </tbody>\n",
       "</table>\n",
       "</div>"
      ],
      "text/plain": [
       "    Lag   LB Value   P-Value\n",
       "1     1   3.231289  0.072244\n",
       "2     2   4.121699  0.127346\n",
       "3     3   4.861867  0.182196\n",
       "4     4   5.975353  0.200997\n",
       "5     5   8.405901  0.135239\n",
       "6     6   8.709854  0.190565\n",
       "7     7   9.301615  0.231721\n",
       "8     8  10.895111  0.207713\n",
       "9     9  11.772987  0.226412\n",
       "10   10  11.785124  0.299695"
      ]
     },
     "execution_count": 31,
     "metadata": {},
     "output_type": "execute_result"
    }
   ],
   "source": [
    "residuals = SARIMA_model_fit.resid\n",
    "\n",
    "lb_test = acorr_ljungbox(residuals, lags=np.arange(1, 11))\n",
    "\n",
    "lbvalue = lb_test['lb_stat']\n",
    "pvalue = lb_test['lb_pvalue']\n",
    "\n",
    "df_results = pd.DataFrame({\n",
    "    'Lag': np.arange(1, 11),\n",
    "    'LB Value': lbvalue,\n",
    "    'P-Value': pvalue\n",
    "})\n",
    "\n",
    "df_results"
   ]
  },
  {
   "cell_type": "markdown",
   "metadata": {},
   "source": [
    "The Ljung-Box test results for the SARIMA model's residuals show p-values greater than the common significance levels (e.g., 0.01, 0.05, 0.10) for all lags from 1 to 10. This indicates that we fail to reject the null hypothesis of no autocorrelation in the residuals at these lags. Therefore, the residuals appear to be uncorrelated, suggesting that the SARIMA model has adequately captured the temporal dependencies in the data. The low p-values at lag 1 and subsequent lags suggest that there may be slight autocorrelation at shorter lags, but overall, the model performs well in terms of residual diagnostics."
   ]
  },
  {
   "cell_type": "markdown",
   "metadata": {},
   "source": [
    "#### \"Generating SARIMA Model Predictions for Test Set Period\"\n",
    "\n",
    "Next, let’s generate the predictions from the SARIMA model over the period of the test set."
   ]
  },
  {
   "cell_type": "code",
   "execution_count": 32,
   "metadata": {},
   "outputs": [
    {
     "data": {
      "text/html": [
       "<div>\n",
       "<style scoped>\n",
       "    .dataframe tbody tr th:only-of-type {\n",
       "        vertical-align: middle;\n",
       "    }\n",
       "\n",
       "    .dataframe tbody tr th {\n",
       "        vertical-align: top;\n",
       "    }\n",
       "\n",
       "    .dataframe thead th {\n",
       "        text-align: right;\n",
       "    }\n",
       "</style>\n",
       "<table border=\"1\" class=\"dataframe\">\n",
       "  <thead>\n",
       "    <tr style=\"text-align: right;\">\n",
       "      <th></th>\n",
       "      <th>ds</th>\n",
       "      <th>y</th>\n",
       "      <th>yhat</th>\n",
       "      <th>yhat_lower</th>\n",
       "      <th>yhat_upper</th>\n",
       "      <th>baseline</th>\n",
       "    </tr>\n",
       "  </thead>\n",
       "  <tbody>\n",
       "    <tr>\n",
       "      <th>233</th>\n",
       "      <td>2023-06-30</td>\n",
       "      <td>68</td>\n",
       "      <td>67.189485</td>\n",
       "      <td>60.026659</td>\n",
       "      <td>74.337605</td>\n",
       "      <td>66.482558</td>\n",
       "    </tr>\n",
       "    <tr>\n",
       "      <th>234</th>\n",
       "      <td>2023-07-31</td>\n",
       "      <td>63</td>\n",
       "      <td>64.197017</td>\n",
       "      <td>57.261544</td>\n",
       "      <td>70.854885</td>\n",
       "      <td>63.210312</td>\n",
       "    </tr>\n",
       "    <tr>\n",
       "      <th>235</th>\n",
       "      <td>2023-08-31</td>\n",
       "      <td>54</td>\n",
       "      <td>58.017038</td>\n",
       "      <td>51.100269</td>\n",
       "      <td>64.968420</td>\n",
       "      <td>56.843286</td>\n",
       "    </tr>\n",
       "    <tr>\n",
       "      <th>236</th>\n",
       "      <td>2023-09-30</td>\n",
       "      <td>50</td>\n",
       "      <td>55.193440</td>\n",
       "      <td>47.571486</td>\n",
       "      <td>62.539307</td>\n",
       "      <td>54.191116</td>\n",
       "    </tr>\n",
       "    <tr>\n",
       "      <th>237</th>\n",
       "      <td>2023-10-31</td>\n",
       "      <td>44</td>\n",
       "      <td>49.821112</td>\n",
       "      <td>42.936461</td>\n",
       "      <td>57.087511</td>\n",
       "      <td>48.898243</td>\n",
       "    </tr>\n",
       "    <tr>\n",
       "      <th>238</th>\n",
       "      <td>2023-11-30</td>\n",
       "      <td>43</td>\n",
       "      <td>47.054215</td>\n",
       "      <td>40.313916</td>\n",
       "      <td>53.645892</td>\n",
       "      <td>46.503165</td>\n",
       "    </tr>\n",
       "    <tr>\n",
       "      <th>239</th>\n",
       "      <td>2023-12-31</td>\n",
       "      <td>43</td>\n",
       "      <td>46.452097</td>\n",
       "      <td>39.215487</td>\n",
       "      <td>53.245876</td>\n",
       "      <td>45.998321</td>\n",
       "    </tr>\n",
       "    <tr>\n",
       "      <th>240</th>\n",
       "      <td>2024-01-31</td>\n",
       "      <td>44</td>\n",
       "      <td>53.606512</td>\n",
       "      <td>46.664058</td>\n",
       "      <td>60.847697</td>\n",
       "      <td>52.594303</td>\n",
       "    </tr>\n",
       "    <tr>\n",
       "      <th>241</th>\n",
       "      <td>2024-02-29</td>\n",
       "      <td>56</td>\n",
       "      <td>72.314881</td>\n",
       "      <td>65.424291</td>\n",
       "      <td>79.116110</td>\n",
       "      <td>71.651660</td>\n",
       "    </tr>\n",
       "    <tr>\n",
       "      <th>242</th>\n",
       "      <td>2024-03-31</td>\n",
       "      <td>71</td>\n",
       "      <td>79.494304</td>\n",
       "      <td>72.524778</td>\n",
       "      <td>86.430114</td>\n",
       "      <td>78.424784</td>\n",
       "    </tr>\n",
       "    <tr>\n",
       "      <th>243</th>\n",
       "      <td>2024-04-30</td>\n",
       "      <td>63</td>\n",
       "      <td>71.348425</td>\n",
       "      <td>64.160156</td>\n",
       "      <td>77.961518</td>\n",
       "      <td>69.234487</td>\n",
       "    </tr>\n",
       "    <tr>\n",
       "      <th>244</th>\n",
       "      <td>2024-05-31</td>\n",
       "      <td>76</td>\n",
       "      <td>83.443092</td>\n",
       "      <td>76.896567</td>\n",
       "      <td>90.520604</td>\n",
       "      <td>81.589113</td>\n",
       "    </tr>\n",
       "  </tbody>\n",
       "</table>\n",
       "</div>"
      ],
      "text/plain": [
       "            ds   y       yhat  yhat_lower  yhat_upper   baseline\n",
       "233 2023-06-30  68  67.189485   60.026659   74.337605  66.482558\n",
       "234 2023-07-31  63  64.197017   57.261544   70.854885  63.210312\n",
       "235 2023-08-31  54  58.017038   51.100269   64.968420  56.843286\n",
       "236 2023-09-30  50  55.193440   47.571486   62.539307  54.191116\n",
       "237 2023-10-31  44  49.821112   42.936461   57.087511  48.898243\n",
       "238 2023-11-30  43  47.054215   40.313916   53.645892  46.503165\n",
       "239 2023-12-31  43  46.452097   39.215487   53.245876  45.998321\n",
       "240 2024-01-31  44  53.606512   46.664058   60.847697  52.594303\n",
       "241 2024-02-29  56  72.314881   65.424291   79.116110  71.651660\n",
       "242 2024-03-31  71  79.494304   72.524778   86.430114  78.424784\n",
       "243 2024-04-30  63  71.348425   64.160156   77.961518  69.234487\n",
       "244 2024-05-31  76  83.443092   76.896567   90.520604  81.589113"
      ]
     },
     "execution_count": 32,
     "metadata": {},
     "output_type": "execute_result"
    }
   ],
   "source": [
    "test"
   ]
  },
  {
   "cell_type": "code",
   "execution_count": 33,
   "metadata": {},
   "outputs": [
    {
     "data": {
      "text/html": [
       "<div>\n",
       "<style scoped>\n",
       "    .dataframe tbody tr th:only-of-type {\n",
       "        vertical-align: middle;\n",
       "    }\n",
       "\n",
       "    .dataframe tbody tr th {\n",
       "        vertical-align: top;\n",
       "    }\n",
       "\n",
       "    .dataframe thead th {\n",
       "        text-align: right;\n",
       "    }\n",
       "</style>\n",
       "<table border=\"1\" class=\"dataframe\">\n",
       "  <thead>\n",
       "    <tr style=\"text-align: right;\">\n",
       "      <th></th>\n",
       "      <th>ds</th>\n",
       "      <th>y</th>\n",
       "      <th>yhat</th>\n",
       "      <th>yhat_lower</th>\n",
       "      <th>yhat_upper</th>\n",
       "      <th>baseline</th>\n",
       "      <th>SARIMA_pred</th>\n",
       "    </tr>\n",
       "  </thead>\n",
       "  <tbody>\n",
       "    <tr>\n",
       "      <th>233</th>\n",
       "      <td>2023-06-30</td>\n",
       "      <td>68</td>\n",
       "      <td>67.189485</td>\n",
       "      <td>60.026659</td>\n",
       "      <td>74.337605</td>\n",
       "      <td>66.482558</td>\n",
       "      <td>69.640783</td>\n",
       "    </tr>\n",
       "    <tr>\n",
       "      <th>234</th>\n",
       "      <td>2023-07-31</td>\n",
       "      <td>63</td>\n",
       "      <td>64.197017</td>\n",
       "      <td>57.261544</td>\n",
       "      <td>70.854885</td>\n",
       "      <td>63.210312</td>\n",
       "      <td>64.567969</td>\n",
       "    </tr>\n",
       "    <tr>\n",
       "      <th>235</th>\n",
       "      <td>2023-08-31</td>\n",
       "      <td>54</td>\n",
       "      <td>58.017038</td>\n",
       "      <td>51.100269</td>\n",
       "      <td>64.968420</td>\n",
       "      <td>56.843286</td>\n",
       "      <td>55.968631</td>\n",
       "    </tr>\n",
       "    <tr>\n",
       "      <th>236</th>\n",
       "      <td>2023-09-30</td>\n",
       "      <td>50</td>\n",
       "      <td>55.193440</td>\n",
       "      <td>47.571486</td>\n",
       "      <td>62.539307</td>\n",
       "      <td>54.191116</td>\n",
       "      <td>51.479605</td>\n",
       "    </tr>\n",
       "    <tr>\n",
       "      <th>237</th>\n",
       "      <td>2023-10-31</td>\n",
       "      <td>44</td>\n",
       "      <td>49.821112</td>\n",
       "      <td>42.936461</td>\n",
       "      <td>57.087511</td>\n",
       "      <td>48.898243</td>\n",
       "      <td>46.969352</td>\n",
       "    </tr>\n",
       "    <tr>\n",
       "      <th>238</th>\n",
       "      <td>2023-11-30</td>\n",
       "      <td>43</td>\n",
       "      <td>47.054215</td>\n",
       "      <td>40.313916</td>\n",
       "      <td>53.645892</td>\n",
       "      <td>46.503165</td>\n",
       "      <td>45.266281</td>\n",
       "    </tr>\n",
       "    <tr>\n",
       "      <th>239</th>\n",
       "      <td>2023-12-31</td>\n",
       "      <td>43</td>\n",
       "      <td>46.452097</td>\n",
       "      <td>39.215487</td>\n",
       "      <td>53.245876</td>\n",
       "      <td>45.998321</td>\n",
       "      <td>45.474294</td>\n",
       "    </tr>\n",
       "    <tr>\n",
       "      <th>240</th>\n",
       "      <td>2024-01-31</td>\n",
       "      <td>44</td>\n",
       "      <td>53.606512</td>\n",
       "      <td>46.664058</td>\n",
       "      <td>60.847697</td>\n",
       "      <td>52.594303</td>\n",
       "      <td>52.184043</td>\n",
       "    </tr>\n",
       "    <tr>\n",
       "      <th>241</th>\n",
       "      <td>2024-02-29</td>\n",
       "      <td>56</td>\n",
       "      <td>72.314881</td>\n",
       "      <td>65.424291</td>\n",
       "      <td>79.116110</td>\n",
       "      <td>71.651660</td>\n",
       "      <td>69.843050</td>\n",
       "    </tr>\n",
       "    <tr>\n",
       "      <th>242</th>\n",
       "      <td>2024-03-31</td>\n",
       "      <td>71</td>\n",
       "      <td>79.494304</td>\n",
       "      <td>72.524778</td>\n",
       "      <td>86.430114</td>\n",
       "      <td>78.424784</td>\n",
       "      <td>76.934041</td>\n",
       "    </tr>\n",
       "    <tr>\n",
       "      <th>243</th>\n",
       "      <td>2024-04-30</td>\n",
       "      <td>63</td>\n",
       "      <td>71.348425</td>\n",
       "      <td>64.160156</td>\n",
       "      <td>77.961518</td>\n",
       "      <td>69.234487</td>\n",
       "      <td>72.042822</td>\n",
       "    </tr>\n",
       "    <tr>\n",
       "      <th>244</th>\n",
       "      <td>2024-05-31</td>\n",
       "      <td>76</td>\n",
       "      <td>83.443092</td>\n",
       "      <td>76.896567</td>\n",
       "      <td>90.520604</td>\n",
       "      <td>81.589113</td>\n",
       "      <td>78.621130</td>\n",
       "    </tr>\n",
       "  </tbody>\n",
       "</table>\n",
       "</div>"
      ],
      "text/plain": [
       "            ds   y       yhat  yhat_lower  yhat_upper   baseline  SARIMA_pred\n",
       "233 2023-06-30  68  67.189485   60.026659   74.337605  66.482558    69.640783\n",
       "234 2023-07-31  63  64.197017   57.261544   70.854885  63.210312    64.567969\n",
       "235 2023-08-31  54  58.017038   51.100269   64.968420  56.843286    55.968631\n",
       "236 2023-09-30  50  55.193440   47.571486   62.539307  54.191116    51.479605\n",
       "237 2023-10-31  44  49.821112   42.936461   57.087511  48.898243    46.969352\n",
       "238 2023-11-30  43  47.054215   40.313916   53.645892  46.503165    45.266281\n",
       "239 2023-12-31  43  46.452097   39.215487   53.245876  45.998321    45.474294\n",
       "240 2024-01-31  44  53.606512   46.664058   60.847697  52.594303    52.184043\n",
       "241 2024-02-29  56  72.314881   65.424291   79.116110  71.651660    69.843050\n",
       "242 2024-03-31  71  79.494304   72.524778   86.430114  78.424784    76.934041\n",
       "243 2024-04-30  63  71.348425   64.160156   77.961518  69.234487    72.042822\n",
       "244 2024-05-31  76  83.443092   76.896567   90.520604  81.589113    78.621130"
      ]
     },
     "execution_count": 33,
     "metadata": {},
     "output_type": "execute_result"
    }
   ],
   "source": [
    "start = len(train)\n",
    "end = len(train) + len(test) - 1\n",
    "\n",
    "SARIMA_pred = SARIMA_model_fit.get_prediction(start=start, end=end).predicted_mean\n",
    "\n",
    "test['SARIMA_pred'] = SARIMA_pred\n",
    "\n",
    "test"
   ]
  },
  {
   "cell_type": "code",
   "execution_count": 34,
   "metadata": {},
   "outputs": [],
   "source": [
    "test.to_csv(csv_output_path)"
   ]
  },
  {
   "cell_type": "markdown",
   "metadata": {},
   "source": [
    "#### Evaluating and Comparing SARIMA Model Performance\n",
    "\n",
    "Finally, we will evaluate the performance of the SARIMA model and append its metrics to the existing model performance comparisons."
   ]
  },
  {
   "cell_type": "code",
   "execution_count": 35,
   "metadata": {},
   "outputs": [
    {
     "data": {
      "text/html": [
       "<div>\n",
       "<style scoped>\n",
       "    .dataframe tbody tr th:only-of-type {\n",
       "        vertical-align: middle;\n",
       "    }\n",
       "\n",
       "    .dataframe tbody tr th {\n",
       "        vertical-align: top;\n",
       "    }\n",
       "\n",
       "    .dataframe thead th {\n",
       "        text-align: right;\n",
       "    }\n",
       "</style>\n",
       "<table border=\"1\" class=\"dataframe\">\n",
       "  <thead>\n",
       "    <tr style=\"text-align: right;\">\n",
       "      <th></th>\n",
       "      <th>Model</th>\n",
       "      <th>MAE</th>\n",
       "      <th>MSE</th>\n",
       "    </tr>\n",
       "  </thead>\n",
       "  <tbody>\n",
       "    <tr>\n",
       "      <th>0</th>\n",
       "      <td>Prophet</td>\n",
       "      <td>6.229388</td>\n",
       "      <td>55.262220</td>\n",
       "    </tr>\n",
       "    <tr>\n",
       "      <th>1</th>\n",
       "      <td>Baseline</td>\n",
       "      <td>5.304686</td>\n",
       "      <td>43.110201</td>\n",
       "    </tr>\n",
       "    <tr>\n",
       "      <th>2</th>\n",
       "      <td>SARIMA</td>\n",
       "      <td>4.499333</td>\n",
       "      <td>34.479586</td>\n",
       "    </tr>\n",
       "  </tbody>\n",
       "</table>\n",
       "</div>"
      ],
      "text/plain": [
       "      Model       MAE        MSE\n",
       "0   Prophet  6.229388  55.262220\n",
       "1  Baseline  5.304686  43.110201\n",
       "2    SARIMA  4.499333  34.479586"
      ]
     },
     "execution_count": 35,
     "metadata": {},
     "output_type": "execute_result"
    }
   ],
   "source": [
    "sarima_mae = mean_absolute_error(test['y'], test['SARIMA_pred'])\n",
    "sarima_mse = mean_squared_error(test['y'], test['SARIMA_pred'])\n",
    "\n",
    "performance_comparison = pd.DataFrame({\n",
    "    'Model': ['Prophet', 'Baseline', 'SARIMA'],\n",
    "    'MAE': [prophet_mae, baseline_mae, sarima_mae],\n",
    "    'MSE': [prophet_mse, baseline_mse, sarima_mse]\n",
    "})\n",
    "\n",
    "performance_comparison"
   ]
  },
  {
   "cell_type": "markdown",
   "metadata": {},
   "source": [
    "The performance comparison table shows the Mean Absolute Error (\\(MAE\\)) and Mean Squared Error (\\(MSE\\)) for three models: Prophet, Baseline, and SARIMA. The SARIMA model outperforms the other models with the lowest \\(MAE\\) of \\(4.499333\\) and the lowest \\(MSE\\) of \\(34.479586\\). This indicates that the SARIMA model's predictions are, on average, closer to the actual values and have smaller errors compared to the Prophet and Baseline models. The Baseline model performs better than the Prophet model, with an \\(MAE\\) of \\(5.304686\\) and an \\(MSE\\) of \\(43.110201\\), compared to the Prophet model's \\(MAE\\) of \\(5.955546\\) and \\(MSE\\) of \\(51.226327\\). Thus, the SARIMA model provides the most accurate forecasts among the three models evaluated.\n"
   ]
  },
  {
   "cell_type": "code",
   "execution_count": 36,
   "metadata": {},
   "outputs": [
    {
     "data": {
      "image/png": "[encoded data removed]",
      "text/plain": [
       "<Figure size 1000x750 with 1 Axes>"
      ]
     },
     "metadata": {},
     "output_type": "display_data"
    }
   ],
   "source": [
    "fig, ax = plt.subplots()\n",
    "\n",
    "ax.plot(train.index, train['y'], label='Training Data')\n",
    "ax.plot(test.index, test['y'], 'b-', label='Actual')\n",
    "ax.plot(test.index, test['baseline'], 'k:', label='Baseline')\n",
    "ax.plot(test.index, test['yhat'], color='darkorange', ls='--', lw=3, label='Prophet Predictions')\n",
    "ax.plot(test.index, test['SARIMA_pred'], color='green', ls='-.', lw=2, label='SARIMA Predictions')\n",
    "\n",
    "ax.set_xlabel('Date')\n",
    "ax.set_ylabel('Proportion of searches using the keyword \"flowers\"')\n",
    "ax.legend(loc='best')\n",
    "\n",
    "ax.axvspan(test.index[0], test.index[-1], color='#808080', alpha=0.1)\n",
    "\n",
    "tick_locations = np.arange(0, len(df), 12)\n",
    "tick_labels = np.arange(2004, 2025, 1)[:len(tick_locations)]\n",
    "plt.xticks(tick_locations, tick_labels, rotation=45)\n",
    "\n",
    "plt.fill_between(test.index, test['yhat_lower'], test['yhat_upper'], color='lightblue', alpha=0.5)\n",
    "\n",
    "plt.xlim(train.index[-36], test.index[-1])\n",
    "\n",
    "fig.autofmt_xdate()\n",
    "\n",
    "plt.tight_layout()\n",
    "\n",
    "plt.savefig(fig_path, dpi=300)\n",
    "\n",
    "plt.show()"
   ]
  },
  {
   "cell_type": "markdown",
   "metadata": {},
   "source": [
    "## Generating Future Forecasts with SARIMA\n",
    "\n",
    "Let's generate the future forecast for the next 12 months using SARIMA, which has proven to be the best performing model."
   ]
  },
  {
   "cell_type": "code",
   "execution_count": 37,
   "metadata": {},
   "outputs": [
    {
     "data": {
      "text/html": [
       "<div>\n",
       "<style scoped>\n",
       "    .dataframe tbody tr th:only-of-type {\n",
       "        vertical-align: middle;\n",
       "    }\n",
       "\n",
       "    .dataframe tbody tr th {\n",
       "        vertical-align: top;\n",
       "    }\n",
       "\n",
       "    .dataframe thead th {\n",
       "        text-align: right;\n",
       "    }\n",
       "</style>\n",
       "<table border=\"1\" class=\"dataframe\">\n",
       "  <thead>\n",
       "    <tr style=\"text-align: right;\">\n",
       "      <th></th>\n",
       "      <th>forecast</th>\n",
       "      <th>ci_lower</th>\n",
       "      <th>ci_upper</th>\n",
       "    </tr>\n",
       "  </thead>\n",
       "  <tbody>\n",
       "    <tr>\n",
       "      <th>2024-06-30</th>\n",
       "      <td>69.640783</td>\n",
       "      <td>61.652387</td>\n",
       "      <td>77.629180</td>\n",
       "    </tr>\n",
       "    <tr>\n",
       "      <th>2024-07-31</th>\n",
       "      <td>64.567969</td>\n",
       "      <td>54.620555</td>\n",
       "      <td>74.515383</td>\n",
       "    </tr>\n",
       "    <tr>\n",
       "      <th>2024-08-31</th>\n",
       "      <td>55.968631</td>\n",
       "      <td>45.328254</td>\n",
       "      <td>66.609009</td>\n",
       "    </tr>\n",
       "    <tr>\n",
       "      <th>2024-09-30</th>\n",
       "      <td>51.479605</td>\n",
       "      <td>40.626845</td>\n",
       "      <td>62.332366</td>\n",
       "    </tr>\n",
       "    <tr>\n",
       "      <th>2024-10-31</th>\n",
       "      <td>46.969352</td>\n",
       "      <td>36.029387</td>\n",
       "      <td>57.909317</td>\n",
       "    </tr>\n",
       "    <tr>\n",
       "      <th>2024-11-30</th>\n",
       "      <td>45.266281</td>\n",
       "      <td>34.212065</td>\n",
       "      <td>56.320498</td>\n",
       "    </tr>\n",
       "    <tr>\n",
       "      <th>2024-12-31</th>\n",
       "      <td>45.474294</td>\n",
       "      <td>34.128597</td>\n",
       "      <td>56.819991</td>\n",
       "    </tr>\n",
       "    <tr>\n",
       "      <th>2025-01-31</th>\n",
       "      <td>52.184043</td>\n",
       "      <td>40.184209</td>\n",
       "      <td>64.183878</td>\n",
       "    </tr>\n",
       "    <tr>\n",
       "      <th>2025-02-28</th>\n",
       "      <td>69.843050</td>\n",
       "      <td>56.758093</td>\n",
       "      <td>82.928007</td>\n",
       "    </tr>\n",
       "    <tr>\n",
       "      <th>2025-03-31</th>\n",
       "      <td>76.934041</td>\n",
       "      <td>62.482951</td>\n",
       "      <td>91.385130</td>\n",
       "    </tr>\n",
       "    <tr>\n",
       "      <th>2025-04-30</th>\n",
       "      <td>72.042822</td>\n",
       "      <td>56.212024</td>\n",
       "      <td>87.873620</td>\n",
       "    </tr>\n",
       "    <tr>\n",
       "      <th>2025-05-31</th>\n",
       "      <td>78.621130</td>\n",
       "      <td>61.617733</td>\n",
       "      <td>95.624528</td>\n",
       "    </tr>\n",
       "  </tbody>\n",
       "</table>\n",
       "</div>"
      ],
      "text/plain": [
       "             forecast   ci_lower   ci_upper\n",
       "2024-06-30  69.640783  61.652387  77.629180\n",
       "2024-07-31  64.567969  54.620555  74.515383\n",
       "2024-08-31  55.968631  45.328254  66.609009\n",
       "2024-09-30  51.479605  40.626845  62.332366\n",
       "2024-10-31  46.969352  36.029387  57.909317\n",
       "2024-11-30  45.266281  34.212065  56.320498\n",
       "2024-12-31  45.474294  34.128597  56.819991\n",
       "2025-01-31  52.184043  40.184209  64.183878\n",
       "2025-02-28  69.843050  56.758093  82.928007\n",
       "2025-03-31  76.934041  62.482951  91.385130\n",
       "2025-04-30  72.042822  56.212024  87.873620\n",
       "2025-05-31  78.621130  61.617733  95.624528"
      ]
     },
     "execution_count": 37,
     "metadata": {},
     "output_type": "execute_result"
    }
   ],
   "source": [
    "forecast_horizon = 12\n",
    "\n",
    "forecast = SARIMA_model_fit.get_forecast(steps=forecast_horizon)\n",
    "\n",
    "last_date = test['ds'].max()\n",
    "forecast_index = pd.date_range(start=last_date + pd.DateOffset(months=1), periods=forecast_horizon, freq='M')\n",
    "\n",
    "forecast_mean = forecast.predicted_mean\n",
    "forecast_ci = forecast.conf_int()\n",
    "\n",
    "forecast_df = pd.DataFrame({\n",
    "    'forecast': forecast_mean.values,\n",
    "    'ci_lower': forecast_ci.iloc[:, 0].values,\n",
    "    'ci_upper': forecast_ci.iloc[:, 1].values\n",
    "}, index=forecast_index)\n",
    "\n",
    "forecast_df"
   ]
  },
  {
   "cell_type": "markdown",
   "metadata": {},
   "source": [
    "#### Saving Forecast Results to CSV File"
   ]
  },
  {
   "cell_type": "code",
   "execution_count": 38,
   "metadata": {},
   "outputs": [],
   "source": [
    "forecast_df.to_csv(csv_output_path)"
   ]
  },
  {
   "cell_type": "markdown",
   "metadata": {},
   "source": [
    "### Conclusion\n",
    "\n",
    "Nicolas Vandeput says in his book [Inventory Optimization: Models and Simulations](https://amzn.eu/d/0VEXlHI): \"As supply chain scientists, we have to make trade-offs for our models between complexity and accuracy on one side, and simplicity and practicality on the other. As Jordan Ellenberg explained in his book [How Not to Be Wrong: The Power of Mathematical Thinking](https://amzn.eu/d/edXzDHa): 'If the universe hands you a hard problem, try to solve an easier one instead, and hope the simple version is close enough to the original problem that the universe doesn’t object.' This is exactly what we will do. A complex model will most likely be more accurate, resulting in fewer costs and more profits, but less understandable and usable for different users. A simple model, on the other hand, will be less accurate, resulting in higher costs and waste, but might be more usable and sustainable for a business process. At some point, it is better for a model to be 80% accurate but trusted and always used, rather than be 95% accurate and never used nor well understood. There is a Latin saying, 'Vires acquirit eundo,' which means, 'We gather strength as we go.' This represents perfectly the path we will follow in this book: as shown in Figure 2, we will start with a simple model and, as we apply it, we will learn new things. These will allow us to build a stronger model. And so on. We will gather insights and intuitions about supply chains as we go.\""
   ]
  }
 ],
 "metadata": {
  "kernelspec": {
   "display_name": "myenv",
   "language": "python",
   "name": "python3"
  },
  "language_info": {
   "codemirror_mode": {
    "name": "ipython",
    "version": 3
   },
   "file_extension": ".py",
   "mimetype": "text/x-python",
   "name": "python",
   "nbconvert_exporter": "python",
   "pygments_lexer": "ipython3",
   "version": "3.11.5"
  }
 },
 "nbformat": 4,
 "nbformat_minor": 2
}
